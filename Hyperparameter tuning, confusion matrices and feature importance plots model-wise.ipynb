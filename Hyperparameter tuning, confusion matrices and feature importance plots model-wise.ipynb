{
  "nbformat": 4,
  "nbformat_minor": 0,
  "metadata": {
    "colab": {
      "name": "Hyperparameter tuning, confusion matrices and feature importance plots model-wise.ipynb",
      "provenance": [],
      "collapsed_sections": [
        "oUmuk_cS5Ll7"
      ]
    },
    "kernelspec": {
      "name": "python3",
      "display_name": "Python 3"
    }
  },
  "cells": [
    {
      "cell_type": "code",
      "metadata": {
        "id": "W6uK5AQVjw7Z"
      },
      "source": [
        "import pandas as pd\n",
        "import numpy as np\n",
        "import matplotlib.pyplot as plt\n",
        "import seaborn as sns \n",
        "\n",
        "%matplotlib inline"
      ],
      "execution_count": null,
      "outputs": []
    },
    {
      "cell_type": "code",
      "metadata": {
        "colab": {
          "base_uri": "https://localhost:8080/"
        },
        "id": "HPFueTx_GrEL",
        "outputId": "96f335c6-0e52-4a30-bf58-912938ff289b"
      },
      "source": [
        "from google.colab import drive\n",
        "drive.mount('/content/drive')"
      ],
      "execution_count": null,
      "outputs": [
        {
          "output_type": "stream",
          "text": [
            "Mounted at /content/drive\n"
          ],
          "name": "stdout"
        }
      ]
    },
    {
      "cell_type": "code",
      "metadata": {
        "id": "ydzk2lpykerP"
      },
      "source": [
        "import os\n",
        "os.chdir(\"/content/drive/MyDrive/SOP-ALZ LINGUISTICS/Datasets\")"
      ],
      "execution_count": null,
      "outputs": []
    },
    {
      "cell_type": "markdown",
      "metadata": {
        "id": "HxVyPyfEt22m"
      },
      "source": [
        "## Hyperparameter tuning for classifiers (both multi-class & binary) and finding feature importance for each model.\n",
        "\n",
        "For binary classification, we have the following 2 categories - Probable AD and Control, and for multiclass classification we have all 6 categories that were there in the dataset."
      ]
    },
    {
      "cell_type": "code",
      "metadata": {
        "id": "xAsGvZdUtFk_"
      },
      "source": [
        "df1 = pd.read_csv('train2.csv')       # Loading the last saved csv file that had the final preprocessed data"
      ],
      "execution_count": null,
      "outputs": []
    },
    {
      "cell_type": "code",
      "metadata": {
        "colab": {
          "base_uri": "https://localhost:8080/"
        },
        "id": "lkqJwuVAY5nq",
        "outputId": "3ab0e93d-fa9d-4ce9-b64c-3255e8c97741"
      },
      "source": [
        "# We will use 2 dataframes, one for Binary and another for Multiclass classification\n",
        "\n",
        "df_binary = df1.copy()\n",
        "df_multiclass = df1.copy()\n",
        "df_binary = df_binary[df_binary[\"Group\"] != \"MCI\"]\n",
        "df_binary = df_binary[df_binary[\"Group\"] != \"Vascular\"]\n",
        "df_binary = df_binary[df_binary[\"Group\"] != \"Memory\"]\n",
        "df_binary = df_binary[df_binary[\"Group\"] != \"PossibleAD\"]\n",
        "\n",
        "print(\"\\nBinary:\")                    # Class distribution for binary classification\n",
        "df_binary.Group.value_counts()\n"
      ],
      "execution_count": null,
      "outputs": [
        {
          "output_type": "stream",
          "text": [
            "\n",
            "Binary:\n"
          ],
          "name": "stdout"
        },
        {
          "output_type": "execute_result",
          "data": {
            "text/plain": [
              "ProbableAD    762\n",
              "Control       243\n",
              "Name: Group, dtype: int64"
            ]
          },
          "metadata": {
            "tags": []
          },
          "execution_count": 27
        }
      ]
    },
    {
      "cell_type": "code",
      "metadata": {
        "colab": {
          "base_uri": "https://localhost:8080/"
        },
        "id": "NCw96jrzZw3o",
        "outputId": "1e47ca70-ec62-4933-9a31-78f00bbde775"
      },
      "source": [
        "print(\"\\nMulticlass:\")              # Class distribution for multi-class classification\n",
        "df_multiclass.Group.value_counts()"
      ],
      "execution_count": null,
      "outputs": [
        {
          "output_type": "stream",
          "text": [
            "\n",
            "Multiclass:\n"
          ],
          "name": "stdout"
        },
        {
          "output_type": "execute_result",
          "data": {
            "text/plain": [
              "ProbableAD    762\n",
              "Control       243\n",
              "MCI           162\n",
              "PossibleAD     68\n",
              "Vascular       20\n",
              "Memory         12\n",
              "Name: Group, dtype: int64"
            ]
          },
          "metadata": {
            "tags": []
          },
          "execution_count": 28
        }
      ]
    },
    {
      "cell_type": "markdown",
      "metadata": {
        "id": "RpmsGW4ObIoI"
      },
      "source": [
        "### Binary Classification "
      ]
    },
    {
      "cell_type": "code",
      "metadata": {
        "id": "SSKMM49raBxe"
      },
      "source": [
        "X = df_binary.drop(columns = ['Group'])\n",
        "y = df_binary.Group"
      ],
      "execution_count": null,
      "outputs": []
    },
    {
      "cell_type": "code",
      "metadata": {
        "id": "JjzIbUZLanmj"
      },
      "source": [
        "from sklearn.model_selection import train_test_split\n",
        "X_train, X_test, y_train, y_test = train_test_split(X, y, test_size=0.2, random_state=12)"
      ],
      "execution_count": null,
      "outputs": []
    },
    {
      "cell_type": "code",
      "metadata": {
        "id": "pSbrLRPubRyx"
      },
      "source": [
        "from sklearn.preprocessing import StandardScaler\n",
        "scaler = StandardScaler()\n",
        "scaled_X_train = scaler.fit_transform(X_train)\n",
        "scaled_X_test = scaler.transform(X_test)"
      ],
      "execution_count": null,
      "outputs": []
    },
    {
      "cell_type": "code",
      "metadata": {
        "id": "FVEWpTVwbT9b"
      },
      "source": [
        "# Importing all things that would be required subsequently\n",
        "\n",
        "from sklearn.model_selection import GridSearchCV          # for hyperparameter tuning\n",
        "\n",
        "from sklearn.tree import DecisionTreeClassifier\n",
        "from sklearn.ensemble import RandomForestClassifier\n",
        "from xgboost.sklearn import XGBClassifier\n",
        "from sklearn.svm import SVC\n",
        "\n",
        "from sklearn.metrics import roc_auc_score, accuracy_score, log_loss, plot_confusion_matrix"
      ],
      "execution_count": null,
      "outputs": []
    },
    {
      "cell_type": "markdown",
      "metadata": {
        "id": "4NhydIRMbYdu"
      },
      "source": [
        "#### Decision Tree"
      ]
    },
    {
      "cell_type": "code",
      "metadata": {
        "colab": {
          "base_uri": "https://localhost:8080/"
        },
        "id": "Y11F9VCSbWuk",
        "outputId": "78fc3c24-1e70-4285-d2c1-521ee1310a86"
      },
      "source": [
        "\n",
        "parameters = {'min_samples_split': np.linspace(0, 0.1, 100), 'max_depth': [i for i in range(7, 10)]}\n",
        "dtc_bin = DecisionTreeClassifier(random_state = 12)\n",
        "\n",
        "clf1 = GridSearchCV(dtc_bin, parameters, cv=5, scoring='accuracy', verbose=5, n_jobs=-1)\n",
        "result = clf1.fit(scaled_X_train, y_train.ravel())\n",
        "print(\"Best: %f using %s\" % (result.best_score_, result.best_params_))"
      ],
      "execution_count": null,
      "outputs": [
        {
          "output_type": "stream",
          "text": [
            "Fitting 5 folds for each of 300 candidates, totalling 1500 fits\n"
          ],
          "name": "stdout"
        },
        {
          "output_type": "stream",
          "text": [
            "[Parallel(n_jobs=-1)]: Using backend LokyBackend with 2 concurrent workers.\n",
            "[Parallel(n_jobs=-1)]: Done  14 tasks      | elapsed:    0.9s\n",
            "[Parallel(n_jobs=-1)]: Done 742 tasks      | elapsed:    6.7s\n"
          ],
          "name": "stderr"
        },
        {
          "output_type": "stream",
          "text": [
            "Best: 0.890543 using {'max_depth': 9, 'min_samples_split': 0.00505050505050505}\n"
          ],
          "name": "stdout"
        },
        {
          "output_type": "stream",
          "text": [
            "[Parallel(n_jobs=-1)]: Done 1500 out of 1500 | elapsed:   12.6s finished\n"
          ],
          "name": "stderr"
        }
      ]
    },
    {
      "cell_type": "code",
      "metadata": {
        "id": "efJLaX_NbbXs"
      },
      "source": [
        "y_pred = clf1.predict(scaled_X_test)"
      ],
      "execution_count": null,
      "outputs": []
    },
    {
      "cell_type": "code",
      "metadata": {
        "colab": {
          "base_uri": "https://localhost:8080/"
        },
        "id": "a8BsZs8fbgrT",
        "outputId": "2e2a44e4-c262-4704-b1f5-ede93c5bb18a"
      },
      "source": [
        "x = (y_pred == y_test.values).sum()\n",
        "print(x, 'Correct out of', len(y_pred))\n",
        "print('Accuracy: ', x/len(y_pred))"
      ],
      "execution_count": null,
      "outputs": [
        {
          "output_type": "stream",
          "text": [
            "172 Correct out of 201\n",
            "Accuracy:  0.8557213930348259\n"
          ],
          "name": "stdout"
        }
      ]
    },
    {
      "cell_type": "code",
      "metadata": {
        "colab": {
          "base_uri": "https://localhost:8080/"
        },
        "id": "ZFDQQChCimMT",
        "outputId": "11e2f61e-dade-4075-b5b1-d47d6e3eee74"
      },
      "source": [
        "from sklearn.metrics import accuracy_score, precision_score, recall_score, f1_score\n",
        "\n",
        "print('Micro Precision: {:.2f}'.format(precision_score(y_test, y_pred, average='micro')))\n",
        "print('Micro Recall: {:.2f}'.format(recall_score(y_test, y_pred, average='micro')))\n",
        "print('Micro F1-score: {:.2f}\\n'.format(f1_score(y_test, y_pred, average='micro')))\n",
        "\n",
        "print('Macro Precision: {:.2f}'.format(precision_score(y_test, y_pred, average='macro')))\n",
        "print('Macro Recall: {:.2f}'.format(recall_score(y_test, y_pred, average='macro')))\n",
        "print('Macro F1-score: {:.2f}\\n'.format(f1_score(y_test, y_pred, average='macro')))\n",
        "\n",
        "print('Weighted Precision: {:.2f}'.format(precision_score(y_test, y_pred, average='weighted')))\n",
        "print('Weighted Recall: {:.2f}'.format(recall_score(y_test, y_pred, average='weighted')))\n",
        "print('Weighted F1-score: {:.2f}'.format(f1_score(y_test, y_pred, average='weighted')))"
      ],
      "execution_count": null,
      "outputs": [
        {
          "output_type": "stream",
          "text": [
            "Micro Precision: 0.86\n",
            "Micro Recall: 0.86\n",
            "Micro F1-score: 0.86\n",
            "\n",
            "Macro Precision: 0.78\n",
            "Macro Recall: 0.78\n",
            "Macro F1-score: 0.78\n",
            "\n",
            "Weighted Precision: 0.86\n",
            "Weighted Recall: 0.86\n",
            "Weighted F1-score: 0.86\n"
          ],
          "name": "stdout"
        }
      ]
    },
    {
      "cell_type": "code",
      "metadata": {
        "colab": {
          "base_uri": "https://localhost:8080/",
          "height": 311
        },
        "id": "dCymq3nsbiuc",
        "outputId": "0dd710ce-baf5-461e-d9dd-3831db90da09"
      },
      "source": [
        "# plotting confusion matrix for decision tree\n",
        "\n",
        "fig, ax = plt.subplots(figsize=(5, 5))\n",
        "plot_confusion_matrix(clf1, scaled_X_test, y_test,  normalize = 'true', cmap=plt.cm.Blues, ax = ax)\n",
        "plt.title(\"Decision Tree - Binary (Confusion Matrix)\")\n",
        "plt.show()"
      ],
      "execution_count": null,
      "outputs": [
        {
          "output_type": "display_data",
          "data": {
            "image/png": "[encoded data removed]",
            "text/plain": [
              "<Figure size 360x360 with 2 Axes>"
            ]
          },
          "metadata": {
            "tags": []
          }
        }
      ]
    },
    {
      "cell_type": "code",
      "metadata": {
        "colab": {
          "base_uri": "https://localhost:8080/",
          "height": 378
        },
        "id": "F0T5kFcb9t9P",
        "outputId": "2d55e430-bfd2-4bc7-c4fd-4d976abfeb3a"
      },
      "source": [
        "# plotting feature importance chart for decision tree\n",
        "\n",
        "importance = clf1.best_estimator_.feature_importances_\n",
        "indices = np.flip(np.argsort(importance)[-10:])\n",
        "plt.bar(X.columns[indices], importance[indices])\n",
        "plt.xticks(rotation = 90)\n",
        "plt.title(\"Decision Tree - Binary (Feature Importance)\")\n",
        "plt.show()"
      ],
      "execution_count": null,
      "outputs": [
        {
          "output_type": "display_data",
          "data": {
            "image/png": "[encoded data removed]",
            "text/plain": [
              "<Figure size 432x288 with 1 Axes>"
            ]
          },
          "metadata": {
            "tags": []
          }
        }
      ]
    },
    {
      "cell_type": "code",
      "metadata": {
        "id": "VQ26u3ypg-ra"
      },
      "source": [
        "dectree_bin = clf1\n",
        "filename_model = []\n",
        "filename_model.append(\"dectree_bin\")"
      ],
      "execution_count": null,
      "outputs": []
    },
    {
      "cell_type": "markdown",
      "metadata": {
        "id": "a_MTx-A4bnTi"
      },
      "source": [
        "#### Random Forest"
      ]
    },
    {
      "cell_type": "code",
      "metadata": {
        "colab": {
          "base_uri": "https://localhost:8080/"
        },
        "id": "IV_mwVogblko",
        "outputId": "8174fb2a-2c22-45c5-957d-fb0910b76b4c"
      },
      "source": [
        "parameters = {'n_estimators': [i*10 for i in range(20, 26)], 'min_samples_split': np.linspace(0, 0.1, 10), 'max_depth': [i for i in range(5, 10)]}\n",
        "\n",
        "rfc_bin = RandomForestClassifier(random_state = 12)\n",
        "clf2 = GridSearchCV(rfc_bin, parameters, cv=5, scoring='accuracy', verbose=5, n_jobs=-1)\n",
        "result = clf2.fit(scaled_X_train, y_train.ravel())\n",
        "print(\"Best: %f using %s\" % (result.best_score_, result.best_params_))"
      ],
      "execution_count": null,
      "outputs": [
        {
          "output_type": "stream",
          "text": [
            "Fitting 5 folds for each of 300 candidates, totalling 1500 fits\n"
          ],
          "name": "stdout"
        },
        {
          "output_type": "stream",
          "text": [
            "[Parallel(n_jobs=-1)]: Using backend LokyBackend with 2 concurrent workers.\n",
            "[Parallel(n_jobs=-1)]: Done  14 tasks      | elapsed:    2.1s\n",
            "[Parallel(n_jobs=-1)]: Done  68 tasks      | elapsed:   17.9s\n",
            "[Parallel(n_jobs=-1)]: Done 158 tasks      | elapsed:   52.0s\n",
            "[Parallel(n_jobs=-1)]: Done 284 tasks      | elapsed:  1.6min\n",
            "[Parallel(n_jobs=-1)]: Done 446 tasks      | elapsed:  2.5min\n",
            "[Parallel(n_jobs=-1)]: Done 644 tasks      | elapsed:  3.6min\n",
            "[Parallel(n_jobs=-1)]: Done 878 tasks      | elapsed:  5.1min\n",
            "[Parallel(n_jobs=-1)]: Done 1148 tasks      | elapsed:  6.7min\n",
            "[Parallel(n_jobs=-1)]: Done 1454 tasks      | elapsed:  8.6min\n",
            "[Parallel(n_jobs=-1)]: Done 1500 out of 1500 | elapsed:  8.9min finished\n"
          ],
          "name": "stderr"
        },
        {
          "output_type": "stream",
          "text": [
            "Best: 0.936592 using {'max_depth': 8, 'min_samples_split': 0.022222222222222223, 'n_estimators': 240}\n"
          ],
          "name": "stdout"
        }
      ]
    },
    {
      "cell_type": "code",
      "metadata": {
        "id": "k_FMPgrabqi0"
      },
      "source": [
        "y_pred = clf2.predict(scaled_X_test)"
      ],
      "execution_count": null,
      "outputs": []
    },
    {
      "cell_type": "code",
      "metadata": {
        "colab": {
          "base_uri": "https://localhost:8080/"
        },
        "id": "MSd9sgW2btve",
        "outputId": "a0ddd14f-e932-481e-c3ff-f3fc1f49275c"
      },
      "source": [
        "x = (y_pred == y_test.values).sum()\n",
        "print(x, 'Correct out of', len(y_pred))\n",
        "print('Accuracy: ', x/len(y_pred))"
      ],
      "execution_count": null,
      "outputs": [
        {
          "output_type": "stream",
          "text": [
            "173 Correct out of 201\n",
            "Accuracy:  0.8606965174129353\n"
          ],
          "name": "stdout"
        }
      ]
    },
    {
      "cell_type": "code",
      "metadata": {
        "colab": {
          "base_uri": "https://localhost:8080/"
        },
        "id": "lZqsV0sqMgGL",
        "outputId": "db2ab16d-ac8d-41d8-935d-6011c31b9da6"
      },
      "source": [
        "from sklearn.metrics import accuracy_score, precision_score, recall_score, f1_score\n",
        "print('Micro Precision: {:.2f}'.format(precision_score(y_test, y_pred, average='micro')))\n",
        "print('Micro Recall: {:.2f}'.format(recall_score(y_test, y_pred, average='micro')))\n",
        "print('Micro F1-score: {:.2f}\\n'.format(f1_score(y_test, y_pred, average='micro')))\n",
        "\n",
        "print('Macro Precision: {:.2f}'.format(precision_score(y_test, y_pred, average='macro')))\n",
        "print('Macro Recall: {:.2f}'.format(recall_score(y_test, y_pred, average='macro')))\n",
        "print('Macro F1-score: {:.2f}\\n'.format(f1_score(y_test, y_pred, average='macro')))\n",
        "\n",
        "print('Weighted Precision: {:.2f}'.format(precision_score(y_test, y_pred, average='weighted')))\n",
        "print('Weighted Recall: {:.2f}'.format(recall_score(y_test, y_pred, average='weighted')))\n",
        "print('Weighted F1-score: {:.2f}'.format(f1_score(y_test, y_pred, average='weighted')))"
      ],
      "execution_count": null,
      "outputs": [
        {
          "output_type": "stream",
          "text": [
            "Micro Precision: 0.86\n",
            "Micro Recall: 0.86\n",
            "Micro F1-score: 0.86\n",
            "\n",
            "Macro Precision: 0.79\n",
            "Macro Recall: 0.75\n",
            "Macro F1-score: 0.77\n",
            "\n",
            "Weighted Precision: 0.85\n",
            "Weighted Recall: 0.86\n",
            "Weighted F1-score: 0.85\n"
          ],
          "name": "stdout"
        }
      ]
    },
    {
      "cell_type": "code",
      "metadata": {
        "colab": {
          "base_uri": "https://localhost:8080/",
          "height": 309
        },
        "id": "O3L_xYEtb3Yh",
        "outputId": "95afb874-2ab2-43d1-ef89-6eba9df08b5c"
      },
      "source": [
        "# plotting confusion matrix for random forest\n",
        "\n",
        "fig, ax = plt.subplots(figsize=(5,5))\n",
        "plot_confusion_matrix(clf2, scaled_X_test, y_test, normalize = 'true', cmap=plt.cm.Blues, ax = ax)\n",
        "plt.title(\"Random Forest - Binary (Confusion Matrix)\")\n",
        "plt.show()"
      ],
      "execution_count": null,
      "outputs": [
        {
          "output_type": "display_data",
          "data": {
            "image/png": "[encoded data removed]",
            "text/plain": [
              "<Figure size 360x360 with 2 Axes>"
            ]
          },
          "metadata": {
            "tags": []
          }
        }
      ]
    },
    {
      "cell_type": "code",
      "metadata": {
        "colab": {
          "base_uri": "https://localhost:8080/",
          "height": 356
        },
        "id": "ZR-jNplCyqac",
        "outputId": "0c663e30-f01a-4cbc-d1cc-b732e590a45e"
      },
      "source": [
        "# plotting feature importance for random forest\n",
        "\n",
        "importance = clf2.best_estimator_.feature_importances_\n",
        "indices = np.flip(np.argsort(importance)[-10:])\n",
        "plt.bar(X.columns[indices], importance[indices])\n",
        "plt.xticks(rotation = 90)\n",
        "plt.title(\"Random Forest - Binary (Feature Importance)\")\n",
        "plt.show()"
      ],
      "execution_count": null,
      "outputs": [
        {
          "output_type": "display_data",
          "data": {
            "image/png": "[encoded data removed]",
            "text/plain": [
              "<Figure size 432x288 with 1 Axes>"
            ]
          },
          "metadata": {
            "tags": []
          }
        }
      ]
    },
    {
      "cell_type": "code",
      "metadata": {
        "id": "LuNQ21slI4ZO"
      },
      "source": [
        "randforest_bin = clf2\n",
        "filename_model.append(\"randforest_bin\")"
      ],
      "execution_count": null,
      "outputs": []
    },
    {
      "cell_type": "markdown",
      "metadata": {
        "id": "C7ea66mScLTD"
      },
      "source": [
        "#### XGB Classifier"
      ]
    },
    {
      "cell_type": "code",
      "metadata": {
        "colab": {
          "base_uri": "https://localhost:8080/"
        },
        "id": "sf2IeVLnb7WT",
        "outputId": "f4295beb-9472-4c62-c462-1e1daf512196"
      },
      "source": [
        "parameters = {'n_estimators': [i*10 for i in range(5, 11)], 'max_depth': [2*i for i in range(1, 5)], 'colsample_bytree': [0.01*i for i in range(60, 70)]}\n",
        "xgb_bin = XGBClassifier(seed = 12)\n",
        "clf3 = GridSearchCV(xgb_bin, parameters, cv=5, scoring='accuracy', verbose=5, n_jobs=-1)\n",
        "result = clf3.fit(scaled_X_train, y_train.ravel())\n",
        "print(\"Best: %f using %s\" % (result.best_score_, result.best_params_))"
      ],
      "execution_count": null,
      "outputs": [
        {
          "output_type": "stream",
          "text": [
            "Fitting 5 folds for each of 240 candidates, totalling 1200 fits\n"
          ],
          "name": "stdout"
        },
        {
          "output_type": "stream",
          "text": [
            "[Parallel(n_jobs=-1)]: Using backend LokyBackend with 2 concurrent workers.\n",
            "[Parallel(n_jobs=-1)]: Done  14 tasks      | elapsed:    1.8s\n",
            "[Parallel(n_jobs=-1)]: Done  68 tasks      | elapsed:    5.9s\n",
            "[Parallel(n_jobs=-1)]: Done 180 tasks      | elapsed:   15.9s\n",
            "[Parallel(n_jobs=-1)]: Done 432 tasks      | elapsed:   38.4s\n",
            "[Parallel(n_jobs=-1)]: Done 756 tasks      | elapsed:  1.1min\n",
            "[Parallel(n_jobs=-1)]: Done 1152 tasks      | elapsed:  1.8min\n",
            "[Parallel(n_jobs=-1)]: Done 1200 out of 1200 | elapsed:  1.9min finished\n"
          ],
          "name": "stderr"
        },
        {
          "output_type": "stream",
          "text": [
            "Best: 0.941553 using {'colsample_bytree': 0.62, 'max_depth': 6, 'n_estimators': 90}\n"
          ],
          "name": "stdout"
        }
      ]
    },
    {
      "cell_type": "code",
      "metadata": {
        "colab": {
          "base_uri": "https://localhost:8080/"
        },
        "id": "3N_aBo9bcOxy",
        "outputId": "d9f5b3de-0a76-427f-fc31-9b9cc47e605c"
      },
      "source": [
        "clf3 = XGBClassifier(colsample_bytree= 0.65, max_depth= 2, n_estimators= 90)\n",
        "clf3.fit(scaled_X_train, y_train.ravel())"
      ],
      "execution_count": null,
      "outputs": [
        {
          "output_type": "execute_result",
          "data": {
            "text/plain": [
              "XGBClassifier(base_score=0.5, booster='gbtree', colsample_bylevel=1,\n",
              "              colsample_bynode=1, colsample_bytree=0.65, gamma=0,\n",
              "              learning_rate=0.1, max_delta_step=0, max_depth=2,\n",
              "              min_child_weight=1, missing=None, n_estimators=90, n_jobs=1,\n",
              "              nthread=None, objective='binary:logistic', random_state=0,\n",
              "              reg_alpha=0, reg_lambda=1, scale_pos_weight=1, seed=None,\n",
              "              silent=None, subsample=1, verbosity=1)"
            ]
          },
          "metadata": {
            "tags": []
          },
          "execution_count": 38
        }
      ]
    },
    {
      "cell_type": "code",
      "metadata": {
        "id": "IhYXNaYgcRKR"
      },
      "source": [
        "y_pred = clf3.predict(scaled_X_test)"
      ],
      "execution_count": null,
      "outputs": []
    },
    {
      "cell_type": "code",
      "metadata": {
        "colab": {
          "base_uri": "https://localhost:8080/",
          "height": 260
        },
        "id": "CcMNBdG7cSc0",
        "outputId": "d9d80f18-7fd5-418a-d1b7-4c1147272458"
      },
      "source": [
        "# plotting confusion matrix for XGBClassifier\n",
        "\n",
        "fig, ax = plt.subplots(figsize=(4, 4))\n",
        "plot_confusion_matrix(clf3, scaled_X_test, y_test,  normalize = 'true', cmap=plt.cm.Blues, ax = ax)\n",
        "plt.title(\"XGB - Binary (Confusion Matrix)\")\n",
        "plt.show()"
      ],
      "execution_count": null,
      "outputs": [
        {
          "output_type": "display_data",
          "data": {
            "image/png": "[encoded data removed]",
            "text/plain": [
              "<Figure size 288x288 with 2 Axes>"
            ]
          },
          "metadata": {
            "tags": []
          }
        }
      ]
    },
    {
      "cell_type": "code",
      "metadata": {
        "colab": {
          "base_uri": "https://localhost:8080/"
        },
        "id": "eslmd3QSPmG6",
        "outputId": "fa760c51-6106-4a64-d5be-3ce8d966bdde"
      },
      "source": [
        "x = (y_pred == y_test.values).sum()\n",
        "print(x, 'Correct out of', len(y_pred))\n",
        "print('Accuracy: ', x/len(y_pred))"
      ],
      "execution_count": null,
      "outputs": [
        {
          "output_type": "stream",
          "text": [
            "180 Correct out of 201\n",
            "Accuracy:  0.8955223880597015\n"
          ],
          "name": "stdout"
        }
      ]
    },
    {
      "cell_type": "code",
      "metadata": {
        "colab": {
          "base_uri": "https://localhost:8080/"
        },
        "id": "eRpZKIAWPHCn",
        "outputId": "8bf51be4-ff24-41be-8cdc-0d311d7cf5ba"
      },
      "source": [
        "from sklearn.metrics import accuracy_score, precision_score, recall_score, f1_score\n",
        "print('Micro Precision: {:.2f}'.format(precision_score(y_test, y_pred, average='micro')))\n",
        "print('Micro Recall: {:.2f}'.format(recall_score(y_test, y_pred, average='micro')))\n",
        "print('Micro F1-score: {:.2f}\\n'.format(f1_score(y_test, y_pred, average='micro')))\n",
        "\n",
        "print('Macro Precision: {:.2f}'.format(precision_score(y_test, y_pred, average='macro')))\n",
        "print('Macro Recall: {:.2f}'.format(recall_score(y_test, y_pred, average='macro')))\n",
        "print('Macro F1-score: {:.2f}\\n'.format(f1_score(y_test, y_pred, average='macro')))\n",
        "\n",
        "print('Weighted Precision: {:.2f}'.format(precision_score(y_test, y_pred, average='weighted')))\n",
        "print('Weighted Recall: {:.2f}'.format(recall_score(y_test, y_pred, average='weighted')))\n",
        "print('Weighted F1-score: {:.2f}'.format(f1_score(y_test, y_pred, average='weighted')))"
      ],
      "execution_count": null,
      "outputs": [
        {
          "output_type": "stream",
          "text": [
            "Micro Precision: 0.90\n",
            "Micro Recall: 0.90\n",
            "Micro F1-score: 0.90\n",
            "\n",
            "Macro Precision: 0.85\n",
            "Macro Recall: 0.82\n",
            "Macro F1-score: 0.83\n",
            "\n",
            "Weighted Precision: 0.89\n",
            "Weighted Recall: 0.90\n",
            "Weighted F1-score: 0.89\n"
          ],
          "name": "stdout"
        }
      ]
    },
    {
      "cell_type": "code",
      "metadata": {
        "colab": {
          "base_uri": "https://localhost:8080/",
          "height": 356
        },
        "id": "zPDkzy4izIDe",
        "outputId": "3d237fe6-38a4-4b19-f3dd-91f62da89713"
      },
      "source": [
        "# plotting feature importance for XGBClassifier\n",
        "\n",
        "importance = clf3.feature_importances_\n",
        "indices = np.flip(np.argsort(importance)[-10:])\n",
        "plt.bar(X.columns[indices], importance[indices])\n",
        "plt.xticks(rotation = 90)\n",
        "plt.title(\"XGB - Binary (Feature Importance)\")\n",
        "plt.show()"
      ],
      "execution_count": null,
      "outputs": [
        {
          "output_type": "display_data",
          "data": {
            "image/png": "[encoded data removed]",
            "text/plain": [
              "<Figure size 432x288 with 1 Axes>"
            ]
          },
          "metadata": {
            "tags": []
          }
        }
      ]
    },
    {
      "cell_type": "code",
      "metadata": {
        "id": "u54XZwqbLp8q"
      },
      "source": [
        "XGB_bin = clf3\n",
        "filename_model.append(\"XGB_bin\")"
      ],
      "execution_count": null,
      "outputs": []
    },
    {
      "cell_type": "markdown",
      "metadata": {
        "id": "c7A5Rd2lcU8m"
      },
      "source": [
        "#### Support Vector Classifier"
      ]
    },
    {
      "cell_type": "code",
      "metadata": {
        "colab": {
          "base_uri": "https://localhost:8080/"
        },
        "id": "IhyHfQL0cUV4",
        "outputId": "2863625a-38a2-4a19-b4c0-529c16801e7c"
      },
      "source": [
        "parameters = {'C': np.linspace(7, 15, 100), 'kernel': ('poly', 'rbf', 'sigmoid')}\n",
        "svc_bin = SVC(random_state = 12)\n",
        "clf4 = GridSearchCV(svc_bin, parameters, cv=5, scoring='accuracy', verbose=5, n_jobs=-1)\n",
        "result = clf4.fit(scaled_X_train, y_train.ravel())\n",
        "print(\"Best: %f using %s\" % (result.best_score_, result.best_params_))"
      ],
      "execution_count": null,
      "outputs": [
        {
          "output_type": "stream",
          "text": [
            "Fitting 5 folds for each of 300 candidates, totalling 1500 fits\n"
          ],
          "name": "stdout"
        },
        {
          "output_type": "stream",
          "text": [
            "[Parallel(n_jobs=-1)]: Using backend LokyBackend with 2 concurrent workers.\n",
            "[Parallel(n_jobs=-1)]: Done  14 tasks      | elapsed:    1.2s\n",
            "[Parallel(n_jobs=-1)]: Done 392 tasks      | elapsed:    6.8s\n",
            "[Parallel(n_jobs=-1)]: Done 1112 tasks      | elapsed:   17.1s\n"
          ],
          "name": "stderr"
        },
        {
          "output_type": "stream",
          "text": [
            "Best: 0.927888 using {'C': 11.202020202020202, 'kernel': 'rbf'}\n"
          ],
          "name": "stdout"
        },
        {
          "output_type": "stream",
          "text": [
            "[Parallel(n_jobs=-1)]: Done 1500 out of 1500 | elapsed:   22.7s finished\n"
          ],
          "name": "stderr"
        }
      ]
    },
    {
      "cell_type": "code",
      "metadata": {
        "id": "qGo4WFufcZvo"
      },
      "source": [
        "y_pred = clf4.predict(scaled_X_test)"
      ],
      "execution_count": null,
      "outputs": []
    },
    {
      "cell_type": "code",
      "metadata": {
        "id": "4XQBMVS5cbEB",
        "colab": {
          "base_uri": "https://localhost:8080/"
        },
        "outputId": "c0d892d4-aed0-43c2-e090-de2cb2354338"
      },
      "source": [
        "x = (y_pred == y_test.values).sum()\n",
        "print(x, 'Correct out of', len(y_pred))\n",
        "print('Accuracy: ', x/len(y_pred))"
      ],
      "execution_count": null,
      "outputs": [
        {
          "output_type": "stream",
          "text": [
            "181 Correct out of 201\n",
            "Accuracy:  0.900497512437811\n"
          ],
          "name": "stdout"
        }
      ]
    },
    {
      "cell_type": "code",
      "metadata": {
        "colab": {
          "base_uri": "https://localhost:8080/"
        },
        "id": "xFbgR-enFbeX",
        "outputId": "9939c520-0e2a-4562-fb7a-e3d2b16f2447"
      },
      "source": [
        "print('Micro Precision: {:.2f}'.format(precision_score(y_test, y_pred, average='micro')))\n",
        "print('Micro Recall: {:.2f}'.format(recall_score(y_test, y_pred, average='micro')))\n",
        "print('Micro F1-score: {:.2f}\\n'.format(f1_score(y_test, y_pred, average='micro')))\n",
        "\n",
        "print('Macro Precision: {:.2f}'.format(precision_score(y_test, y_pred, average='macro')))\n",
        "print('Macro Recall: {:.2f}'.format(recall_score(y_test, y_pred, average='macro')))\n",
        "print('Macro F1-score: {:.2f}\\n'.format(f1_score(y_test, y_pred, average='macro')))\n",
        "\n",
        "print('Weighted Precision: {:.2f}'.format(precision_score(y_test, y_pred, average='weighted')))\n",
        "print('Weighted Recall: {:.2f}'.format(recall_score(y_test, y_pred, average='weighted')))\n",
        "print('Weighted F1-score: {:.2f}'.format(f1_score(y_test, y_pred, average='weighted')))"
      ],
      "execution_count": null,
      "outputs": [
        {
          "output_type": "stream",
          "text": [
            "Micro Precision: 0.90\n",
            "Micro Recall: 0.90\n",
            "Micro F1-score: 0.90\n",
            "\n",
            "Macro Precision: 0.85\n",
            "Macro Recall: 0.85\n",
            "Macro F1-score: 0.85\n",
            "\n",
            "Weighted Precision: 0.90\n",
            "Weighted Recall: 0.90\n",
            "Weighted F1-score: 0.90\n"
          ],
          "name": "stdout"
        }
      ]
    },
    {
      "cell_type": "code",
      "metadata": {
        "colab": {
          "base_uri": "https://localhost:8080/",
          "height": 260
        },
        "id": "mxGUsDt8cdFj",
        "outputId": "610320c3-4f27-4db9-f4ee-1ee7bffa648d"
      },
      "source": [
        "# plotting confusion matrix for SVC\n",
        "\n",
        "fig, ax = plt.subplots(figsize=(4, 4))\n",
        "plot_confusion_matrix(clf4, scaled_X_test, y_test,  normalize = 'true', cmap=plt.cm.Blues, ax = ax)\n",
        "plt.title(\"SVM - Binary (Confusion Matrix)\")\n",
        "plt.show()"
      ],
      "execution_count": null,
      "outputs": [
        {
          "output_type": "display_data",
          "data": {
            "image/png": "[encoded data removed]",
            "text/plain": [
              "<Figure size 288x288 with 2 Axes>"
            ]
          },
          "metadata": {
            "tags": []
          }
        }
      ]
    },
    {
      "cell_type": "markdown",
      "metadata": {
        "id": "Lv6ZjgdXciZp"
      },
      "source": [
        "#### K-Nearest Neighbours Classifier"
      ]
    },
    {
      "cell_type": "code",
      "metadata": {
        "colab": {
          "base_uri": "https://localhost:8080/"
        },
        "id": "TA1UkjEgwGDU",
        "outputId": "80ed8b7f-c7af-48ab-a72e-8329fdbad0c6"
      },
      "source": [
        "col_names=df_binary.columns.tolist()\n",
        "\n",
        "x_colnames=col_names.copy()\n",
        "x_colnames.remove('Group')\n",
        "\n",
        "x=df_binary.loc[:, x_colnames].values\n",
        "y=df_binary.loc[:,[col_names[2]]].values\n",
        "\n",
        "from sklearn.model_selection import train_test_split\n",
        "x_train, x_test, y_train, y_test = train_test_split(x,y,test_size=0.2)\n",
        "\n",
        "print(x_train.shape, y_train.shape)"
      ],
      "execution_count": null,
      "outputs": [
        {
          "output_type": "stream",
          "text": [
            "(804, 49) (804, 1)\n"
          ],
          "name": "stdout"
        }
      ]
    },
    {
      "cell_type": "code",
      "metadata": {
        "id": "s4Z1hvDwNGw8"
      },
      "source": [
        "from sklearn.preprocessing import StandardScaler\n",
        "scaler = StandardScaler()\n",
        "scaler.fit(x_train)\n",
        "x_train = scaler.transform(x_train)\n",
        "x_test = scaler.transform(x_test)"
      ],
      "execution_count": null,
      "outputs": []
    },
    {
      "cell_type": "code",
      "metadata": {
        "colab": {
          "base_uri": "https://localhost:8080/"
        },
        "id": "TJFvXpBKONYL",
        "outputId": "d7f9270c-84d5-4295-bbf9-6c9bcabb7ebd"
      },
      "source": [
        "from sklearn.neighbors import KNeighborsClassifier\n",
        "knn_bin = KNeighborsClassifier(n_neighbors=10)\n",
        "knn_bin.fit(x_train, y_train)\n",
        "\n",
        "y_pred = knn_bin.predict(x_test)"
      ],
      "execution_count": null,
      "outputs": [
        {
          "output_type": "stream",
          "text": [
            "/usr/local/lib/python3.7/dist-packages/ipykernel_launcher.py:3: DataConversionWarning: A column-vector y was passed when a 1d array was expected. Please change the shape of y to (n_samples, ), for example using ravel().\n",
            "  This is separate from the ipykernel package so we can avoid doing imports until\n"
          ],
          "name": "stderr"
        }
      ]
    },
    {
      "cell_type": "code",
      "metadata": {
        "colab": {
          "base_uri": "https://localhost:8080/"
        },
        "id": "PTfnOrmgOPTB",
        "outputId": "ac39b087-3799-4ce3-ac61-2164648e71ff"
      },
      "source": [
        "from sklearn.metrics import classification_report, confusion_matrix\n",
        "print(classification_report(y_test, y_pred))"
      ],
      "execution_count": null,
      "outputs": [
        {
          "output_type": "stream",
          "text": [
            "              precision    recall  f1-score   support\n",
            "\n",
            "     Control       0.66      0.93      0.77        45\n",
            "  ProbableAD       0.98      0.86      0.91       156\n",
            "\n",
            "    accuracy                           0.88       201\n",
            "   macro avg       0.82      0.90      0.84       201\n",
            "weighted avg       0.91      0.88      0.88       201\n",
            "\n"
          ],
          "name": "stdout"
        }
      ]
    },
    {
      "cell_type": "code",
      "metadata": {
        "colab": {
          "base_uri": "https://localhost:8080/"
        },
        "id": "PmUDHnxkRCaT",
        "outputId": "cd307235-7c0d-4a78-fb81-6c552aef600f"
      },
      "source": [
        "from sklearn.metrics import accuracy_score, precision_score, recall_score, f1_score\n",
        "print('Micro Precision: {:.2f}'.format(precision_score(y_test, y_pred, average='micro')))\n",
        "print('Micro Recall: {:.2f}'.format(recall_score(y_test, y_pred, average='micro')))\n",
        "print('Micro F1-score: {:.2f}\\n'.format(f1_score(y_test, y_pred, average='micro')))\n",
        "\n",
        "print('Macro Precision: {:.2f}'.format(precision_score(y_test, y_pred, average='macro')))\n",
        "print('Macro Recall: {:.2f}'.format(recall_score(y_test, y_pred, average='macro')))\n",
        "print('Macro F1-score: {:.2f}\\n'.format(f1_score(y_test, y_pred, average='macro')))\n",
        "\n",
        "print('Weighted Precision: {:.2f}'.format(precision_score(y_test, y_pred, average='weighted')))\n",
        "print('Weighted Recall: {:.2f}'.format(recall_score(y_test, y_pred, average='weighted')))\n",
        "print('Weighted F1-score: {:.2f}'.format(f1_score(y_test, y_pred, average='weighted')))"
      ],
      "execution_count": null,
      "outputs": [
        {
          "output_type": "stream",
          "text": [
            "Micro Precision: 0.88\n",
            "Micro Recall: 0.88\n",
            "Micro F1-score: 0.88\n",
            "\n",
            "Macro Precision: 0.82\n",
            "Macro Recall: 0.90\n",
            "Macro F1-score: 0.84\n",
            "\n",
            "Weighted Precision: 0.91\n",
            "Weighted Recall: 0.88\n",
            "Weighted F1-score: 0.88\n"
          ],
          "name": "stdout"
        }
      ]
    },
    {
      "cell_type": "code",
      "metadata": {
        "colab": {
          "base_uri": "https://localhost:8080/",
          "height": 260
        },
        "id": "vrOOtkKXOWfg",
        "outputId": "21336740-2515-42f3-8784-91190cef292e"
      },
      "source": [
        "# plotting confusion matrix for KNN classifier\n",
        "\n",
        "fig, ax = plt.subplots(figsize=(4, 4))\n",
        "plot_confusion_matrix(knn_bin, x_test, y_test, normalize = 'true', cmap=plt.cm.Blues, ax = ax)\n",
        "plt.title(\"KNN -Binary (Confusion Matrix)\")\n",
        "plt.show()"
      ],
      "execution_count": null,
      "outputs": [
        {
          "output_type": "display_data",
          "data": {
            "image/png": "[encoded data removed]",
            "text/plain": [
              "<Figure size 288x288 with 2 Axes>"
            ]
          },
          "metadata": {
            "tags": []
          }
        }
      ]
    },
    {
      "cell_type": "markdown",
      "metadata": {
        "id": "1WPumShGOkNl"
      },
      "source": [
        "Artificial Neural Networks (pending)"
      ]
    },
    {
      "cell_type": "markdown",
      "metadata": {
        "id": "Mw0H3zx5OqTt"
      },
      "source": [
        "### Multiclass Classification\n",
        "\n"
      ]
    },
    {
      "cell_type": "code",
      "metadata": {
        "id": "kG3MjSGhiUvA"
      },
      "source": [
        "X = df_multiclass.drop(columns = ['Group'])\n",
        "y = df_multiclass.Group\n",
        "\n",
        "# Train-test split\n",
        "from sklearn.model_selection import train_test_split\n",
        "X_train, X_test, y_train, y_test = train_test_split(X, y, test_size=0.2, random_state=12)"
      ],
      "execution_count": null,
      "outputs": []
    },
    {
      "cell_type": "code",
      "metadata": {
        "id": "1HuSX1cWiYIb"
      },
      "source": [
        "scaler = StandardScaler()\n",
        "scaled_X_train = scaler.fit_transform(X_train)\n",
        "scaled_X_test = scaler.transform(X_test)"
      ],
      "execution_count": null,
      "outputs": []
    },
    {
      "cell_type": "markdown",
      "metadata": {
        "id": "Ezxa4I9hO78n"
      },
      "source": [
        "#### Decision Tree\n"
      ]
    },
    {
      "cell_type": "code",
      "metadata": {
        "colab": {
          "base_uri": "https://localhost:8080/"
        },
        "id": "1xbirITNOebi",
        "outputId": "4e50a539-10b7-47c1-d57c-a945540eba65"
      },
      "source": [
        "parameters = {'min_samples_split': np.linspace(0, 0.1, 100), 'max_depth': [3, 4, 5, 6]}\n",
        "dtc_mul = DecisionTreeClassifier(random_state = 12)\n",
        "\n",
        "clf12 = GridSearchCV(dtc_mul, parameters, cv=5, scoring='accuracy', verbose=5, n_jobs=-1)\n",
        "result = clf12.fit(scaled_X_train, y_train.ravel())\n",
        "print(\"Best: %f using %s\" % (result.best_score_, result.best_params_))"
      ],
      "execution_count": null,
      "outputs": [
        {
          "output_type": "stream",
          "text": [
            "Fitting 5 folds for each of 400 candidates, totalling 2000 fits\n"
          ],
          "name": "stdout"
        },
        {
          "output_type": "stream",
          "text": [
            "[Parallel(n_jobs=-1)]: Using backend LokyBackend with 2 concurrent workers.\n",
            "[Parallel(n_jobs=-1)]: Done  14 tasks      | elapsed:    0.9s\n",
            "[Parallel(n_jobs=-1)]: Done 742 tasks      | elapsed:    6.2s\n"
          ],
          "name": "stderr"
        },
        {
          "output_type": "stream",
          "text": [
            "Best: 0.699937 using {'max_depth': 5, 'min_samples_split': 0.03838383838383838}\n"
          ],
          "name": "stdout"
        },
        {
          "output_type": "stream",
          "text": [
            "[Parallel(n_jobs=-1)]: Done 2000 out of 2000 | elapsed:   18.4s finished\n"
          ],
          "name": "stderr"
        }
      ]
    },
    {
      "cell_type": "code",
      "metadata": {
        "id": "Hj4ffu7VPEiq"
      },
      "source": [
        "y_pred = clf12.predict(scaled_X_test)"
      ],
      "execution_count": null,
      "outputs": []
    },
    {
      "cell_type": "code",
      "metadata": {
        "colab": {
          "base_uri": "https://localhost:8080/"
        },
        "id": "GZh51cC4QUEA",
        "outputId": "149cbe05-29fd-4228-e02c-6d0345cba76d"
      },
      "source": [
        "x = (y_pred == y_test.values).sum()    # Best: 0.699937 using {'max_depth': 5, 'min_samples_split': 0.03903903903903904}\n",
        "print(x, 'Correct out of', len(y_pred))\n",
        "print('Accuracy: ', x/len(y_pred))"
      ],
      "execution_count": null,
      "outputs": [
        {
          "output_type": "stream",
          "text": [
            "173 Correct out of 254\n",
            "Accuracy:  0.6811023622047244\n"
          ],
          "name": "stdout"
        }
      ]
    },
    {
      "cell_type": "code",
      "metadata": {
        "colab": {
          "base_uri": "https://localhost:8080/"
        },
        "id": "8TgyG2N0i_Kr",
        "outputId": "019dcf76-f873-41ff-a770-2b7d569bd3b4"
      },
      "source": [
        "from sklearn.metrics import precision_score\n",
        "micro_precision = precision_score(y_pred, y_test, average='micro')\n",
        "print('Micro-averaged precision score: {0:0.2f}'.format(\n",
        "      micro_precision))\n",
        "\n",
        "macro_precision = precision_score(y_pred, y_test, average='macro')\n",
        "print('Macro-averaged precision score: {0:0.2f}'.format(\n",
        "      macro_precision))\n",
        "\n",
        "per_class_precision = precision_score(y_pred, y_test, average=None)\n",
        "print('Per-class precision score:', per_class_precision)"
      ],
      "execution_count": null,
      "outputs": [
        {
          "output_type": "stream",
          "text": [
            "Micro-averaged precision score: 0.68\n",
            "Macro-averaged precision score: 0.33\n",
            "Per-class precision score: [0.76595745 0.26829268 0.         0.09090909 0.85034014 0.        ]\n"
          ],
          "name": "stdout"
        }
      ]
    },
    {
      "cell_type": "code",
      "metadata": {
        "colab": {
          "base_uri": "https://localhost:8080/"
        },
        "id": "3-raSycfK0rS",
        "outputId": "05b6e3c5-92bb-4f2d-b3e4-e31dc164f799"
      },
      "source": [
        "print('Micro Precision: {:.2f}'.format(precision_score(y_test, y_pred, average='micro')))\n",
        "print('Micro Recall: {:.2f}'.format(recall_score(y_test, y_pred, average='micro')))\n",
        "print('Micro F1-score: {:.2f}\\n'.format(f1_score(y_test, y_pred, average='micro')))\n",
        "\n",
        "print('Macro Precision: {:.2f}'.format(precision_score(y_test, y_pred, average='macro')))\n",
        "print('Macro Recall: {:.2f}'.format(recall_score(y_test, y_pred, average='macro')))\n",
        "print('Macro F1-score: {:.2f}\\n'.format(f1_score(y_test, y_pred, average='macro')))\n",
        "\n",
        "print('Weighted Precision: {:.2f}'.format(precision_score(y_test, y_pred, average='weighted')))\n",
        "print('Weighted Recall: {:.2f}'.format(recall_score(y_test, y_pred, average='weighted')))\n",
        "print('Weighted F1-score: {:.2f}'.format(f1_score(y_test, y_pred, average='weighted')))"
      ],
      "execution_count": null,
      "outputs": [
        {
          "output_type": "stream",
          "text": [
            "Micro Precision: 0.68\n",
            "Micro Recall: 0.68\n",
            "Micro F1-score: 0.68\n",
            "\n",
            "Macro Precision: 0.50\n",
            "Macro Recall: 0.33\n",
            "Macro F1-score: 0.33\n",
            "\n",
            "Weighted Precision: 0.69\n",
            "Weighted Recall: 0.68\n",
            "Weighted F1-score: 0.64\n"
          ],
          "name": "stdout"
        },
        {
          "output_type": "stream",
          "text": [
            "/usr/local/lib/python3.7/dist-packages/sklearn/metrics/_classification.py:1272: UndefinedMetricWarning: Precision is ill-defined and being set to 0.0 in labels with no predicted samples. Use `zero_division` parameter to control this behavior.\n",
            "  _warn_prf(average, modifier, msg_start, len(result))\n"
          ],
          "name": "stderr"
        }
      ]
    },
    {
      "cell_type": "code",
      "metadata": {
        "colab": {
          "base_uri": "https://localhost:8080/"
        },
        "id": "FTzydEC4S0wH",
        "outputId": "011eeb18-4b91-4927-89f8-af408e126d76"
      },
      "source": [
        "print('Weighted Precision: {:.2f}'.format(precision_score(y_test, y_pred, average='weighted')))\n",
        "print('Weighted Recall: {:.2f}'.format(recall_score(y_test, y_pred, average='weighted')))\n",
        "print('Weighted F1-score: {:.2f}'.format(f1_score(y_test, y_pred, average='weighted')))\n",
        "print('\\nAccuracy: {:.4f}\\n'.format(accuracy_score(y_test, y_pred)))"
      ],
      "execution_count": null,
      "outputs": [
        {
          "output_type": "stream",
          "text": [
            "Weighted Precision: 0.69\n",
            "Weighted Recall: 0.68\n",
            "Weighted F1-score: 0.64\n",
            "\n",
            "Accuracy: 0.6811\n",
            "\n"
          ],
          "name": "stdout"
        },
        {
          "output_type": "stream",
          "text": [
            "/usr/local/lib/python3.7/dist-packages/sklearn/metrics/_classification.py:1272: UndefinedMetricWarning: Precision is ill-defined and being set to 0.0 in labels with no predicted samples. Use `zero_division` parameter to control this behavior.\n",
            "  _warn_prf(average, modifier, msg_start, len(result))\n"
          ],
          "name": "stderr"
        }
      ]
    },
    {
      "cell_type": "code",
      "metadata": {
        "colab": {
          "base_uri": "https://localhost:8080/",
          "height": 472
        },
        "id": "a3t16fPZQWu5",
        "outputId": "f26552a3-8ed9-4ce5-a80f-235bd32fa5bd"
      },
      "source": [
        "# plotting confusion matrix for decision tree\n",
        "\n",
        "fig, ax = plt.subplots(figsize=(8, 8))\n",
        "plot_confusion_matrix(clf12, scaled_X_test, y_test,  normalize = 'true', cmap=plt.cm.Blues, ax = ax)\n",
        "plt.title(\"Decision Tree - Multiclass (Confusion Matrix)\")\n",
        "plt.show()"
      ],
      "execution_count": null,
      "outputs": [
        {
          "output_type": "display_data",
          "data": {
            "image/png": "[encoded data removed]",
            "text/plain": [
              "<Figure size 576x576 with 2 Axes>"
            ]
          },
          "metadata": {
            "tags": []
          }
        }
      ]
    },
    {
      "cell_type": "code",
      "metadata": {
        "colab": {
          "base_uri": "https://localhost:8080/",
          "height": 339
        },
        "id": "NIemKdmmxuc9",
        "outputId": "f781cb32-d7a8-4434-b153-8a4e65b63123"
      },
      "source": [
        "# plotting feature importance for decision tree\n",
        "\n",
        "importance = clf12.best_estimator_.feature_importances_\n",
        "indices = np.flip(np.argsort(importance)[-10:])\n",
        "plt.bar(X.columns[indices], importance[indices])\n",
        "plt.xticks(rotation = 90)\n",
        "plt.title(\"Decision Tree - Multiclass (Feature Importance)\")\n",
        "plt.show()"
      ],
      "execution_count": null,
      "outputs": [
        {
          "output_type": "display_data",
          "data": {
            "image/png": "[encoded data removed]",
            "text/plain": [
              "<Figure size 432x288 with 1 Axes>"
            ]
          },
          "metadata": {
            "tags": []
          }
        }
      ]
    },
    {
      "cell_type": "code",
      "metadata": {
        "colab": {
          "base_uri": "https://localhost:8080/"
        },
        "id": "WuZ8u835MtaW",
        "outputId": "d20e7eef-4c33-4e9d-afda-4790b8ca8158"
      },
      "source": [
        "dectree_mul = clf12\n",
        "filename_model.append(\"dectree_mul\")\n",
        "filename_model"
      ],
      "execution_count": null,
      "outputs": [
        {
          "output_type": "execute_result",
          "data": {
            "text/plain": [
              "['dectree_bin',\n",
              " 'randforest_bin',\n",
              " 'randforest_bin',\n",
              " 'XGB_bin',\n",
              " 'SVM_bin',\n",
              " 'XGB_bin',\n",
              " 'knn_bin',\n",
              " 'dectree_mul']"
            ]
          },
          "metadata": {
            "tags": []
          },
          "execution_count": 85
        }
      ]
    },
    {
      "cell_type": "code",
      "metadata": {
        "colab": {
          "base_uri": "https://localhost:8080/"
        },
        "id": "zdbOyhh3Qa99",
        "outputId": "a5c73ad2-7605-4be6-e65e-5b5d932f3e87"
      },
      "source": [
        "filename_model.pop(3)\n",
        "filename_model"
      ],
      "execution_count": null,
      "outputs": [
        {
          "output_type": "execute_result",
          "data": {
            "text/plain": [
              "['dectree_bin',\n",
              " 'randforest_bin',\n",
              " 'randforest_bin',\n",
              " 'SVM_bin',\n",
              " 'XGB_bin',\n",
              " 'knn_bin',\n",
              " 'dectree_mul']"
            ]
          },
          "metadata": {
            "tags": []
          },
          "execution_count": 86
        }
      ]
    },
    {
      "cell_type": "markdown",
      "metadata": {
        "id": "f_IrYmEwQcNC"
      },
      "source": [
        "#### Random Forest"
      ]
    },
    {
      "cell_type": "code",
      "metadata": {
        "colab": {
          "base_uri": "https://localhost:8080/"
        },
        "id": "H0mkVtlFQaEp",
        "outputId": "b730e51b-58ab-4b2b-e77b-3f453437e8ad"
      },
      "source": [
        "parameters = {'n_estimators': [i*10 for i in range(1, 5)], 'min_samples_split': np.linspace(0, 0.2, 20), 'max_depth': [i for i in range(14, 20)]}\n",
        "rfc_mul = RandomForestClassifier(random_state = 12)\n",
        "\n",
        "clf2x = GridSearchCV(rfc_mul, parameters, cv=5, scoring='accuracy', verbose=5, n_jobs=-1)\n",
        "result = clf2x.fit(scaled_X_train, y_train.ravel())\n",
        "print(\"Best: %f using %s\" % (result.best_score_, result.best_params_))"
      ],
      "execution_count": null,
      "outputs": [
        {
          "output_type": "stream",
          "text": [
            "Fitting 5 folds for each of 480 candidates, totalling 2400 fits\n"
          ],
          "name": "stdout"
        },
        {
          "output_type": "stream",
          "text": [
            "[Parallel(n_jobs=-1)]: Using backend LokyBackend with 2 concurrent workers.\n",
            "[Parallel(n_jobs=-1)]: Done  36 tasks      | elapsed:    1.4s\n",
            "[Parallel(n_jobs=-1)]: Done 252 tasks      | elapsed:   14.0s\n",
            "[Parallel(n_jobs=-1)]: Done 612 tasks      | elapsed:   33.1s\n",
            "[Parallel(n_jobs=-1)]: Done 1116 tasks      | elapsed:   59.7s\n",
            "[Parallel(n_jobs=-1)]: Done 1764 tasks      | elapsed:  1.6min\n"
          ],
          "name": "stderr"
        },
        {
          "output_type": "stream",
          "text": [
            "Best: 0.752246 using {'max_depth': 16, 'min_samples_split': 0.010526315789473684, 'n_estimators': 20}\n"
          ],
          "name": "stdout"
        },
        {
          "output_type": "stream",
          "text": [
            "[Parallel(n_jobs=-1)]: Done 2400 out of 2400 | elapsed:  2.1min finished\n"
          ],
          "name": "stderr"
        }
      ]
    },
    {
      "cell_type": "code",
      "metadata": {
        "id": "C2rCgf6XQhCr"
      },
      "source": [
        "y_pred = clf2x.predict(scaled_X_test)"
      ],
      "execution_count": null,
      "outputs": []
    },
    {
      "cell_type": "code",
      "metadata": {
        "colab": {
          "base_uri": "https://localhost:8080/"
        },
        "id": "I-695tqRRF7f",
        "outputId": "a12b2e8b-76cd-4b57-d7e4-bbb9f580b7f8"
      },
      "source": [
        "x = (y_pred == y_test.values).sum()\n",
        "print(x, 'Correct out of', len(y_pred))\n",
        "print('Accuracy: ', x/len(y_pred))"
      ],
      "execution_count": null,
      "outputs": [
        {
          "output_type": "stream",
          "text": [
            "179 Correct out of 254\n",
            "Accuracy:  0.7047244094488189\n"
          ],
          "name": "stdout"
        }
      ]
    },
    {
      "cell_type": "code",
      "metadata": {
        "colab": {
          "base_uri": "https://localhost:8080/"
        },
        "id": "g2ENaY6CS82q",
        "outputId": "88970ead-eebe-4eb7-d7bf-4b2a4fbb4bca"
      },
      "source": [
        "print('Weighted Precision: {:.2f}'.format(precision_score(y_test, y_pred, average='weighted')))\n",
        "print('Weighted Recall: {:.2f}'.format(recall_score(y_test, y_pred, average='weighted')))\n",
        "print('Weighted F1-score: {:.2f}'.format(f1_score(y_test, y_pred, average='weighted')))\n",
        "print('\\nAccuracy: {:.4f}\\n'.format(accuracy_score(y_test, y_pred)))"
      ],
      "execution_count": null,
      "outputs": [
        {
          "output_type": "stream",
          "text": [
            "Weighted Precision: 0.63\n",
            "Weighted Recall: 0.70\n",
            "Weighted F1-score: 0.64\n",
            "\n",
            "Accuracy: 0.7047\n",
            "\n"
          ],
          "name": "stdout"
        },
        {
          "output_type": "stream",
          "text": [
            "/usr/local/lib/python3.7/dist-packages/sklearn/metrics/_classification.py:1272: UndefinedMetricWarning: Precision is ill-defined and being set to 0.0 in labels with no predicted samples. Use `zero_division` parameter to control this behavior.\n",
            "  _warn_prf(average, modifier, msg_start, len(result))\n"
          ],
          "name": "stderr"
        }
      ]
    },
    {
      "cell_type": "code",
      "metadata": {
        "colab": {
          "base_uri": "https://localhost:8080/",
          "height": 472
        },
        "id": "eroTVaxKRIEJ",
        "outputId": "92635843-6e0e-4a42-9d31-00938a06bc9d"
      },
      "source": [
        "# plotting confusion matrix for random forest\n",
        "\n",
        "fig, ax = plt.subplots(figsize=(8, 8))\n",
        "plot_confusion_matrix(clf2x, scaled_X_test, y_test,  normalize = 'true', cmap=plt.cm.Blues, ax = ax)\n",
        "plt.title(\"Random Forest - Multiclass (Confusion Matrix)\")\n",
        "plt.show()"
      ],
      "execution_count": null,
      "outputs": [
        {
          "output_type": "display_data",
          "data": {
            "image/png": "[encoded data removed]",
            "text/plain": [
              "<Figure size 576x576 with 2 Axes>"
            ]
          },
          "metadata": {
            "tags": []
          }
        }
      ]
    },
    {
      "cell_type": "code",
      "metadata": {
        "colab": {
          "base_uri": "https://localhost:8080/",
          "height": 356
        },
        "id": "o4U9L15ryVJW",
        "outputId": "cefe2339-e27a-43c6-98a7-d369a8ef42cb"
      },
      "source": [
        "# plotting feature importance for random forest\n",
        "\n",
        "importance = clf2x.best_estimator_.feature_importances_\n",
        "indices = np.flip(np.argsort(importance)[-10:])\n",
        "plt.bar(X.columns[indices], importance[indices])\n",
        "plt.xticks(rotation = 90)\n",
        "plt.title(\"Random Forest - Multiclass (Feature Importance\")\n",
        "plt.show()"
      ],
      "execution_count": null,
      "outputs": [
        {
          "output_type": "display_data",
          "data": {
            "image/png": "[encoded data removed]",
            "text/plain": [
              "<Figure size 432x288 with 1 Axes>"
            ]
          },
          "metadata": {
            "tags": []
          }
        }
      ]
    },
    {
      "cell_type": "code",
      "metadata": {
        "id": "sPogFYayN75e"
      },
      "source": [
        "randforest_mul = clf2x\n",
        "filename_model.append(\"randforest_mul\")"
      ],
      "execution_count": null,
      "outputs": []
    },
    {
      "cell_type": "markdown",
      "metadata": {
        "id": "pBXuI0FgRLyW"
      },
      "source": [
        "#### XGB Classifier"
      ]
    },
    {
      "cell_type": "code",
      "metadata": {
        "colab": {
          "base_uri": "https://localhost:8080/"
        },
        "id": "KEc08m1iRKXw",
        "outputId": "ce116d6a-5f96-4ce6-ded4-479736a31dbb"
      },
      "source": [
        "parameters = {'n_estimators': [i*10 for i in range(5, 10)], 'max_depth': [2*i for i in range(1, 5)], 'colsample_bytree': [0.45, 0.5, 0.55, 0.6, 0.65]}\n",
        "xgb_mul = XGBClassifier(seed = 12)\n",
        "\n",
        "clf3x = GridSearchCV(xgb_mul, parameters, cv=5, scoring='accuracy', verbose=5, n_jobs=-1)\n",
        "result = clf3x.fit(scaled_X_train, y_train.ravel())\n",
        "print(\"Best: %f using %s\" % (result.best_score_, result.best_params_))"
      ],
      "execution_count": null,
      "outputs": [
        {
          "output_type": "stream",
          "text": [
            "Fitting 5 folds for each of 100 candidates, totalling 500 fits\n"
          ],
          "name": "stdout"
        },
        {
          "output_type": "stream",
          "text": [
            "[Parallel(n_jobs=-1)]: Using backend LokyBackend with 2 concurrent workers.\n",
            "[Parallel(n_jobs=-1)]: Done  14 tasks      | elapsed:    3.1s\n",
            "[Parallel(n_jobs=-1)]: Done  68 tasks      | elapsed:   24.6s\n",
            "[Parallel(n_jobs=-1)]: Done 158 tasks      | elapsed:  1.1min\n",
            "[Parallel(n_jobs=-1)]: Done 284 tasks      | elapsed:  2.1min\n",
            "[Parallel(n_jobs=-1)]: Done 446 tasks      | elapsed:  3.5min\n",
            "[Parallel(n_jobs=-1)]: Done 500 out of 500 | elapsed:  4.1min finished\n"
          ],
          "name": "stderr"
        },
        {
          "output_type": "stream",
          "text": [
            "Best: 0.798625 using {'colsample_bytree': 0.6, 'max_depth': 4, 'n_estimators': 80}\n"
          ],
          "name": "stdout"
        }
      ]
    },
    {
      "cell_type": "code",
      "metadata": {
        "id": "lIWntjV6RTND"
      },
      "source": [
        "y_pred = clf3x.predict(scaled_X_test)\n"
      ],
      "execution_count": null,
      "outputs": []
    },
    {
      "cell_type": "code",
      "metadata": {
        "colab": {
          "base_uri": "https://localhost:8080/"
        },
        "id": "EcTQFm5KUUDR",
        "outputId": "836603df-b4d4-4cba-b844-dc113d0705c6"
      },
      "source": [
        "x = (y_pred == y_test.values).sum()\n",
        "print(x, 'Correct out of', len(y_pred))\n",
        "print('Accuracy: ', x/len(y_pred))"
      ],
      "execution_count": null,
      "outputs": [
        {
          "output_type": "stream",
          "text": [
            "192 Correct out of 254\n",
            "Accuracy:  0.7559055118110236\n"
          ],
          "name": "stdout"
        }
      ]
    },
    {
      "cell_type": "code",
      "metadata": {
        "colab": {
          "base_uri": "https://localhost:8080/"
        },
        "id": "3pw882iBTnOV",
        "outputId": "876595fa-8bce-4b71-e97f-07eddcae00b6"
      },
      "source": [
        "print('Weighted Precision: {:.2f}'.format(precision_score(y_test, y_pred, average='weighted')))\n",
        "print('Weighted Recall: {:.2f}'.format(recall_score(y_test, y_pred, average='weighted')))\n",
        "print('Weighted F1-score: {:.2f}'.format(f1_score(y_test, y_pred, average='weighted')))\n",
        "print('\\nAccuracy: {:.4f}\\n'.format(accuracy_score(y_test, y_pred)))"
      ],
      "execution_count": null,
      "outputs": [
        {
          "output_type": "stream",
          "text": [
            "Weighted Precision: 0.76\n",
            "Weighted Recall: 0.76\n",
            "Weighted F1-score: 0.73\n",
            "\n",
            "Accuracy: 0.7559\n",
            "\n"
          ],
          "name": "stdout"
        },
        {
          "output_type": "stream",
          "text": [
            "/usr/local/lib/python3.7/dist-packages/sklearn/metrics/_classification.py:1272: UndefinedMetricWarning: Precision is ill-defined and being set to 0.0 in labels with no predicted samples. Use `zero_division` parameter to control this behavior.\n",
            "  _warn_prf(average, modifier, msg_start, len(result))\n"
          ],
          "name": "stderr"
        }
      ]
    },
    {
      "cell_type": "code",
      "metadata": {
        "colab": {
          "base_uri": "https://localhost:8080/",
          "height": 476
        },
        "id": "3Kbrg_43UWSk",
        "outputId": "137e5142-1b9a-4a53-a505-e9ace8654307"
      },
      "source": [
        "# plotting confusion matrix for XGBClassifier\n",
        "\n",
        "fig, ax = plt.subplots(figsize=(8, 8))\n",
        "plot_confusion_matrix(clf3x, scaled_X_test, y_test,  normalize = 'true', cmap=plt.cm.Blues, ax = ax)\n",
        "plt.title(\"XGB - Multiclass (Confusion Matrix)\")\n",
        "plt.show()"
      ],
      "execution_count": null,
      "outputs": [
        {
          "output_type": "display_data",
          "data": {
            "image/png": "[encoded data removed]",
            "text/plain": [
              "<Figure size 576x576 with 2 Axes>"
            ]
          },
          "metadata": {
            "tags": []
          }
        }
      ]
    },
    {
      "cell_type": "code",
      "metadata": {
        "colab": {
          "base_uri": "https://localhost:8080/",
          "height": 356
        },
        "id": "H6CCpBXzyeXI",
        "outputId": "c514eb76-1d2c-4787-c13a-e756096e67c8"
      },
      "source": [
        "# plotting feature importance for XGBClassifier\n",
        "\n",
        "importance = clf3x.best_estimator_.feature_importances_\n",
        "indices = np.flip(np.argsort(importance)[-10:])\n",
        "plt.bar(X.columns[indices], importance[indices])\n",
        "plt.xticks(rotation = 90)\n",
        "plt.title(\"XGB - Multiclass (Feature Importance)\")\n",
        "plt.show()"
      ],
      "execution_count": null,
      "outputs": [
        {
          "output_type": "display_data",
          "data": {
            "image/png": "[encoded data removed]",
            "text/plain": [
              "<Figure size 432x288 with 1 Axes>"
            ]
          },
          "metadata": {
            "tags": []
          }
        }
      ]
    },
    {
      "cell_type": "code",
      "metadata": {
        "id": "tI3QLLOTOLCx"
      },
      "source": [
        "XGB_mul = clf3x\n",
        "filename_model.append(\"XGB_mul\")"
      ],
      "execution_count": null,
      "outputs": []
    },
    {
      "cell_type": "markdown",
      "metadata": {
        "id": "goSJHEU2a9Lv"
      },
      "source": [
        "#### Support Vector Classifier"
      ]
    },
    {
      "cell_type": "code",
      "metadata": {
        "colab": {
          "base_uri": "https://localhost:8080/"
        },
        "id": "yrhE23CoUZ0O",
        "outputId": "56891dbb-3a74-43d3-a527-f5b76161c2a5"
      },
      "source": [
        "parameters = {'C': np.linspace(0.5, 5, 60), 'kernel': ('poly', 'rbf', 'sigmoid')}\n",
        "svc_mul = SVC(random_state = 12)\n",
        "\n",
        "clf4x = GridSearchCV(svc_mul, parameters, cv=5, scoring='accuracy', verbose=5, n_jobs=-1)\n",
        "result = clf4x.fit(scaled_X_train, y_train.ravel())\n",
        "print(\"Best: %f using %s\" % (result.best_score_, result.best_params_))"
      ],
      "execution_count": null,
      "outputs": [
        {
          "output_type": "stream",
          "text": [
            "Fitting 5 folds for each of 180 candidates, totalling 900 fits\n"
          ],
          "name": "stdout"
        },
        {
          "output_type": "stream",
          "text": [
            "[Parallel(n_jobs=-1)]: Using backend LokyBackend with 2 concurrent workers.\n",
            "[Parallel(n_jobs=-1)]: Done  24 tasks      | elapsed:    1.5s\n",
            "[Parallel(n_jobs=-1)]: Done 132 tasks      | elapsed:    7.7s\n",
            "[Parallel(n_jobs=-1)]: Done 312 tasks      | elapsed:   18.0s\n",
            "[Parallel(n_jobs=-1)]: Done 564 tasks      | elapsed:   32.7s\n",
            "[Parallel(n_jobs=-1)]: Done 888 tasks      | elapsed:   51.6s\n"
          ],
          "name": "stderr"
        },
        {
          "output_type": "stream",
          "text": [
            "Best: 0.741394 using {'C': 1.5677966101694916, 'kernel': 'rbf'}\n"
          ],
          "name": "stdout"
        },
        {
          "output_type": "stream",
          "text": [
            "[Parallel(n_jobs=-1)]: Done 900 out of 900 | elapsed:   52.2s finished\n"
          ],
          "name": "stderr"
        }
      ]
    },
    {
      "cell_type": "code",
      "metadata": {
        "colab": {
          "base_uri": "https://localhost:8080/"
        },
        "id": "dgx7DjizbHVn",
        "outputId": "e4e4b42f-5073-4a7f-b650-f42c7e271b01"
      },
      "source": [
        "y_pred = clf4x.predict(scaled_X_test)\n",
        "x = (y_pred == y_test.values).sum()\n",
        "print(x, 'Correct out of', len(y_pred))\n",
        "print('Accuracy: ', x/len(y_pred))"
      ],
      "execution_count": null,
      "outputs": [
        {
          "output_type": "stream",
          "text": [
            "179 Correct out of 254\n",
            "Accuracy:  0.7047244094488189\n"
          ],
          "name": "stdout"
        }
      ]
    },
    {
      "cell_type": "code",
      "metadata": {
        "colab": {
          "base_uri": "https://localhost:8080/"
        },
        "id": "KKASe0rfUz0o",
        "outputId": "4fc142d5-308d-422c-d0ab-464e0c2527c7"
      },
      "source": [
        "print('Weighted Precision: {:.2f}'.format(precision_score(y_test, y_pred, average='weighted')))\n",
        "print('Weighted Recall: {:.2f}'.format(recall_score(y_test, y_pred, average='weighted')))\n",
        "print('Weighted F1-score: {:.2f}'.format(f1_score(y_test, y_pred, average='weighted')))\n",
        "print('\\nAccuracy: {:.4f}\\n'.format(accuracy_score(y_test, y_pred)))"
      ],
      "execution_count": null,
      "outputs": [
        {
          "output_type": "stream",
          "text": [
            "Weighted Precision: 0.64\n",
            "Weighted Recall: 0.70\n",
            "Weighted F1-score: 0.65\n",
            "\n",
            "Accuracy: 0.7047\n",
            "\n"
          ],
          "name": "stdout"
        },
        {
          "output_type": "stream",
          "text": [
            "/usr/local/lib/python3.7/dist-packages/sklearn/metrics/_classification.py:1272: UndefinedMetricWarning: Precision is ill-defined and being set to 0.0 in labels with no predicted samples. Use `zero_division` parameter to control this behavior.\n",
            "  _warn_prf(average, modifier, msg_start, len(result))\n"
          ],
          "name": "stderr"
        }
      ]
    },
    {
      "cell_type": "code",
      "metadata": {
        "colab": {
          "base_uri": "https://localhost:8080/",
          "height": 476
        },
        "id": "HWrFHB-4bV44",
        "outputId": "bba49547-e2a5-4005-ac82-ae0336ba36b2"
      },
      "source": [
        "# plotting confusion matrix for SVC\n",
        "\n",
        "fig, ax = plt.subplots(figsize=(8, 8))\n",
        "plot_confusion_matrix(clf4x, scaled_X_test, y_test,  normalize = 'true', cmap=plt.cm.Blues, ax = ax)\n",
        "plt.title(\"Support Vector - Multiclass (Confusion Matrix)\")\n",
        "plt.show()"
      ],
      "execution_count": null,
      "outputs": [
        {
          "output_type": "display_data",
          "data": {
            "image/png": "[encoded data removed]",
            "text/plain": [
              "<Figure size 576x576 with 2 Axes>"
            ]
          },
          "metadata": {
            "tags": []
          }
        }
      ]
    },
    {
      "cell_type": "code",
      "metadata": {
        "id": "RJHgs7yaOURH"
      },
      "source": [
        "SVM_mul = clf4x\n",
        "filename_model.append(\"SVM_mul\")"
      ],
      "execution_count": null,
      "outputs": []
    },
    {
      "cell_type": "code",
      "metadata": {
        "id": "sa2vKJtHOefk"
      },
      "source": [
        "#have done model saving till here\n",
        "from joblib import dump, load\n",
        "os.chdir(\"/content/drive/MyDrive/SOP-ALZ LINGUISTICS/Datasets/Models\")\n",
        "#clf = load('filename.joblib')\n",
        "for i in filename_model:\n",
        "  dump(i, i+'.joblib')"
      ],
      "execution_count": null,
      "outputs": []
    },
    {
      "cell_type": "code",
      "metadata": {
        "id": "7spMJRhgxyXG"
      },
      "source": [
        "os.chdir(\"/content/drive/MyDrive/SOP-ALZ LINGUISTICS/Datasets/Models\")"
      ],
      "execution_count": null,
      "outputs": []
    },
    {
      "cell_type": "code",
      "metadata": {
        "id": "L__2NH_Px1rh"
      },
      "source": [
        "from joblib import dump, load\n",
        "fnames = []\n",
        "for a,b,i in os.walk(\"/content/drive/MyDrive/SOP-ALZ LINGUISTICS/Datasets/Models\"):\n",
        "  fnames.append(i)"
      ],
      "execution_count": null,
      "outputs": []
    },
    {
      "cell_type": "code",
      "metadata": {
        "colab": {
          "base_uri": "https://localhost:8080/"
        },
        "id": "5nLcVr6Iyuzz",
        "outputId": "290eb75e-681e-42d2-8111-401f147894b0"
      },
      "source": [
        "models = []\n",
        "fnames\n",
        "#for i in fnames[0]:\n",
        "  #models.append(load(i))"
      ],
      "execution_count": null,
      "outputs": [
        {
          "output_type": "execute_result",
          "data": {
            "text/plain": [
              "[['dectree_bin.joblib',\n",
              "  'randforest_bin.joblib',\n",
              "  'XGB_bin.joblib',\n",
              "  'knn_bin.joblib',\n",
              "  'randforest_mul.joblib',\n",
              "  'XGB_mul.joblib',\n",
              "  'SVM_mul.joblib',\n",
              "  'SVM_bin.joblib',\n",
              "  'dectree_mul.joblib']]"
            ]
          },
          "metadata": {
            "tags": []
          },
          "execution_count": 15
        }
      ]
    },
    {
      "cell_type": "markdown",
      "metadata": {
        "id": "-URIT9u3biCH"
      },
      "source": [
        "#### K-Nearest Neighbour (KNN) Classifier"
      ]
    },
    {
      "cell_type": "code",
      "metadata": {
        "colab": {
          "base_uri": "https://localhost:8080/"
        },
        "id": "5P56Fwc8bY2z",
        "outputId": "2c615b13-3c02-4991-84d7-3ef7d7b473eb"
      },
      "source": [
        "col_names=df_multiclass.columns.tolist()\n",
        "\n",
        "x_colnames=col_names.copy()\n",
        "x_colnames.remove('Group')\n",
        "\n",
        "\n",
        "\n",
        "x=df_multiclass.loc[:, x_colnames].values\n",
        "y=df_multiclass.loc[:,[col_names[2]]].values\n",
        "\n",
        "from sklearn.model_selection import train_test_split\n",
        "x_train, x_test, y_train, y_test = train_test_split(x,y,test_size=0.2)\n",
        "\n",
        "print(x_train.shape, y_train.shape)"
      ],
      "execution_count": null,
      "outputs": [
        {
          "output_type": "stream",
          "text": [
            "(1013, 49) (1013, 1)\n"
          ],
          "name": "stdout"
        }
      ]
    },
    {
      "cell_type": "code",
      "metadata": {
        "id": "H8UJN3JpbuD6"
      },
      "source": [
        "scaler = StandardScaler()\n",
        "scaler.fit(x_train)\n",
        "x_train = scaler.transform(x_train)\n",
        "x_test = scaler.transform(x_test)"
      ],
      "execution_count": null,
      "outputs": []
    },
    {
      "cell_type": "code",
      "metadata": {
        "colab": {
          "base_uri": "https://localhost:8080/"
        },
        "id": "YIrhR1vZbxF9",
        "outputId": "6f38ac66-a421-4fc9-aa63-af2ea7f48d32"
      },
      "source": [
        "knn_mul = KNeighborsClassifier(n_neighbors=10)\n",
        "knn_mul.fit(x_train, y_train)\n",
        "\n",
        "y_pred = knn_mul.predict(x_test)"
      ],
      "execution_count": null,
      "outputs": [
        {
          "output_type": "stream",
          "text": [
            "/usr/local/lib/python3.7/dist-packages/ipykernel_launcher.py:2: DataConversionWarning: A column-vector y was passed when a 1d array was expected. Please change the shape of y to (n_samples, ), for example using ravel().\n",
            "  \n"
          ],
          "name": "stderr"
        }
      ]
    },
    {
      "cell_type": "code",
      "metadata": {
        "colab": {
          "base_uri": "https://localhost:8080/"
        },
        "id": "5rDb6crDb4HA",
        "outputId": "cc61b87c-10b7-4a16-f899-b9c8199f0c76"
      },
      "source": [
        "print(classification_report(y_test, y_pred))\n"
      ],
      "execution_count": null,
      "outputs": [
        {
          "output_type": "stream",
          "text": [
            "              precision    recall  f1-score   support\n",
            "\n",
            "     Control       0.63      0.93      0.75        55\n",
            "         MCI       0.60      0.18      0.28        33\n",
            "      Memory       0.00      0.00      0.00         6\n",
            "  PossibleAD       0.00      0.00      0.00         5\n",
            "  ProbableAD       0.78      0.83      0.80       152\n",
            "    Vascular       0.00      0.00      0.00         3\n",
            "\n",
            "    accuracy                           0.72       254\n",
            "   macro avg       0.33      0.32      0.31       254\n",
            "weighted avg       0.68      0.72      0.68       254\n",
            "\n"
          ],
          "name": "stdout"
        },
        {
          "output_type": "stream",
          "text": [
            "/usr/local/lib/python3.7/dist-packages/sklearn/metrics/_classification.py:1272: UndefinedMetricWarning: Precision and F-score are ill-defined and being set to 0.0 in labels with no predicted samples. Use `zero_division` parameter to control this behavior.\n",
            "  _warn_prf(average, modifier, msg_start, len(result))\n"
          ],
          "name": "stderr"
        }
      ]
    },
    {
      "cell_type": "code",
      "metadata": {
        "id": "yWZmJDPkVL2Y",
        "colab": {
          "base_uri": "https://localhost:8080/"
        },
        "outputId": "0beca2d6-41ec-4889-b45b-963cdc2d443b"
      },
      "source": [
        "print('Weighted Precision: {:.2f}'.format(precision_score(y_test, y_pred, average='weighted')))\n",
        "print('Weighted Recall: {:.2f}'.format(recall_score(y_test, y_pred, average='weighted')))\n",
        "print('Weighted F1-score: {:.2f}'.format(f1_score(y_test, y_pred, average='weighted')))\n",
        "print('\\nAccuracy: {:.4f}\\n'.format(accuracy_score(y_test, y_pred)))"
      ],
      "execution_count": null,
      "outputs": [
        {
          "output_type": "stream",
          "text": [
            "Weighted Precision: 0.68\n",
            "Weighted Recall: 0.72\n",
            "Weighted F1-score: 0.68\n",
            "\n",
            "Accuracy: 0.7205\n",
            "\n"
          ],
          "name": "stdout"
        },
        {
          "output_type": "stream",
          "text": [
            "/usr/local/lib/python3.7/dist-packages/sklearn/metrics/_classification.py:1272: UndefinedMetricWarning: Precision is ill-defined and being set to 0.0 in labels with no predicted samples. Use `zero_division` parameter to control this behavior.\n",
            "  _warn_prf(average, modifier, msg_start, len(result))\n"
          ],
          "name": "stderr"
        }
      ]
    },
    {
      "cell_type": "code",
      "metadata": {
        "colab": {
          "base_uri": "https://localhost:8080/",
          "height": 476
        },
        "id": "4ajVtvuhb9iQ",
        "outputId": "25ef2312-8238-4c53-9ee1-279dcd1c9dfa"
      },
      "source": [
        "# plotting confusion matrix for KNN\n",
        "\n",
        "fig, ax = plt.subplots(figsize=(8, 8))\n",
        "plot_confusion_matrix(knn_mul, x_test, y_test, normalize = 'true', cmap=plt.cm.Blues, ax = ax)\n",
        "plt.title(\"KNN - Multiclass Confusion Matrix\")\n",
        "plt.show()"
      ],
      "execution_count": null,
      "outputs": [
        {
          "output_type": "display_data",
          "data": {
            "image/png": "[encoded data removed]",
            "text/plain": [
              "<Figure size 576x576 with 2 Axes>"
            ]
          },
          "metadata": {
            "tags": []
          }
        }
      ]
    }
  ]
}