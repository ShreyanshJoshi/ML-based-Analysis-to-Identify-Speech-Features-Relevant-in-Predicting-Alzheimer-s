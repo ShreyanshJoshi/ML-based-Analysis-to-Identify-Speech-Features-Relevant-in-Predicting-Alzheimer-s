{
  "nbformat": 4,
  "nbformat_minor": 0,
  "metadata": {
    "colab": {
      "name": "KNN CLASSIFIER - SOP AD NEUROLINGUISTICS",
      "provenance": [],
      "collapsed_sections": []
    },
    "kernelspec": {
      "name": "python3",
      "display_name": "Python 3"
    }
  },
  "cells": [
    {
      "cell_type": "code",
      "metadata": {
        "colab": {
          "base_uri": "https://localhost:8080/"
        },
        "id": "cuPTUiYBVCu6",
        "outputId": "42cfca7f-afb8-4557-90f7-a52e64031401"
      },
      "source": [
        "from google.colab import drive\n",
        "drive.mount('/content/drive')"
      ],
      "execution_count": null,
      "outputs": [
        {
          "output_type": "stream",
          "text": [
            "Drive already mounted at /content/drive; to attempt to forcibly remount, call drive.mount(\"/content/drive\", force_remount=True).\n"
          ],
          "name": "stdout"
        }
      ]
    },
    {
      "cell_type": "code",
      "metadata": {
        "id": "0al1ZhZBV3uw"
      },
      "source": [
        "import os\n",
        "os.chdir(\"/content/drive/MyDrive/SOP-ALZ LINGUISTICS/Datasets\")\n"
      ],
      "execution_count": null,
      "outputs": []
    },
    {
      "cell_type": "code",
      "metadata": {
        "id": "219ZdBtqV66w",
        "colab": {
          "base_uri": "https://localhost:8080/"
        },
        "outputId": "76daad93-34ea-4e57-fec2-bd6c7abdf9fa"
      },
      "source": [
        "import pandas as pd\n",
        "\n",
        "df = pd.read_csv('train2.csv')\n",
        "#index_names = df[ (df['Group'] == \"MCI\") | (df['Group'] == \"PossibleAD\") | (df['Group'] == \"Memory\") | (df['Group'] == \"Vascular\")].index \n",
        "  \n",
        "#df.drop(index_names, inplace=True)\n",
        "df['Group'].value_counts()"
      ],
      "execution_count": null,
      "outputs": [
        {
          "output_type": "execute_result",
          "data": {
            "text/plain": [
              "ProbableAD    762\n",
              "Control       243\n",
              "MCI           162\n",
              "PossibleAD     68\n",
              "Vascular       20\n",
              "Memory         12\n",
              "Name: Group, dtype: int64"
            ]
          },
          "metadata": {
            "tags": []
          },
          "execution_count": 13
        }
      ]
    },
    {
      "cell_type": "code",
      "metadata": {
        "id": "stN5wccjWJiK",
        "colab": {
          "base_uri": "https://localhost:8080/",
          "height": 226
        },
        "outputId": "d28fe8d6-501a-40dc-eaea-b2ddc7f8d52e"
      },
      "source": [
        "df.head()\n"
      ],
      "execution_count": null,
      "outputs": [
        {
          "output_type": "execute_result",
          "data": {
            "text/html": [
              "<div>\n",
              "<style scoped>\n",
              "    .dataframe tbody tr th:only-of-type {\n",
              "        vertical-align: middle;\n",
              "    }\n",
              "\n",
              "    .dataframe tbody tr th {\n",
              "        vertical-align: top;\n",
              "    }\n",
              "\n",
              "    .dataframe thead th {\n",
              "        text-align: right;\n",
              "    }\n",
              "</style>\n",
              "<table border=\"1\" class=\"dataframe\">\n",
              "  <thead>\n",
              "    <tr style=\"text-align: right;\">\n",
              "      <th></th>\n",
              "      <th>Age</th>\n",
              "      <th>Sex</th>\n",
              "      <th>Group</th>\n",
              "      <th>Duration_(sec)</th>\n",
              "      <th>MLU_Utts</th>\n",
              "      <th>MLU_Morphemes</th>\n",
              "      <th>FREQ_TTR</th>\n",
              "      <th>Words_Min</th>\n",
              "      <th>Verbs_Utt</th>\n",
              "      <th>%_Word_Errors</th>\n",
              "      <th>Utt_Errors</th>\n",
              "      <th>density</th>\n",
              "      <th>%_Nouns</th>\n",
              "      <th>%_Plurals</th>\n",
              "      <th>%_Verbs</th>\n",
              "      <th>%_Aux</th>\n",
              "      <th>%_Mod</th>\n",
              "      <th>%_3S</th>\n",
              "      <th>%_13S</th>\n",
              "      <th>%_PAST</th>\n",
              "      <th>%_PASTP</th>\n",
              "      <th>%_PRESP</th>\n",
              "      <th>%_prep</th>\n",
              "      <th>%_adj</th>\n",
              "      <th>%_adv</th>\n",
              "      <th>%_conj</th>\n",
              "      <th>%_det</th>\n",
              "      <th>%_pro</th>\n",
              "      <th>noun_verb</th>\n",
              "      <th>retracing</th>\n",
              "      <th>repetition</th>\n",
              "      <th>mor_Utts</th>\n",
              "      <th>mor_syllables</th>\n",
              "      <th>syllables_min</th>\n",
              "      <th>%_Prolongation</th>\n",
              "      <th>Mean_RU</th>\n",
              "      <th>%_Phonological_fragment</th>\n",
              "      <th>%_Phrase_repetitions</th>\n",
              "      <th>%_Word_revisions</th>\n",
              "      <th>%_Phrase_revisions</th>\n",
              "      <th>%_Pauses</th>\n",
              "      <th>%_Filled_pauses</th>\n",
              "      <th>%_TD</th>\n",
              "      <th>SLD_Ratio</th>\n",
              "      <th>Content_words_ratio</th>\n",
              "      <th>Function_words_ratio</th>\n",
              "      <th>N</th>\n",
              "      <th>V</th>\n",
              "      <th>Q</th>\n",
              "      <th>S</th>\n",
              "    </tr>\n",
              "  </thead>\n",
              "  <tbody>\n",
              "    <tr>\n",
              "      <th>0</th>\n",
              "      <td>58.0</td>\n",
              "      <td>0</td>\n",
              "      <td>Control</td>\n",
              "      <td>56</td>\n",
              "      <td>16</td>\n",
              "      <td>9.250</td>\n",
              "      <td>0.523</td>\n",
              "      <td>141.429</td>\n",
              "      <td>1.563</td>\n",
              "      <td>0.000</td>\n",
              "      <td>1</td>\n",
              "      <td>0.371</td>\n",
              "      <td>25.000</td>\n",
              "      <td>21.212</td>\n",
              "      <td>18.939</td>\n",
              "      <td>5.303</td>\n",
              "      <td>0.758</td>\n",
              "      <td>52.000</td>\n",
              "      <td>0.000</td>\n",
              "      <td>0.000</td>\n",
              "      <td>8.000</td>\n",
              "      <td>24.000</td>\n",
              "      <td>9.848</td>\n",
              "      <td>6.061</td>\n",
              "      <td>6.061</td>\n",
              "      <td>0.000</td>\n",
              "      <td>15.909</td>\n",
              "      <td>5.303</td>\n",
              "      <td>1.320</td>\n",
              "      <td>1</td>\n",
              "      <td>2</td>\n",
              "      <td>18.0</td>\n",
              "      <td>176.0</td>\n",
              "      <td>178.983</td>\n",
              "      <td>0.000</td>\n",
              "      <td>1.0</td>\n",
              "      <td>0.0</td>\n",
              "      <td>0.568</td>\n",
              "      <td>0.000</td>\n",
              "      <td>0.568</td>\n",
              "      <td>0.0</td>\n",
              "      <td>0.0</td>\n",
              "      <td>1.136</td>\n",
              "      <td>0.333</td>\n",
              "      <td>0.0</td>\n",
              "      <td>0.014</td>\n",
              "      <td>19.000000</td>\n",
              "      <td>19.000000</td>\n",
              "      <td>8.000000</td>\n",
              "      <td>15.000000</td>\n",
              "    </tr>\n",
              "    <tr>\n",
              "      <th>1</th>\n",
              "      <td>59.0</td>\n",
              "      <td>0</td>\n",
              "      <td>Control</td>\n",
              "      <td>65</td>\n",
              "      <td>14</td>\n",
              "      <td>7.714</td>\n",
              "      <td>0.490</td>\n",
              "      <td>94.154</td>\n",
              "      <td>1.067</td>\n",
              "      <td>0.000</td>\n",
              "      <td>2</td>\n",
              "      <td>0.353</td>\n",
              "      <td>29.412</td>\n",
              "      <td>20.000</td>\n",
              "      <td>15.686</td>\n",
              "      <td>7.843</td>\n",
              "      <td>0.000</td>\n",
              "      <td>68.750</td>\n",
              "      <td>0.000</td>\n",
              "      <td>0.000</td>\n",
              "      <td>0.000</td>\n",
              "      <td>50.000</td>\n",
              "      <td>3.922</td>\n",
              "      <td>6.863</td>\n",
              "      <td>3.922</td>\n",
              "      <td>0.000</td>\n",
              "      <td>14.706</td>\n",
              "      <td>6.863</td>\n",
              "      <td>1.875</td>\n",
              "      <td>1</td>\n",
              "      <td>0</td>\n",
              "      <td>15.0</td>\n",
              "      <td>131.0</td>\n",
              "      <td>120.923</td>\n",
              "      <td>0.000</td>\n",
              "      <td>0.0</td>\n",
              "      <td>0.0</td>\n",
              "      <td>0.000</td>\n",
              "      <td>0.000</td>\n",
              "      <td>0.763</td>\n",
              "      <td>0.0</td>\n",
              "      <td>0.0</td>\n",
              "      <td>0.763</td>\n",
              "      <td>0.000</td>\n",
              "      <td>0.0</td>\n",
              "      <td>0.000</td>\n",
              "      <td>17.000000</td>\n",
              "      <td>16.000000</td>\n",
              "      <td>8.000000</td>\n",
              "      <td>16.000000</td>\n",
              "    </tr>\n",
              "    <tr>\n",
              "      <th>2</th>\n",
              "      <td>60.0</td>\n",
              "      <td>0</td>\n",
              "      <td>Control</td>\n",
              "      <td>62</td>\n",
              "      <td>14</td>\n",
              "      <td>12.071</td>\n",
              "      <td>0.469</td>\n",
              "      <td>140.323</td>\n",
              "      <td>1.571</td>\n",
              "      <td>0.000</td>\n",
              "      <td>1</td>\n",
              "      <td>0.400</td>\n",
              "      <td>21.379</td>\n",
              "      <td>29.032</td>\n",
              "      <td>15.862</td>\n",
              "      <td>6.207</td>\n",
              "      <td>0.690</td>\n",
              "      <td>60.870</td>\n",
              "      <td>0.000</td>\n",
              "      <td>0.000</td>\n",
              "      <td>4.348</td>\n",
              "      <td>30.435</td>\n",
              "      <td>9.655</td>\n",
              "      <td>6.207</td>\n",
              "      <td>8.276</td>\n",
              "      <td>2.759</td>\n",
              "      <td>14.483</td>\n",
              "      <td>6.897</td>\n",
              "      <td>1.348</td>\n",
              "      <td>0</td>\n",
              "      <td>1</td>\n",
              "      <td>16.0</td>\n",
              "      <td>195.0</td>\n",
              "      <td>172.059</td>\n",
              "      <td>0.000</td>\n",
              "      <td>1.0</td>\n",
              "      <td>0.0</td>\n",
              "      <td>0.000</td>\n",
              "      <td>0.000</td>\n",
              "      <td>0.000</td>\n",
              "      <td>0.0</td>\n",
              "      <td>0.0</td>\n",
              "      <td>0.000</td>\n",
              "      <td>1.000</td>\n",
              "      <td>0.0</td>\n",
              "      <td>0.012</td>\n",
              "      <td>16.815287</td>\n",
              "      <td>17.732484</td>\n",
              "      <td>9.866242</td>\n",
              "      <td>14.993631</td>\n",
              "    </tr>\n",
              "    <tr>\n",
              "      <th>3</th>\n",
              "      <td>61.0</td>\n",
              "      <td>0</td>\n",
              "      <td>Control</td>\n",
              "      <td>89</td>\n",
              "      <td>11</td>\n",
              "      <td>17.091</td>\n",
              "      <td>0.503</td>\n",
              "      <td>111.236</td>\n",
              "      <td>2.818</td>\n",
              "      <td>0.000</td>\n",
              "      <td>0</td>\n",
              "      <td>0.491</td>\n",
              "      <td>19.394</td>\n",
              "      <td>12.500</td>\n",
              "      <td>21.818</td>\n",
              "      <td>3.636</td>\n",
              "      <td>1.212</td>\n",
              "      <td>16.667</td>\n",
              "      <td>19.444</td>\n",
              "      <td>47.222</td>\n",
              "      <td>13.889</td>\n",
              "      <td>25.000</td>\n",
              "      <td>4.242</td>\n",
              "      <td>4.242</td>\n",
              "      <td>7.273</td>\n",
              "      <td>1.818</td>\n",
              "      <td>12.727</td>\n",
              "      <td>9.697</td>\n",
              "      <td>0.889</td>\n",
              "      <td>2</td>\n",
              "      <td>1</td>\n",
              "      <td>12.0</td>\n",
              "      <td>217.0</td>\n",
              "      <td>143.077</td>\n",
              "      <td>0.000</td>\n",
              "      <td>0.0</td>\n",
              "      <td>0.0</td>\n",
              "      <td>0.461</td>\n",
              "      <td>0.922</td>\n",
              "      <td>0.000</td>\n",
              "      <td>0.0</td>\n",
              "      <td>0.0</td>\n",
              "      <td>1.382</td>\n",
              "      <td>0.000</td>\n",
              "      <td>0.0</td>\n",
              "      <td>0.000</td>\n",
              "      <td>18.000000</td>\n",
              "      <td>28.000000</td>\n",
              "      <td>14.000000</td>\n",
              "      <td>22.000000</td>\n",
              "    </tr>\n",
              "    <tr>\n",
              "      <th>4</th>\n",
              "      <td>72.0</td>\n",
              "      <td>1</td>\n",
              "      <td>Control</td>\n",
              "      <td>34</td>\n",
              "      <td>13</td>\n",
              "      <td>7.846</td>\n",
              "      <td>0.568</td>\n",
              "      <td>155.294</td>\n",
              "      <td>1.000</td>\n",
              "      <td>1.136</td>\n",
              "      <td>1</td>\n",
              "      <td>0.386</td>\n",
              "      <td>26.136</td>\n",
              "      <td>17.391</td>\n",
              "      <td>15.909</td>\n",
              "      <td>10.227</td>\n",
              "      <td>0.000</td>\n",
              "      <td>100.000</td>\n",
              "      <td>0.000</td>\n",
              "      <td>0.000</td>\n",
              "      <td>7.143</td>\n",
              "      <td>57.143</td>\n",
              "      <td>7.955</td>\n",
              "      <td>3.409</td>\n",
              "      <td>4.545</td>\n",
              "      <td>1.136</td>\n",
              "      <td>15.909</td>\n",
              "      <td>6.818</td>\n",
              "      <td>1.643</td>\n",
              "      <td>1</td>\n",
              "      <td>0</td>\n",
              "      <td>14.0</td>\n",
              "      <td>113.0</td>\n",
              "      <td>183.243</td>\n",
              "      <td>0.885</td>\n",
              "      <td>0.0</td>\n",
              "      <td>0.0</td>\n",
              "      <td>0.000</td>\n",
              "      <td>0.885</td>\n",
              "      <td>0.000</td>\n",
              "      <td>0.0</td>\n",
              "      <td>0.0</td>\n",
              "      <td>0.885</td>\n",
              "      <td>0.500</td>\n",
              "      <td>0.0</td>\n",
              "      <td>0.000</td>\n",
              "      <td>18.000000</td>\n",
              "      <td>18.000000</td>\n",
              "      <td>8.000000</td>\n",
              "      <td>13.000000</td>\n",
              "    </tr>\n",
              "  </tbody>\n",
              "</table>\n",
              "</div>"
            ],
            "text/plain": [
              "    Age  Sex    Group  ...          V          Q          S\n",
              "0  58.0    0  Control  ...  19.000000   8.000000  15.000000\n",
              "1  59.0    0  Control  ...  16.000000   8.000000  16.000000\n",
              "2  60.0    0  Control  ...  17.732484   9.866242  14.993631\n",
              "3  61.0    0  Control  ...  28.000000  14.000000  22.000000\n",
              "4  72.0    1  Control  ...  18.000000   8.000000  13.000000\n",
              "\n",
              "[5 rows x 50 columns]"
            ]
          },
          "metadata": {
            "tags": []
          },
          "execution_count": 14
        }
      ]
    },
    {
      "cell_type": "code",
      "metadata": {
        "id": "EphBKB0-WK1_",
        "colab": {
          "base_uri": "https://localhost:8080/"
        },
        "outputId": "afcd01a9-5215-4502-dec3-1dce4f0a3980"
      },
      "source": [
        "import numpy as np\n",
        "import matplotlib.pyplot as plt\n",
        "col_names=df.columns.tolist()\n",
        "\n",
        "x_colnames=col_names.copy()\n",
        "x_colnames.remove('Group')\n",
        "\n",
        "\n",
        "\n",
        "x=df.loc[:, x_colnames].values\n",
        "y=df.loc[:,[col_names[2]]].values\n",
        "\n",
        "from sklearn.model_selection import train_test_split\n",
        "x_train, x_test, y_train, y_test = train_test_split(x,y,test_size=0.2)\n",
        "\n",
        "print(x_train.shape, y_train.shape)"
      ],
      "execution_count": null,
      "outputs": [
        {
          "output_type": "stream",
          "text": [
            "(1013, 49) (1013, 1)\n"
          ],
          "name": "stdout"
        }
      ]
    },
    {
      "cell_type": "code",
      "metadata": {
        "id": "-Wpij-L6NgSR"
      },
      "source": [
        "from sklearn.preprocessing import StandardScaler\n",
        "scaler = StandardScaler()\n",
        "scaler.fit(x_train)\n",
        "x_train = scaler.transform(x_train)\n",
        "x_test = scaler.transform(x_test)"
      ],
      "execution_count": null,
      "outputs": []
    },
    {
      "cell_type": "code",
      "metadata": {
        "colab": {
          "base_uri": "https://localhost:8080/"
        },
        "id": "4ZCjThUaO8Xp",
        "outputId": "796ba094-cd1f-478c-e30d-d83c7f65c015"
      },
      "source": [
        "from sklearn.neighbors import KNeighborsClassifier\n",
        "classifier = KNeighborsClassifier(n_neighbors=10)\n",
        "classifier.fit(x_train, y_train)\n",
        "\n",
        "y_pred = classifier.predict(x_test)"
      ],
      "execution_count": null,
      "outputs": [
        {
          "output_type": "stream",
          "text": [
            "/usr/local/lib/python3.6/dist-packages/ipykernel_launcher.py:3: DataConversionWarning: A column-vector y was passed when a 1d array was expected. Please change the shape of y to (n_samples, ), for example using ravel().\n",
            "  This is separate from the ipykernel package so we can avoid doing imports until\n"
          ],
          "name": "stderr"
        }
      ]
    },
    {
      "cell_type": "code",
      "metadata": {
        "colab": {
          "base_uri": "https://localhost:8080/"
        },
        "id": "z06sb50dSP9_",
        "outputId": "cfebd58e-3937-47a7-aaba-19f74f1dbc03"
      },
      "source": [
        "from sklearn.metrics import classification_report, confusion_matrix\n",
        "print(classification_report(y_test, y_pred))\n"
      ],
      "execution_count": null,
      "outputs": [
        {
          "output_type": "stream",
          "text": [
            "              precision    recall  f1-score   support\n",
            "\n",
            "     Control       0.61      0.93      0.74        54\n",
            "         MCI       0.38      0.19      0.26        31\n",
            "      Memory       0.00      0.00      0.00         2\n",
            "  PossibleAD       0.00      0.00      0.00        18\n",
            "  ProbableAD       0.73      0.79      0.76       144\n",
            "    Vascular       0.00      0.00      0.00         5\n",
            "\n",
            "    accuracy                           0.67       254\n",
            "   macro avg       0.29      0.32      0.29       254\n",
            "weighted avg       0.59      0.67      0.62       254\n",
            "\n"
          ],
          "name": "stdout"
        },
        {
          "output_type": "stream",
          "text": [
            "/usr/local/lib/python3.6/dist-packages/sklearn/metrics/_classification.py:1272: UndefinedMetricWarning: Precision and F-score are ill-defined and being set to 0.0 in labels with no predicted samples. Use `zero_division` parameter to control this behavior.\n",
            "  _warn_prf(average, modifier, msg_start, len(result))\n"
          ],
          "name": "stderr"
        }
      ]
    },
    {
      "cell_type": "code",
      "metadata": {
        "colab": {
          "base_uri": "https://localhost:8080/"
        },
        "id": "6tPRkJv7SmvQ",
        "outputId": "3361c41b-cd88-4173-bd13-75f68c3d72a3"
      },
      "source": [
        "print(confusion_matrix(y_test, y_pred))"
      ],
      "execution_count": null,
      "outputs": [
        {
          "output_type": "stream",
          "text": [
            "[[ 50   1   0   0   3   0]\n",
            " [  9   6   0   0  16   0]\n",
            " [  1   0   0   0   1   0]\n",
            " [  0   1   0   0  17   0]\n",
            " [ 22   8   0   0 114   0]\n",
            " [  0   0   0   0   5   0]]\n"
          ],
          "name": "stdout"
        }
      ]
    },
    {
      "cell_type": "code",
      "metadata": {
        "id": "mfQgoCZfqDcs",
        "colab": {
          "base_uri": "https://localhost:8080/",
          "height": 476
        },
        "outputId": "f70b403e-699d-4f50-e13f-a3dfc4b4cc66"
      },
      "source": [
        "from sklearn.metrics import plot_confusion_matrix\n",
        "\n",
        "fig, ax = plt.subplots(figsize=(8, 8))\n",
        "# 4,4 for binary and 8,8 for multiclass looks good\n",
        "\n",
        "plot_confusion_matrix(classifier, x_test, y_test, normalize = 'true', cmap=plt.cm.Blues, ax = ax)\n",
        "\n",
        "plt.show()"
      ],
      "execution_count": null,
      "outputs": [
        {
          "output_type": "display_data",
          "data": {
            "image/png": "[encoded data removed]",
            "text/plain": [
              "<Figure size 576x576 with 2 Axes>"
            ]
          },
          "metadata": {
            "tags": [],
            "needs_background": "light"
          }
        }
      ]
    },
    {
      "cell_type": "code",
      "metadata": {
        "id": "JdWsk1Cxb0Gd"
      },
      "source": [
        ""
      ],
      "execution_count": null,
      "outputs": []
    }
  ]
}
