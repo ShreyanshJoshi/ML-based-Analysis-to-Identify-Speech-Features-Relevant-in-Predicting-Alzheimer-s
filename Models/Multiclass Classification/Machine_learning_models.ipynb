{
  "nbformat": 4,
  "nbformat_minor": 0,
  "metadata": {
    "kernelspec": {
      "language": "python",
      "display_name": "Python 3",
      "name": "python3"
    },
    "language_info": {
      "pygments_lexer": "ipython3",
      "nbconvert_exporter": "python",
      "version": "3.6.4",
      "file_extension": ".py",
      "codemirror_mode": {
        "name": "ipython",
        "version": 3
      },
      "name": "python",
      "mimetype": "text/x-python"
    },
    "colab": {
      "name": "Machine learning models_m.ipynb",
      "provenance": [],
      "collapsed_sections": []
    }
  },
  "cells": [
    {
      "cell_type": "code",
      "metadata": {
        "_uuid": "8f2839f25d086af736a60e9eeb907d3b93b6e0e5",
        "_cell_guid": "b1076dfc-b9ad-4769-8c92-a6c4dae69d19",
        "trusted": true,
        "id": "HY6YoSKrFcvz"
      },
      "source": [
        "import numpy as np\n",
        "import pandas as pd\n",
        "\n",
        "import os\n",
        "# Age,Sex,Group,Duration_(sec),MLU_Utts,MLU_Morphemes,FREQ_TTR,Words_Min,Verbs_Utt,%_Word_Errors,Utt_Errors,density,%_Nouns,%_Plurals,%_Verbs,%_Aux,%_Mod,%_3S,%_13S,%_PAST,%_PASTP,%_PRESP,%_prep,%_adj,%_adv,%_conj,%_det,%_pro,noun_verb,retracing,repetition,mor_Utts,mor_syllables,syllables_min,%_Prolongation,Mean_RU,%_Phonological_fragment,%_Phrase_repetitions,%_Word_revisions,%_Phrase_revisions,%_Pauses,%_Filled_pauses,%_TD,SLD_Ratio,Content_words_ratio,Function_words_ratio,N,V,Q,S"
      ],
      "execution_count": 1,
      "outputs": []
    },
    {
      "cell_type": "code",
      "metadata": {
        "_uuid": "d629ff2d2480ee46fbb7e2d37f6b5fab8052498a",
        "_cell_guid": "79c7e3d0-c299-4dcb-8224-4455121ee9b0",
        "trusted": true,
        "id": "3AiPa8alFcv4"
      },
      "source": [
        "import matplotlib.pyplot as plt\n",
        "import seaborn as sns\n",
        "\n",
        "%matplotlib inline"
      ],
      "execution_count": 2,
      "outputs": []
    },
    {
      "cell_type": "code",
      "metadata": {
        "trusted": true,
        "id": "FKg6Z4EgFcv4"
      },
      "source": [
        "df = pd.read_csv(\"train2.csv\")"
      ],
      "execution_count": 3,
      "outputs": []
    },
    {
      "cell_type": "code",
      "metadata": {
        "trusted": true,
        "colab": {
          "base_uri": "https://localhost:8080/",
          "height": 224
        },
        "id": "Jcp5lGWtFcv5",
        "outputId": "0dbe017b-d7de-40d9-efe4-13f0a5732a4e"
      },
      "source": [
        "df.head()"
      ],
      "execution_count": 4,
      "outputs": [
        {
          "output_type": "execute_result",
          "data": {
            "text/html": [
              "<div>\n",
              "<style scoped>\n",
              "    .dataframe tbody tr th:only-of-type {\n",
              "        vertical-align: middle;\n",
              "    }\n",
              "\n",
              "    .dataframe tbody tr th {\n",
              "        vertical-align: top;\n",
              "    }\n",
              "\n",
              "    .dataframe thead th {\n",
              "        text-align: right;\n",
              "    }\n",
              "</style>\n",
              "<table border=\"1\" class=\"dataframe\">\n",
              "  <thead>\n",
              "    <tr style=\"text-align: right;\">\n",
              "      <th></th>\n",
              "      <th>Age</th>\n",
              "      <th>Sex</th>\n",
              "      <th>Group</th>\n",
              "      <th>Duration_(sec)</th>\n",
              "      <th>MLU_Utts</th>\n",
              "      <th>MLU_Morphemes</th>\n",
              "      <th>FREQ_TTR</th>\n",
              "      <th>Words_Min</th>\n",
              "      <th>Verbs_Utt</th>\n",
              "      <th>%_Word_Errors</th>\n",
              "      <th>Utt_Errors</th>\n",
              "      <th>density</th>\n",
              "      <th>%_Nouns</th>\n",
              "      <th>%_Plurals</th>\n",
              "      <th>%_Verbs</th>\n",
              "      <th>%_Aux</th>\n",
              "      <th>%_Mod</th>\n",
              "      <th>%_3S</th>\n",
              "      <th>%_13S</th>\n",
              "      <th>%_PAST</th>\n",
              "      <th>%_PASTP</th>\n",
              "      <th>%_PRESP</th>\n",
              "      <th>%_prep</th>\n",
              "      <th>%_adj</th>\n",
              "      <th>%_adv</th>\n",
              "      <th>%_conj</th>\n",
              "      <th>%_det</th>\n",
              "      <th>%_pro</th>\n",
              "      <th>noun_verb</th>\n",
              "      <th>retracing</th>\n",
              "      <th>repetition</th>\n",
              "      <th>mor_Utts</th>\n",
              "      <th>mor_syllables</th>\n",
              "      <th>syllables_min</th>\n",
              "      <th>%_Prolongation</th>\n",
              "      <th>Mean_RU</th>\n",
              "      <th>%_Phonological_fragment</th>\n",
              "      <th>%_Phrase_repetitions</th>\n",
              "      <th>%_Word_revisions</th>\n",
              "      <th>%_Phrase_revisions</th>\n",
              "      <th>%_Pauses</th>\n",
              "      <th>%_Filled_pauses</th>\n",
              "      <th>%_TD</th>\n",
              "      <th>SLD_Ratio</th>\n",
              "      <th>Content_words_ratio</th>\n",
              "      <th>Function_words_ratio</th>\n",
              "      <th>N</th>\n",
              "      <th>V</th>\n",
              "      <th>Q</th>\n",
              "      <th>S</th>\n",
              "    </tr>\n",
              "  </thead>\n",
              "  <tbody>\n",
              "    <tr>\n",
              "      <th>0</th>\n",
              "      <td>58.0</td>\n",
              "      <td>0</td>\n",
              "      <td>Control</td>\n",
              "      <td>56</td>\n",
              "      <td>16</td>\n",
              "      <td>9.250</td>\n",
              "      <td>0.523</td>\n",
              "      <td>141.429</td>\n",
              "      <td>1.563</td>\n",
              "      <td>0.000</td>\n",
              "      <td>1</td>\n",
              "      <td>0.371</td>\n",
              "      <td>25.000</td>\n",
              "      <td>21.212</td>\n",
              "      <td>18.939</td>\n",
              "      <td>5.303</td>\n",
              "      <td>0.758</td>\n",
              "      <td>52.000</td>\n",
              "      <td>0.000</td>\n",
              "      <td>0.000</td>\n",
              "      <td>8.000</td>\n",
              "      <td>24.000</td>\n",
              "      <td>9.848</td>\n",
              "      <td>6.061</td>\n",
              "      <td>6.061</td>\n",
              "      <td>0.000</td>\n",
              "      <td>15.909</td>\n",
              "      <td>5.303</td>\n",
              "      <td>1.320</td>\n",
              "      <td>1</td>\n",
              "      <td>2</td>\n",
              "      <td>18.0</td>\n",
              "      <td>176.0</td>\n",
              "      <td>178.983</td>\n",
              "      <td>0.000</td>\n",
              "      <td>1.0</td>\n",
              "      <td>0.0</td>\n",
              "      <td>0.568</td>\n",
              "      <td>0.000</td>\n",
              "      <td>0.568</td>\n",
              "      <td>0.0</td>\n",
              "      <td>0.0</td>\n",
              "      <td>1.136</td>\n",
              "      <td>0.333</td>\n",
              "      <td>0.0</td>\n",
              "      <td>0.014</td>\n",
              "      <td>19.000000</td>\n",
              "      <td>19.000000</td>\n",
              "      <td>8.000000</td>\n",
              "      <td>15.000000</td>\n",
              "    </tr>\n",
              "    <tr>\n",
              "      <th>1</th>\n",
              "      <td>59.0</td>\n",
              "      <td>0</td>\n",
              "      <td>Control</td>\n",
              "      <td>65</td>\n",
              "      <td>14</td>\n",
              "      <td>7.714</td>\n",
              "      <td>0.490</td>\n",
              "      <td>94.154</td>\n",
              "      <td>1.067</td>\n",
              "      <td>0.000</td>\n",
              "      <td>2</td>\n",
              "      <td>0.353</td>\n",
              "      <td>29.412</td>\n",
              "      <td>20.000</td>\n",
              "      <td>15.686</td>\n",
              "      <td>7.843</td>\n",
              "      <td>0.000</td>\n",
              "      <td>68.750</td>\n",
              "      <td>0.000</td>\n",
              "      <td>0.000</td>\n",
              "      <td>0.000</td>\n",
              "      <td>50.000</td>\n",
              "      <td>3.922</td>\n",
              "      <td>6.863</td>\n",
              "      <td>3.922</td>\n",
              "      <td>0.000</td>\n",
              "      <td>14.706</td>\n",
              "      <td>6.863</td>\n",
              "      <td>1.875</td>\n",
              "      <td>1</td>\n",
              "      <td>0</td>\n",
              "      <td>15.0</td>\n",
              "      <td>131.0</td>\n",
              "      <td>120.923</td>\n",
              "      <td>0.000</td>\n",
              "      <td>0.0</td>\n",
              "      <td>0.0</td>\n",
              "      <td>0.000</td>\n",
              "      <td>0.000</td>\n",
              "      <td>0.763</td>\n",
              "      <td>0.0</td>\n",
              "      <td>0.0</td>\n",
              "      <td>0.763</td>\n",
              "      <td>0.000</td>\n",
              "      <td>0.0</td>\n",
              "      <td>0.000</td>\n",
              "      <td>17.000000</td>\n",
              "      <td>16.000000</td>\n",
              "      <td>8.000000</td>\n",
              "      <td>16.000000</td>\n",
              "    </tr>\n",
              "    <tr>\n",
              "      <th>2</th>\n",
              "      <td>60.0</td>\n",
              "      <td>0</td>\n",
              "      <td>Control</td>\n",
              "      <td>62</td>\n",
              "      <td>14</td>\n",
              "      <td>12.071</td>\n",
              "      <td>0.469</td>\n",
              "      <td>140.323</td>\n",
              "      <td>1.571</td>\n",
              "      <td>0.000</td>\n",
              "      <td>1</td>\n",
              "      <td>0.400</td>\n",
              "      <td>21.379</td>\n",
              "      <td>29.032</td>\n",
              "      <td>15.862</td>\n",
              "      <td>6.207</td>\n",
              "      <td>0.690</td>\n",
              "      <td>60.870</td>\n",
              "      <td>0.000</td>\n",
              "      <td>0.000</td>\n",
              "      <td>4.348</td>\n",
              "      <td>30.435</td>\n",
              "      <td>9.655</td>\n",
              "      <td>6.207</td>\n",
              "      <td>8.276</td>\n",
              "      <td>2.759</td>\n",
              "      <td>14.483</td>\n",
              "      <td>6.897</td>\n",
              "      <td>1.348</td>\n",
              "      <td>0</td>\n",
              "      <td>1</td>\n",
              "      <td>16.0</td>\n",
              "      <td>195.0</td>\n",
              "      <td>172.059</td>\n",
              "      <td>0.000</td>\n",
              "      <td>1.0</td>\n",
              "      <td>0.0</td>\n",
              "      <td>0.000</td>\n",
              "      <td>0.000</td>\n",
              "      <td>0.000</td>\n",
              "      <td>0.0</td>\n",
              "      <td>0.0</td>\n",
              "      <td>0.000</td>\n",
              "      <td>1.000</td>\n",
              "      <td>0.0</td>\n",
              "      <td>0.012</td>\n",
              "      <td>16.815287</td>\n",
              "      <td>17.732484</td>\n",
              "      <td>9.866242</td>\n",
              "      <td>14.993631</td>\n",
              "    </tr>\n",
              "    <tr>\n",
              "      <th>3</th>\n",
              "      <td>61.0</td>\n",
              "      <td>0</td>\n",
              "      <td>Control</td>\n",
              "      <td>89</td>\n",
              "      <td>11</td>\n",
              "      <td>17.091</td>\n",
              "      <td>0.503</td>\n",
              "      <td>111.236</td>\n",
              "      <td>2.818</td>\n",
              "      <td>0.000</td>\n",
              "      <td>0</td>\n",
              "      <td>0.491</td>\n",
              "      <td>19.394</td>\n",
              "      <td>12.500</td>\n",
              "      <td>21.818</td>\n",
              "      <td>3.636</td>\n",
              "      <td>1.212</td>\n",
              "      <td>16.667</td>\n",
              "      <td>19.444</td>\n",
              "      <td>47.222</td>\n",
              "      <td>13.889</td>\n",
              "      <td>25.000</td>\n",
              "      <td>4.242</td>\n",
              "      <td>4.242</td>\n",
              "      <td>7.273</td>\n",
              "      <td>1.818</td>\n",
              "      <td>12.727</td>\n",
              "      <td>9.697</td>\n",
              "      <td>0.889</td>\n",
              "      <td>2</td>\n",
              "      <td>1</td>\n",
              "      <td>12.0</td>\n",
              "      <td>217.0</td>\n",
              "      <td>143.077</td>\n",
              "      <td>0.000</td>\n",
              "      <td>0.0</td>\n",
              "      <td>0.0</td>\n",
              "      <td>0.461</td>\n",
              "      <td>0.922</td>\n",
              "      <td>0.000</td>\n",
              "      <td>0.0</td>\n",
              "      <td>0.0</td>\n",
              "      <td>1.382</td>\n",
              "      <td>0.000</td>\n",
              "      <td>0.0</td>\n",
              "      <td>0.000</td>\n",
              "      <td>18.000000</td>\n",
              "      <td>28.000000</td>\n",
              "      <td>14.000000</td>\n",
              "      <td>22.000000</td>\n",
              "    </tr>\n",
              "    <tr>\n",
              "      <th>4</th>\n",
              "      <td>72.0</td>\n",
              "      <td>1</td>\n",
              "      <td>Control</td>\n",
              "      <td>34</td>\n",
              "      <td>13</td>\n",
              "      <td>7.846</td>\n",
              "      <td>0.568</td>\n",
              "      <td>155.294</td>\n",
              "      <td>1.000</td>\n",
              "      <td>1.136</td>\n",
              "      <td>1</td>\n",
              "      <td>0.386</td>\n",
              "      <td>26.136</td>\n",
              "      <td>17.391</td>\n",
              "      <td>15.909</td>\n",
              "      <td>10.227</td>\n",
              "      <td>0.000</td>\n",
              "      <td>100.000</td>\n",
              "      <td>0.000</td>\n",
              "      <td>0.000</td>\n",
              "      <td>7.143</td>\n",
              "      <td>57.143</td>\n",
              "      <td>7.955</td>\n",
              "      <td>3.409</td>\n",
              "      <td>4.545</td>\n",
              "      <td>1.136</td>\n",
              "      <td>15.909</td>\n",
              "      <td>6.818</td>\n",
              "      <td>1.643</td>\n",
              "      <td>1</td>\n",
              "      <td>0</td>\n",
              "      <td>14.0</td>\n",
              "      <td>113.0</td>\n",
              "      <td>183.243</td>\n",
              "      <td>0.885</td>\n",
              "      <td>0.0</td>\n",
              "      <td>0.0</td>\n",
              "      <td>0.000</td>\n",
              "      <td>0.885</td>\n",
              "      <td>0.000</td>\n",
              "      <td>0.0</td>\n",
              "      <td>0.0</td>\n",
              "      <td>0.885</td>\n",
              "      <td>0.500</td>\n",
              "      <td>0.0</td>\n",
              "      <td>0.000</td>\n",
              "      <td>18.000000</td>\n",
              "      <td>18.000000</td>\n",
              "      <td>8.000000</td>\n",
              "      <td>13.000000</td>\n",
              "    </tr>\n",
              "  </tbody>\n",
              "</table>\n",
              "</div>"
            ],
            "text/plain": [
              "    Age  Sex    Group  ...          V          Q          S\n",
              "0  58.0    0  Control  ...  19.000000   8.000000  15.000000\n",
              "1  59.0    0  Control  ...  16.000000   8.000000  16.000000\n",
              "2  60.0    0  Control  ...  17.732484   9.866242  14.993631\n",
              "3  61.0    0  Control  ...  28.000000  14.000000  22.000000\n",
              "4  72.0    1  Control  ...  18.000000   8.000000  13.000000\n",
              "\n",
              "[5 rows x 50 columns]"
            ]
          },
          "metadata": {
            "tags": []
          },
          "execution_count": 4
        }
      ]
    },
    {
      "cell_type": "code",
      "metadata": {
        "trusted": true,
        "id": "602KpqwHFcv5",
        "colab": {
          "base_uri": "https://localhost:8080/"
        },
        "outputId": "270f55ea-a1c7-4bb5-8f6a-248359bca1f5"
      },
      "source": [
        "df.info()"
      ],
      "execution_count": 5,
      "outputs": [
        {
          "output_type": "stream",
          "text": [
            "<class 'pandas.core.frame.DataFrame'>\n",
            "RangeIndex: 1267 entries, 0 to 1266\n",
            "Data columns (total 50 columns):\n",
            " #   Column                   Non-Null Count  Dtype  \n",
            "---  ------                   --------------  -----  \n",
            " 0   Age                      1267 non-null   float64\n",
            " 1   Sex                      1267 non-null   int64  \n",
            " 2   Group                    1267 non-null   object \n",
            " 3   Duration_(sec)           1267 non-null   int64  \n",
            " 4   MLU_Utts                 1267 non-null   int64  \n",
            " 5   MLU_Morphemes            1267 non-null   float64\n",
            " 6   FREQ_TTR                 1267 non-null   float64\n",
            " 7   Words_Min                1267 non-null   float64\n",
            " 8   Verbs_Utt                1267 non-null   float64\n",
            " 9   %_Word_Errors            1267 non-null   float64\n",
            " 10  Utt_Errors               1267 non-null   int64  \n",
            " 11  density                  1267 non-null   float64\n",
            " 12  %_Nouns                  1267 non-null   float64\n",
            " 13  %_Plurals                1267 non-null   float64\n",
            " 14  %_Verbs                  1267 non-null   float64\n",
            " 15  %_Aux                    1267 non-null   float64\n",
            " 16  %_Mod                    1267 non-null   float64\n",
            " 17  %_3S                     1267 non-null   float64\n",
            " 18  %_13S                    1267 non-null   float64\n",
            " 19  %_PAST                   1267 non-null   float64\n",
            " 20  %_PASTP                  1267 non-null   float64\n",
            " 21  %_PRESP                  1267 non-null   float64\n",
            " 22  %_prep                   1267 non-null   float64\n",
            " 23  %_adj                    1267 non-null   float64\n",
            " 24  %_adv                    1267 non-null   float64\n",
            " 25  %_conj                   1267 non-null   float64\n",
            " 26  %_det                    1267 non-null   float64\n",
            " 27  %_pro                    1267 non-null   float64\n",
            " 28  noun_verb                1267 non-null   float64\n",
            " 29  retracing                1267 non-null   int64  \n",
            " 30  repetition               1267 non-null   int64  \n",
            " 31  mor_Utts                 1267 non-null   float64\n",
            " 32  mor_syllables            1267 non-null   float64\n",
            " 33  syllables_min            1267 non-null   float64\n",
            " 34  %_Prolongation           1267 non-null   float64\n",
            " 35  Mean_RU                  1267 non-null   float64\n",
            " 36  %_Phonological_fragment  1267 non-null   float64\n",
            " 37  %_Phrase_repetitions     1267 non-null   float64\n",
            " 38  %_Word_revisions         1267 non-null   float64\n",
            " 39  %_Phrase_revisions       1267 non-null   float64\n",
            " 40  %_Pauses                 1267 non-null   float64\n",
            " 41  %_Filled_pauses          1267 non-null   float64\n",
            " 42  %_TD                     1267 non-null   float64\n",
            " 43  SLD_Ratio                1267 non-null   float64\n",
            " 44  Content_words_ratio      1267 non-null   float64\n",
            " 45  Function_words_ratio     1267 non-null   float64\n",
            " 46  N                        1267 non-null   float64\n",
            " 47  V                        1267 non-null   float64\n",
            " 48  Q                        1267 non-null   float64\n",
            " 49  S                        1267 non-null   float64\n",
            "dtypes: float64(43), int64(6), object(1)\n",
            "memory usage: 495.0+ KB\n"
          ],
          "name": "stdout"
        }
      ]
    },
    {
      "cell_type": "code",
      "metadata": {
        "trusted": true,
        "id": "ivEi7JTHFcv6",
        "colab": {
          "base_uri": "https://localhost:8080/",
          "height": 317
        },
        "outputId": "6fe911cd-55a5-4624-8106-9f3793daa0a7"
      },
      "source": [
        "df.describe()"
      ],
      "execution_count": 6,
      "outputs": [
        {
          "output_type": "execute_result",
          "data": {
            "text/html": [
              "<div>\n",
              "<style scoped>\n",
              "    .dataframe tbody tr th:only-of-type {\n",
              "        vertical-align: middle;\n",
              "    }\n",
              "\n",
              "    .dataframe tbody tr th {\n",
              "        vertical-align: top;\n",
              "    }\n",
              "\n",
              "    .dataframe thead th {\n",
              "        text-align: right;\n",
              "    }\n",
              "</style>\n",
              "<table border=\"1\" class=\"dataframe\">\n",
              "  <thead>\n",
              "    <tr style=\"text-align: right;\">\n",
              "      <th></th>\n",
              "      <th>Age</th>\n",
              "      <th>Sex</th>\n",
              "      <th>Duration_(sec)</th>\n",
              "      <th>MLU_Utts</th>\n",
              "      <th>MLU_Morphemes</th>\n",
              "      <th>FREQ_TTR</th>\n",
              "      <th>Words_Min</th>\n",
              "      <th>Verbs_Utt</th>\n",
              "      <th>%_Word_Errors</th>\n",
              "      <th>Utt_Errors</th>\n",
              "      <th>density</th>\n",
              "      <th>%_Nouns</th>\n",
              "      <th>%_Plurals</th>\n",
              "      <th>%_Verbs</th>\n",
              "      <th>%_Aux</th>\n",
              "      <th>%_Mod</th>\n",
              "      <th>%_3S</th>\n",
              "      <th>%_13S</th>\n",
              "      <th>%_PAST</th>\n",
              "      <th>%_PASTP</th>\n",
              "      <th>%_PRESP</th>\n",
              "      <th>%_prep</th>\n",
              "      <th>%_adj</th>\n",
              "      <th>%_adv</th>\n",
              "      <th>%_conj</th>\n",
              "      <th>%_det</th>\n",
              "      <th>%_pro</th>\n",
              "      <th>noun_verb</th>\n",
              "      <th>retracing</th>\n",
              "      <th>repetition</th>\n",
              "      <th>mor_Utts</th>\n",
              "      <th>mor_syllables</th>\n",
              "      <th>syllables_min</th>\n",
              "      <th>%_Prolongation</th>\n",
              "      <th>Mean_RU</th>\n",
              "      <th>%_Phonological_fragment</th>\n",
              "      <th>%_Phrase_repetitions</th>\n",
              "      <th>%_Word_revisions</th>\n",
              "      <th>%_Phrase_revisions</th>\n",
              "      <th>%_Pauses</th>\n",
              "      <th>%_Filled_pauses</th>\n",
              "      <th>%_TD</th>\n",
              "      <th>SLD_Ratio</th>\n",
              "      <th>Content_words_ratio</th>\n",
              "      <th>Function_words_ratio</th>\n",
              "      <th>N</th>\n",
              "      <th>V</th>\n",
              "      <th>Q</th>\n",
              "      <th>S</th>\n",
              "    </tr>\n",
              "  </thead>\n",
              "  <tbody>\n",
              "    <tr>\n",
              "      <th>count</th>\n",
              "      <td>1267.000000</td>\n",
              "      <td>1267.000000</td>\n",
              "      <td>1267.000000</td>\n",
              "      <td>1267.000000</td>\n",
              "      <td>1267.000000</td>\n",
              "      <td>1267.000000</td>\n",
              "      <td>1267.000000</td>\n",
              "      <td>1267.000000</td>\n",
              "      <td>1267.000000</td>\n",
              "      <td>1267.000000</td>\n",
              "      <td>1267.000000</td>\n",
              "      <td>1267.000000</td>\n",
              "      <td>1267.000000</td>\n",
              "      <td>1267.000000</td>\n",
              "      <td>1267.000000</td>\n",
              "      <td>1267.000000</td>\n",
              "      <td>1267.000000</td>\n",
              "      <td>1267.000000</td>\n",
              "      <td>1267.000000</td>\n",
              "      <td>1267.000000</td>\n",
              "      <td>1267.000000</td>\n",
              "      <td>1267.000000</td>\n",
              "      <td>1267.000000</td>\n",
              "      <td>1267.000000</td>\n",
              "      <td>1267.000000</td>\n",
              "      <td>1267.000000</td>\n",
              "      <td>1267.000000</td>\n",
              "      <td>1267.000000</td>\n",
              "      <td>1267.000000</td>\n",
              "      <td>1267.000000</td>\n",
              "      <td>1267.000000</td>\n",
              "      <td>1267.000000</td>\n",
              "      <td>1267.000000</td>\n",
              "      <td>1267.000000</td>\n",
              "      <td>1267.000000</td>\n",
              "      <td>1267.000000</td>\n",
              "      <td>1267.000000</td>\n",
              "      <td>1267.000000</td>\n",
              "      <td>1267.000000</td>\n",
              "      <td>1267.000000</td>\n",
              "      <td>1267.000000</td>\n",
              "      <td>1267.000000</td>\n",
              "      <td>1267.000000</td>\n",
              "      <td>1267.000000</td>\n",
              "      <td>1267.000000</td>\n",
              "      <td>1267.000000</td>\n",
              "      <td>1267.000000</td>\n",
              "      <td>1267.000000</td>\n",
              "      <td>1267.000000</td>\n",
              "    </tr>\n",
              "    <tr>\n",
              "      <th>mean</th>\n",
              "      <td>69.798737</td>\n",
              "      <td>0.398579</td>\n",
              "      <td>47.687451</td>\n",
              "      <td>10.667719</td>\n",
              "      <td>7.760658</td>\n",
              "      <td>0.677399</td>\n",
              "      <td>88.292149</td>\n",
              "      <td>1.083561</td>\n",
              "      <td>0.359540</td>\n",
              "      <td>0.629834</td>\n",
              "      <td>0.366574</td>\n",
              "      <td>31.371512</td>\n",
              "      <td>13.496805</td>\n",
              "      <td>15.637020</td>\n",
              "      <td>4.275481</td>\n",
              "      <td>1.312129</td>\n",
              "      <td>35.341492</td>\n",
              "      <td>6.416969</td>\n",
              "      <td>20.195283</td>\n",
              "      <td>5.244219</td>\n",
              "      <td>29.106568</td>\n",
              "      <td>6.825940</td>\n",
              "      <td>3.861606</td>\n",
              "      <td>4.053751</td>\n",
              "      <td>0.818101</td>\n",
              "      <td>12.408405</td>\n",
              "      <td>8.598211</td>\n",
              "      <td>2.662438</td>\n",
              "      <td>1.033149</td>\n",
              "      <td>0.763220</td>\n",
              "      <td>16.773481</td>\n",
              "      <td>105.614049</td>\n",
              "      <td>104.875957</td>\n",
              "      <td>0.121043</td>\n",
              "      <td>0.466401</td>\n",
              "      <td>0.105403</td>\n",
              "      <td>0.222004</td>\n",
              "      <td>0.547199</td>\n",
              "      <td>0.622935</td>\n",
              "      <td>1.523656</td>\n",
              "      <td>0.014181</td>\n",
              "      <td>3.035386</td>\n",
              "      <td>0.210275</td>\n",
              "      <td>0.005829</td>\n",
              "      <td>0.015039</td>\n",
              "      <td>14.619226</td>\n",
              "      <td>15.856903</td>\n",
              "      <td>9.168163</td>\n",
              "      <td>12.923501</td>\n",
              "    </tr>\n",
              "    <tr>\n",
              "      <th>std</th>\n",
              "      <td>8.370832</td>\n",
              "      <td>0.489799</td>\n",
              "      <td>29.568437</td>\n",
              "      <td>7.920972</td>\n",
              "      <td>4.375185</td>\n",
              "      <td>0.152127</td>\n",
              "      <td>46.436103</td>\n",
              "      <td>0.659214</td>\n",
              "      <td>1.147224</td>\n",
              "      <td>1.554536</td>\n",
              "      <td>0.119249</td>\n",
              "      <td>20.819016</td>\n",
              "      <td>14.580033</td>\n",
              "      <td>6.146988</td>\n",
              "      <td>4.182408</td>\n",
              "      <td>2.175885</td>\n",
              "      <td>32.232830</td>\n",
              "      <td>14.371501</td>\n",
              "      <td>28.150371</td>\n",
              "      <td>10.284389</td>\n",
              "      <td>30.096660</td>\n",
              "      <td>4.361171</td>\n",
              "      <td>3.929830</td>\n",
              "      <td>3.582693</td>\n",
              "      <td>1.494103</td>\n",
              "      <td>7.227299</td>\n",
              "      <td>6.253665</td>\n",
              "      <td>4.115758</td>\n",
              "      <td>1.667127</td>\n",
              "      <td>1.544742</td>\n",
              "      <td>10.852886</td>\n",
              "      <td>63.262675</td>\n",
              "      <td>49.386333</td>\n",
              "      <td>0.489563</td>\n",
              "      <td>0.580130</td>\n",
              "      <td>0.650317</td>\n",
              "      <td>0.620951</td>\n",
              "      <td>0.899861</td>\n",
              "      <td>1.071230</td>\n",
              "      <td>2.439487</td>\n",
              "      <td>0.174894</td>\n",
              "      <td>3.213491</td>\n",
              "      <td>0.257187</td>\n",
              "      <td>0.018156</td>\n",
              "      <td>0.061879</td>\n",
              "      <td>3.523324</td>\n",
              "      <td>5.272567</td>\n",
              "      <td>4.156032</td>\n",
              "      <td>5.701678</td>\n",
              "    </tr>\n",
              "    <tr>\n",
              "      <th>min</th>\n",
              "      <td>46.000000</td>\n",
              "      <td>0.000000</td>\n",
              "      <td>0.000000</td>\n",
              "      <td>1.000000</td>\n",
              "      <td>1.000000</td>\n",
              "      <td>0.342000</td>\n",
              "      <td>6.316000</td>\n",
              "      <td>0.000000</td>\n",
              "      <td>0.000000</td>\n",
              "      <td>0.000000</td>\n",
              "      <td>0.000000</td>\n",
              "      <td>0.000000</td>\n",
              "      <td>0.000000</td>\n",
              "      <td>0.000000</td>\n",
              "      <td>0.000000</td>\n",
              "      <td>0.000000</td>\n",
              "      <td>0.000000</td>\n",
              "      <td>0.000000</td>\n",
              "      <td>0.000000</td>\n",
              "      <td>0.000000</td>\n",
              "      <td>0.000000</td>\n",
              "      <td>0.000000</td>\n",
              "      <td>0.000000</td>\n",
              "      <td>0.000000</td>\n",
              "      <td>0.000000</td>\n",
              "      <td>0.000000</td>\n",
              "      <td>0.000000</td>\n",
              "      <td>0.000000</td>\n",
              "      <td>0.000000</td>\n",
              "      <td>0.000000</td>\n",
              "      <td>2.000000</td>\n",
              "      <td>7.000000</td>\n",
              "      <td>6.360000</td>\n",
              "      <td>0.000000</td>\n",
              "      <td>0.000000</td>\n",
              "      <td>0.000000</td>\n",
              "      <td>0.000000</td>\n",
              "      <td>0.000000</td>\n",
              "      <td>0.000000</td>\n",
              "      <td>0.000000</td>\n",
              "      <td>0.000000</td>\n",
              "      <td>0.000000</td>\n",
              "      <td>0.000000</td>\n",
              "      <td>0.000000</td>\n",
              "      <td>0.000000</td>\n",
              "      <td>2.000000</td>\n",
              "      <td>0.000000</td>\n",
              "      <td>0.000000</td>\n",
              "      <td>0.000000</td>\n",
              "    </tr>\n",
              "    <tr>\n",
              "      <th>25%</th>\n",
              "      <td>65.000000</td>\n",
              "      <td>0.000000</td>\n",
              "      <td>26.000000</td>\n",
              "      <td>6.000000</td>\n",
              "      <td>5.000000</td>\n",
              "      <td>0.566000</td>\n",
              "      <td>54.345500</td>\n",
              "      <td>0.625000</td>\n",
              "      <td>0.000000</td>\n",
              "      <td>0.000000</td>\n",
              "      <td>0.333000</td>\n",
              "      <td>19.713000</td>\n",
              "      <td>0.000000</td>\n",
              "      <td>13.725000</td>\n",
              "      <td>0.000000</td>\n",
              "      <td>0.000000</td>\n",
              "      <td>0.000000</td>\n",
              "      <td>0.000000</td>\n",
              "      <td>0.000000</td>\n",
              "      <td>0.000000</td>\n",
              "      <td>0.000000</td>\n",
              "      <td>4.000000</td>\n",
              "      <td>0.921500</td>\n",
              "      <td>0.000000</td>\n",
              "      <td>0.000000</td>\n",
              "      <td>7.692000</td>\n",
              "      <td>4.138500</td>\n",
              "      <td>1.091000</td>\n",
              "      <td>0.000000</td>\n",
              "      <td>0.000000</td>\n",
              "      <td>9.000000</td>\n",
              "      <td>63.000000</td>\n",
              "      <td>66.812000</td>\n",
              "      <td>0.000000</td>\n",
              "      <td>0.000000</td>\n",
              "      <td>0.000000</td>\n",
              "      <td>0.000000</td>\n",
              "      <td>0.000000</td>\n",
              "      <td>0.000000</td>\n",
              "      <td>0.000000</td>\n",
              "      <td>0.000000</td>\n",
              "      <td>0.968500</td>\n",
              "      <td>0.000000</td>\n",
              "      <td>0.000000</td>\n",
              "      <td>0.000000</td>\n",
              "      <td>13.842857</td>\n",
              "      <td>14.000000</td>\n",
              "      <td>8.000000</td>\n",
              "      <td>9.000000</td>\n",
              "    </tr>\n",
              "    <tr>\n",
              "      <th>50%</th>\n",
              "      <td>69.000000</td>\n",
              "      <td>0.000000</td>\n",
              "      <td>41.000000</td>\n",
              "      <td>8.000000</td>\n",
              "      <td>7.667000</td>\n",
              "      <td>0.667000</td>\n",
              "      <td>90.000000</td>\n",
              "      <td>1.167000</td>\n",
              "      <td>0.000000</td>\n",
              "      <td>0.000000</td>\n",
              "      <td>0.394000</td>\n",
              "      <td>24.242000</td>\n",
              "      <td>11.111000</td>\n",
              "      <td>16.471000</td>\n",
              "      <td>3.636000</td>\n",
              "      <td>0.000000</td>\n",
              "      <td>33.333000</td>\n",
              "      <td>0.000000</td>\n",
              "      <td>4.167000</td>\n",
              "      <td>0.000000</td>\n",
              "      <td>21.739000</td>\n",
              "      <td>7.317000</td>\n",
              "      <td>3.125000</td>\n",
              "      <td>3.846000</td>\n",
              "      <td>0.000000</td>\n",
              "      <td>13.158000</td>\n",
              "      <td>8.163000</td>\n",
              "      <td>1.429000</td>\n",
              "      <td>0.000000</td>\n",
              "      <td>0.000000</td>\n",
              "      <td>14.000000</td>\n",
              "      <td>91.000000</td>\n",
              "      <td>104.494000</td>\n",
              "      <td>0.000000</td>\n",
              "      <td>0.000000</td>\n",
              "      <td>0.000000</td>\n",
              "      <td>0.000000</td>\n",
              "      <td>0.000000</td>\n",
              "      <td>0.000000</td>\n",
              "      <td>0.730000</td>\n",
              "      <td>0.000000</td>\n",
              "      <td>2.174000</td>\n",
              "      <td>0.174597</td>\n",
              "      <td>0.000000</td>\n",
              "      <td>0.000000</td>\n",
              "      <td>15.000000</td>\n",
              "      <td>16.000000</td>\n",
              "      <td>9.434916</td>\n",
              "      <td>13.000000</td>\n",
              "    </tr>\n",
              "    <tr>\n",
              "      <th>75%</th>\n",
              "      <td>75.000000</td>\n",
              "      <td>1.000000</td>\n",
              "      <td>63.000000</td>\n",
              "      <td>13.000000</td>\n",
              "      <td>10.455500</td>\n",
              "      <td>0.770000</td>\n",
              "      <td>118.666000</td>\n",
              "      <td>1.500000</td>\n",
              "      <td>0.000000</td>\n",
              "      <td>0.000000</td>\n",
              "      <td>0.441000</td>\n",
              "      <td>30.556000</td>\n",
              "      <td>20.000000</td>\n",
              "      <td>18.919000</td>\n",
              "      <td>7.323500</td>\n",
              "      <td>2.037000</td>\n",
              "      <td>62.500000</td>\n",
              "      <td>5.263000</td>\n",
              "      <td>36.364000</td>\n",
              "      <td>7.692000</td>\n",
              "      <td>50.000000</td>\n",
              "      <td>9.722000</td>\n",
              "      <td>5.556000</td>\n",
              "      <td>6.122000</td>\n",
              "      <td>1.408000</td>\n",
              "      <td>17.288500</td>\n",
              "      <td>12.334500</td>\n",
              "      <td>2.000000</td>\n",
              "      <td>1.000000</td>\n",
              "      <td>1.000000</td>\n",
              "      <td>21.000000</td>\n",
              "      <td>131.000000</td>\n",
              "      <td>138.623000</td>\n",
              "      <td>0.000000</td>\n",
              "      <td>1.000000</td>\n",
              "      <td>0.000000</td>\n",
              "      <td>0.000000</td>\n",
              "      <td>0.924000</td>\n",
              "      <td>1.055500</td>\n",
              "      <td>2.076000</td>\n",
              "      <td>0.000000</td>\n",
              "      <td>4.225000</td>\n",
              "      <td>0.310500</td>\n",
              "      <td>0.000000</td>\n",
              "      <td>0.019000</td>\n",
              "      <td>17.000000</td>\n",
              "      <td>19.000000</td>\n",
              "      <td>13.000000</td>\n",
              "      <td>16.000000</td>\n",
              "    </tr>\n",
              "    <tr>\n",
              "      <th>max</th>\n",
              "      <td>90.000000</td>\n",
              "      <td>1.000000</td>\n",
              "      <td>259.000000</td>\n",
              "      <td>56.000000</td>\n",
              "      <td>28.000000</td>\n",
              "      <td>1.000000</td>\n",
              "      <td>430.000000</td>\n",
              "      <td>4.000000</td>\n",
              "      <td>15.385000</td>\n",
              "      <td>15.000000</td>\n",
              "      <td>1.000000</td>\n",
              "      <td>100.000000</td>\n",
              "      <td>100.000000</td>\n",
              "      <td>100.000000</td>\n",
              "      <td>20.000000</td>\n",
              "      <td>25.000000</td>\n",
              "      <td>125.000000</td>\n",
              "      <td>100.000000</td>\n",
              "      <td>100.000000</td>\n",
              "      <td>100.000000</td>\n",
              "      <td>140.000000</td>\n",
              "      <td>25.000000</td>\n",
              "      <td>33.333000</td>\n",
              "      <td>29.412000</td>\n",
              "      <td>20.000000</td>\n",
              "      <td>50.000000</td>\n",
              "      <td>40.000000</td>\n",
              "      <td>44.000000</td>\n",
              "      <td>17.000000</td>\n",
              "      <td>14.000000</td>\n",
              "      <td>81.000000</td>\n",
              "      <td>629.000000</td>\n",
              "      <td>523.043000</td>\n",
              "      <td>5.738000</td>\n",
              "      <td>5.000000</td>\n",
              "      <td>12.048000</td>\n",
              "      <td>7.500000</td>\n",
              "      <td>7.143000</td>\n",
              "      <td>10.000000</td>\n",
              "      <td>28.395000</td>\n",
              "      <td>3.704000</td>\n",
              "      <td>39.506000</td>\n",
              "      <td>1.000000</td>\n",
              "      <td>0.250000</td>\n",
              "      <td>2.000000</td>\n",
              "      <td>22.000000</td>\n",
              "      <td>30.000000</td>\n",
              "      <td>19.000000</td>\n",
              "      <td>31.000000</td>\n",
              "    </tr>\n",
              "  </tbody>\n",
              "</table>\n",
              "</div>"
            ],
            "text/plain": [
              "               Age          Sex  ...            Q            S\n",
              "count  1267.000000  1267.000000  ...  1267.000000  1267.000000\n",
              "mean     69.798737     0.398579  ...     9.168163    12.923501\n",
              "std       8.370832     0.489799  ...     4.156032     5.701678\n",
              "min      46.000000     0.000000  ...     0.000000     0.000000\n",
              "25%      65.000000     0.000000  ...     8.000000     9.000000\n",
              "50%      69.000000     0.000000  ...     9.434916    13.000000\n",
              "75%      75.000000     1.000000  ...    13.000000    16.000000\n",
              "max      90.000000     1.000000  ...    19.000000    31.000000\n",
              "\n",
              "[8 rows x 49 columns]"
            ]
          },
          "metadata": {
            "tags": []
          },
          "execution_count": 6
        }
      ]
    },
    {
      "cell_type": "code",
      "metadata": {
        "trusted": true,
        "id": "FFFG-M6UFcv7",
        "colab": {
          "base_uri": "https://localhost:8080/",
          "height": 836
        },
        "outputId": "12e91418-c6d3-4c4b-a07b-aad0ff352703"
      },
      "source": [
        "mask = np.zeros_like(df.corr(), dtype=np.bool)\n",
        "mask[np.triu_indices_from(mask)] = True\n",
        "sns.set_style('whitegrid')\n",
        "plt.subplots(figsize = (15,12))\n",
        "sns.heatmap(df.corr(), \n",
        "            annot=False,\n",
        "            mask = mask,\n",
        "            cmap = 'RdBu',\n",
        "            linewidths=.9, \n",
        "            linecolor='white',\n",
        "            fmt='.2g',\n",
        "            center = 0,\n",
        "            square=True)"
      ],
      "execution_count": 7,
      "outputs": [
        {
          "output_type": "execute_result",
          "data": {
            "text/plain": [
              "<matplotlib.axes._subplots.AxesSubplot at 0x7fca2ee9c470>"
            ]
          },
          "metadata": {
            "tags": []
          },
          "execution_count": 7
        },
        {
          "output_type": "display_data",
          "data": {
            "image/png": "[encoded data removed]",
            "text/plain": [
              "<Figure size 1080x864 with 2 Axes>"
            ]
          },
          "metadata": {
            "tags": []
          }
        }
      ]
    },
    {
      "cell_type": "markdown",
      "metadata": {
        "id": "b9BVvPT3Fcv9"
      },
      "source": [
        "## Classifying all categories"
      ]
    },
    {
      "cell_type": "code",
      "metadata": {
        "trusted": true,
        "id": "9XQNkQuNFcv-"
      },
      "source": [
        "X = df.drop(columns = ['Group'])\n",
        "y = df.Group"
      ],
      "execution_count": 8,
      "outputs": []
    },
    {
      "cell_type": "code",
      "metadata": {
        "trusted": true,
        "id": "1cJ66sagFcv-"
      },
      "source": [
        "# Train-test split\n",
        "from sklearn.model_selection import train_test_split\n",
        "X_train, X_test, y_train, y_test = train_test_split(X, y, test_size=0.2, random_state=12)"
      ],
      "execution_count": 9,
      "outputs": []
    },
    {
      "cell_type": "markdown",
      "metadata": {
        "id": "XaJdqUnEPzE-"
      },
      "source": [
        "### Feature scaling"
      ]
    },
    {
      "cell_type": "code",
      "metadata": {
        "trusted": true,
        "id": "YZwXR0OWFcv_"
      },
      "source": [
        "from sklearn.preprocessing import StandardScaler\n",
        "\n",
        "scaler = StandardScaler()\n",
        "scaled_X_train = scaler.fit_transform(X_train)\n",
        "scaled_X_test = scaler.transform(X_test)"
      ],
      "execution_count": 10,
      "outputs": []
    },
    {
      "cell_type": "markdown",
      "metadata": {
        "id": "nOOCg_FYP4S8"
      },
      "source": [
        "### Imports"
      ]
    },
    {
      "cell_type": "code",
      "metadata": {
        "trusted": true,
        "id": "B_-ZbG9DFcwA"
      },
      "source": [
        "from sklearn.model_selection import GridSearchCV\n",
        "\n",
        "from sklearn.tree import DecisionTreeClassifier\n",
        "from sklearn.ensemble import RandomForestClassifier\n",
        "from xgboost.sklearn import XGBClassifier\n",
        "from sklearn.svm import SVC\n",
        "\n",
        "from sklearn.metrics import roc_auc_score, accuracy_score, log_loss, plot_confusion_matrix"
      ],
      "execution_count": 11,
      "outputs": []
    },
    {
      "cell_type": "markdown",
      "metadata": {
        "id": "6FZMdjMoFcwA"
      },
      "source": [
        "### Decision Tree"
      ]
    },
    {
      "cell_type": "code",
      "metadata": {
        "_kg_hide-output": false,
        "trusted": true,
        "id": "12nL9x37FcwB",
        "colab": {
          "base_uri": "https://localhost:8080/"
        },
        "outputId": "d3743f9d-7c19-4894-ef21-6a6ea3b3682e"
      },
      "source": [
        "parameters = {'min_samples_split': np.linspace(0, 0.1, 100), 'max_depth': [3, 4, 5, 6]}\n",
        "dtc = DecisionTreeClassifier(random_state = 12)\n",
        "\n",
        "clf1 = GridSearchCV(dtc, parameters, cv=5, scoring='accuracy', verbose=5, n_jobs=-1)\n",
        "result = clf1.fit(scaled_X_train, y_train.ravel())\n",
        "print(\"Best: %f using %s\" % (result.best_score_, result.best_params_))"
      ],
      "execution_count": 12,
      "outputs": [
        {
          "output_type": "stream",
          "text": [
            "Fitting 5 folds for each of 400 candidates, totalling 2000 fits\n"
          ],
          "name": "stdout"
        },
        {
          "output_type": "stream",
          "text": [
            "[Parallel(n_jobs=-1)]: Using backend LokyBackend with 2 concurrent workers.\n",
            "[Parallel(n_jobs=-1)]: Done  14 tasks      | elapsed:    1.2s\n",
            "[Parallel(n_jobs=-1)]: Done 682 tasks      | elapsed:   10.5s\n"
          ],
          "name": "stderr"
        },
        {
          "output_type": "stream",
          "text": [
            "Best: 0.699937 using {'max_depth': 5, 'min_samples_split': 0.03838383838383838}\n"
          ],
          "name": "stdout"
        },
        {
          "output_type": "stream",
          "text": [
            "[Parallel(n_jobs=-1)]: Done 2000 out of 2000 | elapsed:   26.8s finished\n"
          ],
          "name": "stderr"
        }
      ]
    },
    {
      "cell_type": "code",
      "metadata": {
        "trusted": true,
        "id": "jxV0ypHaFcwD"
      },
      "source": [
        "y_pred = clf1.predict(scaled_X_test)"
      ],
      "execution_count": 13,
      "outputs": []
    },
    {
      "cell_type": "code",
      "metadata": {
        "trusted": true,
        "id": "bvRb2aXMFcwE",
        "colab": {
          "base_uri": "https://localhost:8080/"
        },
        "outputId": "f1f436b0-84f4-4927-f53e-459cc567db8a"
      },
      "source": [
        "x = (y_pred == y_test.values).sum()    # Best: 0.699937 using {'max_depth': 5, 'min_samples_split': 0.03903903903903904}\n",
        "print(x, 'Correct out of', len(y_pred))\n",
        "print('Accuracy: ', x/len(y_pred))"
      ],
      "execution_count": 14,
      "outputs": [
        {
          "output_type": "stream",
          "text": [
            "173 Correct out of 254\n",
            "Accuracy:  0.6811023622047244\n"
          ],
          "name": "stdout"
        }
      ]
    },
    {
      "cell_type": "code",
      "metadata": {
        "trusted": true,
        "id": "dpem_Xg2FcwG",
        "colab": {
          "base_uri": "https://localhost:8080/",
          "height": 472
        },
        "outputId": "761b745b-e2b2-4c83-d66b-2d75f9c3c070"
      },
      "source": [
        "fig, ax = plt.subplots(figsize=(8, 8))\n",
        "plot_confusion_matrix(clf1, scaled_X_test, y_test,  normalize = 'true', cmap=plt.cm.Blues, ax = ax)\n",
        "plt.show()"
      ],
      "execution_count": 15,
      "outputs": [
        {
          "output_type": "display_data",
          "data": {
            "image/png": "[encoded data removed]",
            "text/plain": [
              "<Figure size 576x576 with 2 Axes>"
            ]
          },
          "metadata": {
            "tags": []
          }
        }
      ]
    },
    {
      "cell_type": "markdown",
      "metadata": {
        "id": "KpwNc9-nFcwG"
      },
      "source": [
        "### Random Forest"
      ]
    },
    {
      "cell_type": "code",
      "metadata": {
        "trusted": true,
        "id": "pCOuSfpWFcwH",
        "colab": {
          "base_uri": "https://localhost:8080/"
        },
        "outputId": "05a078e9-0d5d-4abe-8bfa-cebcbae9ffbd"
      },
      "source": [
        "parameters = {'n_estimators': [i*10 for i in range(1, 5)], 'min_samples_split': np.linspace(0, 0.2, 20), 'max_depth': [i for i in range(14, 20)]}\n",
        "rfc = RandomForestClassifier(random_state = 12)\n",
        "\n",
        "clf2 = GridSearchCV(rfc, parameters, cv=5, scoring='accuracy', verbose=5, n_jobs=-1)\n",
        "result = clf2.fit(scaled_X_train, y_train.ravel())\n",
        "print(\"Best: %f using %s\" % (result.best_score_, result.best_params_))"
      ],
      "execution_count": 16,
      "outputs": [
        {
          "output_type": "stream",
          "text": [
            "Fitting 5 folds for each of 480 candidates, totalling 2400 fits\n"
          ],
          "name": "stdout"
        },
        {
          "output_type": "stream",
          "text": [
            "[Parallel(n_jobs=-1)]: Using backend LokyBackend with 2 concurrent workers.\n",
            "[Parallel(n_jobs=-1)]: Done  14 tasks      | elapsed:    1.1s\n",
            "[Parallel(n_jobs=-1)]: Done 216 tasks      | elapsed:   13.3s\n",
            "[Parallel(n_jobs=-1)]: Done 576 tasks      | elapsed:   32.6s\n",
            "[Parallel(n_jobs=-1)]: Done 1080 tasks      | elapsed:   59.6s\n",
            "[Parallel(n_jobs=-1)]: Done 1728 tasks      | elapsed:  1.6min\n"
          ],
          "name": "stderr"
        },
        {
          "output_type": "stream",
          "text": [
            "Best: 0.752246 using {'max_depth': 16, 'min_samples_split': 0.010526315789473684, 'n_estimators': 20}\n"
          ],
          "name": "stdout"
        },
        {
          "output_type": "stream",
          "text": [
            "[Parallel(n_jobs=-1)]: Done 2400 out of 2400 | elapsed:  2.2min finished\n"
          ],
          "name": "stderr"
        }
      ]
    },
    {
      "cell_type": "code",
      "metadata": {
        "trusted": true,
        "id": "KnMJAUpQFcwN"
      },
      "source": [
        "y_pred = clf2.predict(scaled_X_test)"
      ],
      "execution_count": 17,
      "outputs": []
    },
    {
      "cell_type": "code",
      "metadata": {
        "trusted": true,
        "id": "NbgJz3IKFcwN",
        "colab": {
          "base_uri": "https://localhost:8080/"
        },
        "outputId": "9c48ddbd-8598-4555-9e92-67c9ace8cbe6"
      },
      "source": [
        "x = (y_pred == y_test.values).sum()\n",
        "print(x, 'Correct out of', len(y_pred))\n",
        "print('Accuracy: ', x/len(y_pred))"
      ],
      "execution_count": 18,
      "outputs": [
        {
          "output_type": "stream",
          "text": [
            "179 Correct out of 254\n",
            "Accuracy:  0.7047244094488189\n"
          ],
          "name": "stdout"
        }
      ]
    },
    {
      "cell_type": "code",
      "metadata": {
        "trusted": true,
        "id": "ThPV6dSlFcwO",
        "colab": {
          "base_uri": "https://localhost:8080/",
          "height": 472
        },
        "outputId": "fc77e346-8124-4132-8973-46fdc783583d"
      },
      "source": [
        "fig, ax = plt.subplots(figsize=(8, 8))\n",
        "plot_confusion_matrix(clf2, scaled_X_test, y_test,  normalize = 'true', cmap=plt.cm.Blues, ax = ax)\n",
        "plt.show()"
      ],
      "execution_count": 19,
      "outputs": [
        {
          "output_type": "display_data",
          "data": {
            "image/png": "[encoded data removed]",
            "text/plain": [
              "<Figure size 576x576 with 2 Axes>"
            ]
          },
          "metadata": {
            "tags": []
          }
        }
      ]
    },
    {
      "cell_type": "markdown",
      "metadata": {
        "id": "SiNgRVnLFcwO"
      },
      "source": [
        "### XGB Classifier"
      ]
    },
    {
      "cell_type": "code",
      "metadata": {
        "trusted": true,
        "id": "oNN-Ve18FcwO",
        "colab": {
          "base_uri": "https://localhost:8080/"
        },
        "outputId": "e88eed43-64c6-4eab-9629-364cee8a303d"
      },
      "source": [
        "parameters = {'n_estimators': [i*10 for i in range(5, 10)], 'max_depth': [2*i for i in range(1, 5)], 'colsample_bytree': [0.45, 0.5, 0.55, 0.6, 0.65]}\n",
        "xgb = XGBClassifier(seed = 12)\n",
        "\n",
        "clf3 = GridSearchCV(xgb, parameters, cv=5, scoring='accuracy', verbose=5, n_jobs=-1)\n",
        "result = clf3.fit(scaled_X_train, y_train.ravel())\n",
        "print(\"Best: %f using %s\" % (result.best_score_, result.best_params_))"
      ],
      "execution_count": 20,
      "outputs": [
        {
          "output_type": "stream",
          "text": [
            "Fitting 5 folds for each of 100 candidates, totalling 500 fits\n"
          ],
          "name": "stdout"
        },
        {
          "output_type": "stream",
          "text": [
            "[Parallel(n_jobs=-1)]: Using backend LokyBackend with 2 concurrent workers.\n",
            "[Parallel(n_jobs=-1)]: Done  14 tasks      | elapsed:    4.2s\n",
            "[Parallel(n_jobs=-1)]: Done  68 tasks      | elapsed:   26.6s\n",
            "[Parallel(n_jobs=-1)]: Done 158 tasks      | elapsed:  1.1min\n",
            "[Parallel(n_jobs=-1)]: Done 284 tasks      | elapsed:  2.2min\n",
            "[Parallel(n_jobs=-1)]: Done 446 tasks      | elapsed:  3.6min\n",
            "[Parallel(n_jobs=-1)]: Done 500 out of 500 | elapsed:  4.3min finished\n"
          ],
          "name": "stderr"
        },
        {
          "output_type": "stream",
          "text": [
            "Best: 0.798625 using {'colsample_bytree': 0.6, 'max_depth': 4, 'n_estimators': 80}\n"
          ],
          "name": "stdout"
        }
      ]
    },
    {
      "cell_type": "code",
      "metadata": {
        "trusted": true,
        "id": "RiYxSdFKFcwQ"
      },
      "source": [
        "y_pred = clf3.predict(scaled_X_test)"
      ],
      "execution_count": 21,
      "outputs": []
    },
    {
      "cell_type": "code",
      "metadata": {
        "trusted": true,
        "id": "pi_Qk2mgFcwR",
        "colab": {
          "base_uri": "https://localhost:8080/"
        },
        "outputId": "8153df90-8113-4b68-bbfe-9c0ebefa02ee"
      },
      "source": [
        "x = (y_pred == y_test.values).sum()\n",
        "print(x, 'Correct out of', len(y_pred))\n",
        "print('Accuracy: ', x/len(y_pred))"
      ],
      "execution_count": 22,
      "outputs": [
        {
          "output_type": "stream",
          "text": [
            "192 Correct out of 254\n",
            "Accuracy:  0.7559055118110236\n"
          ],
          "name": "stdout"
        }
      ]
    },
    {
      "cell_type": "code",
      "metadata": {
        "trusted": true,
        "id": "ZJSM0F2tFcwn",
        "colab": {
          "base_uri": "https://localhost:8080/",
          "height": 476
        },
        "outputId": "0e059165-1158-4424-e101-05da6d6f37cf"
      },
      "source": [
        "fig, ax = plt.subplots(figsize=(8, 8))\n",
        "plot_confusion_matrix(clf3, scaled_X_test, y_test,  normalize = 'true', cmap=plt.cm.Blues, ax = ax)\n",
        "plt.show()"
      ],
      "execution_count": 23,
      "outputs": [
        {
          "output_type": "display_data",
          "data": {
            "image/png": "[encoded data removed]",
            "text/plain": [
              "<Figure size 576x576 with 2 Axes>"
            ]
          },
          "metadata": {
            "tags": []
          }
        }
      ]
    },
    {
      "cell_type": "markdown",
      "metadata": {
        "id": "C8lgN9weFcwo"
      },
      "source": [
        "### Support Vector Classifier"
      ]
    },
    {
      "cell_type": "code",
      "metadata": {
        "trusted": true,
        "id": "2I2xc42MFcwo",
        "colab": {
          "base_uri": "https://localhost:8080/"
        },
        "outputId": "1bd6eefe-deaf-4209-95bb-87d5cc701023"
      },
      "source": [
        "parameters = {'C': np.linspace(0.5, 5, 60), 'kernel': ('poly', 'rbf', 'sigmoid')}\n",
        "svc = SVC(random_state = 12)\n",
        "\n",
        "clf4 = GridSearchCV(svc, parameters, cv=5, scoring='accuracy', verbose=5, n_jobs=-1)\n",
        "result = clf4.fit(scaled_X_train, y_train.ravel())\n",
        "print(\"Best: %f using %s\" % (result.best_score_, result.best_params_))"
      ],
      "execution_count": 24,
      "outputs": [
        {
          "output_type": "stream",
          "text": [
            "Fitting 5 folds for each of 180 candidates, totalling 900 fits\n"
          ],
          "name": "stdout"
        },
        {
          "output_type": "stream",
          "text": [
            "[Parallel(n_jobs=-1)]: Using backend LokyBackend with 2 concurrent workers.\n",
            "[Parallel(n_jobs=-1)]: Done  24 tasks      | elapsed:    1.6s\n",
            "[Parallel(n_jobs=-1)]: Done 132 tasks      | elapsed:    8.0s\n",
            "[Parallel(n_jobs=-1)]: Done 312 tasks      | elapsed:   18.1s\n",
            "[Parallel(n_jobs=-1)]: Done 564 tasks      | elapsed:   32.6s\n",
            "[Parallel(n_jobs=-1)]: Done 888 tasks      | elapsed:   51.3s\n"
          ],
          "name": "stderr"
        },
        {
          "output_type": "stream",
          "text": [
            "Best: 0.741394 using {'C': 1.5677966101694916, 'kernel': 'rbf'}\n"
          ],
          "name": "stdout"
        },
        {
          "output_type": "stream",
          "text": [
            "[Parallel(n_jobs=-1)]: Done 900 out of 900 | elapsed:   51.9s finished\n"
          ],
          "name": "stderr"
        }
      ]
    },
    {
      "cell_type": "code",
      "metadata": {
        "trusted": true,
        "id": "Ta0rsAiSFcwv"
      },
      "source": [
        "y_pred = clf4.predict(scaled_X_test)"
      ],
      "execution_count": 25,
      "outputs": []
    },
    {
      "cell_type": "code",
      "metadata": {
        "trusted": true,
        "id": "Uw6ZkFhwFcwv",
        "colab": {
          "base_uri": "https://localhost:8080/"
        },
        "outputId": "f8c5c8f1-b51c-4496-f0e5-912ba8514096"
      },
      "source": [
        "x = (y_pred == y_test.values).sum()\n",
        "print(x, 'Correct out of', len(y_pred))\n",
        "print('Accuracy: ', x/len(y_pred))"
      ],
      "execution_count": 26,
      "outputs": [
        {
          "output_type": "stream",
          "text": [
            "179 Correct out of 254\n",
            "Accuracy:  0.7047244094488189\n"
          ],
          "name": "stdout"
        }
      ]
    },
    {
      "cell_type": "code",
      "metadata": {
        "trusted": true,
        "id": "GLpjdR0lFcwx",
        "colab": {
          "base_uri": "https://localhost:8080/",
          "height": 476
        },
        "outputId": "4b8ffa89-906a-44f1-c938-24cc1b14b477"
      },
      "source": [
        "fig, ax = plt.subplots(figsize=(8, 8))\n",
        "plot_confusion_matrix(clf4, scaled_X_test, y_test,  normalize = 'true', cmap=plt.cm.Blues, ax = ax)\n",
        "plt.show()"
      ],
      "execution_count": 27,
      "outputs": [
        {
          "output_type": "display_data",
          "data": {
            "image/png": "[encoded data removed]",
            "text/plain": [
              "<Figure size 576x576 with 2 Axes>"
            ]
          },
          "metadata": {
            "tags": []
          }
        }
      ]
    }
  ]
}