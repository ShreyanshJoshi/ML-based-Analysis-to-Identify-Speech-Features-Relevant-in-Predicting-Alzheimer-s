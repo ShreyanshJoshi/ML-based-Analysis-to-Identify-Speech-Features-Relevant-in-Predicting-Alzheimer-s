{
  "nbformat": 4,
  "nbformat_minor": 0,
  "metadata": {
    "kernelspec": {
      "language": "python",
      "display_name": "Python 3",
      "name": "python3"
    },
    "language_info": {
      "pygments_lexer": "ipython3",
      "nbconvert_exporter": "python",
      "version": "3.6.4",
      "file_extension": ".py",
      "codemirror_mode": {
        "name": "ipython",
        "version": 3
      },
      "name": "python",
      "mimetype": "text/x-python"
    },
    "colab": {
      "name": "Machine learning models_b.ipynb",
      "provenance": [],
      "collapsed_sections": []
    }
  },
  "cells": [
    {
      "cell_type": "code",
      "metadata": {
        "_uuid": "8f2839f25d086af736a60e9eeb907d3b93b6e0e5",
        "_cell_guid": "b1076dfc-b9ad-4769-8c92-a6c4dae69d19",
        "trusted": true,
        "id": "HY6YoSKrFcvz"
      },
      "source": [
        "import numpy as np\n",
        "import pandas as pd\n",
        "\n",
        "import os\n",
        "# Age,Sex,Group,Duration_(sec),MLU_Utts,MLU_Morphemes,FREQ_TTR,Words_Min,Verbs_Utt,%_Word_Errors,Utt_Errors,density,%_Nouns,%_Plurals,%_Verbs,%_Aux,%_Mod,%_3S,%_13S,%_PAST,%_PASTP,%_PRESP,%_prep,%_adj,%_adv,%_conj,%_det,%_pro,noun_verb,retracing,repetition,mor_Utts,mor_syllables,syllables_min,%_Prolongation,Mean_RU,%_Phonological_fragment,%_Phrase_repetitions,%_Word_revisions,%_Phrase_revisions,%_Pauses,%_Filled_pauses,%_TD,SLD_Ratio,Content_words_ratio,Function_words_ratio,N,V,Q,S"
      ],
      "execution_count": 1,
      "outputs": []
    },
    {
      "cell_type": "code",
      "metadata": {
        "_uuid": "d629ff2d2480ee46fbb7e2d37f6b5fab8052498a",
        "_cell_guid": "79c7e3d0-c299-4dcb-8224-4455121ee9b0",
        "trusted": true,
        "id": "3AiPa8alFcv4"
      },
      "source": [
        "import matplotlib.pyplot as plt\n",
        "import seaborn as sns\n",
        "\n",
        "%matplotlib inline"
      ],
      "execution_count": 2,
      "outputs": []
    },
    {
      "cell_type": "code",
      "metadata": {
        "trusted": true,
        "id": "FKg6Z4EgFcv4"
      },
      "source": [
        "df = pd.read_csv(\"train2.csv\")"
      ],
      "execution_count": 3,
      "outputs": []
    },
    {
      "cell_type": "code",
      "metadata": {
        "trusted": true,
        "colab": {
          "base_uri": "https://localhost:8080/",
          "height": 224
        },
        "id": "Jcp5lGWtFcv5",
        "outputId": "28e1b2a3-1231-418a-900e-178585487113"
      },
      "source": [
        "df.head()"
      ],
      "execution_count": 4,
      "outputs": [
        {
          "output_type": "execute_result",
          "data": {
            "text/html": [
              "<div>\n",
              "<style scoped>\n",
              "    .dataframe tbody tr th:only-of-type {\n",
              "        vertical-align: middle;\n",
              "    }\n",
              "\n",
              "    .dataframe tbody tr th {\n",
              "        vertical-align: top;\n",
              "    }\n",
              "\n",
              "    .dataframe thead th {\n",
              "        text-align: right;\n",
              "    }\n",
              "</style>\n",
              "<table border=\"1\" class=\"dataframe\">\n",
              "  <thead>\n",
              "    <tr style=\"text-align: right;\">\n",
              "      <th></th>\n",
              "      <th>Age</th>\n",
              "      <th>Sex</th>\n",
              "      <th>Group</th>\n",
              "      <th>Duration_(sec)</th>\n",
              "      <th>MLU_Utts</th>\n",
              "      <th>MLU_Morphemes</th>\n",
              "      <th>FREQ_TTR</th>\n",
              "      <th>Words_Min</th>\n",
              "      <th>Verbs_Utt</th>\n",
              "      <th>%_Word_Errors</th>\n",
              "      <th>Utt_Errors</th>\n",
              "      <th>density</th>\n",
              "      <th>%_Nouns</th>\n",
              "      <th>%_Plurals</th>\n",
              "      <th>%_Verbs</th>\n",
              "      <th>%_Aux</th>\n",
              "      <th>%_Mod</th>\n",
              "      <th>%_3S</th>\n",
              "      <th>%_13S</th>\n",
              "      <th>%_PAST</th>\n",
              "      <th>%_PASTP</th>\n",
              "      <th>%_PRESP</th>\n",
              "      <th>%_prep</th>\n",
              "      <th>%_adj</th>\n",
              "      <th>%_adv</th>\n",
              "      <th>%_conj</th>\n",
              "      <th>%_det</th>\n",
              "      <th>%_pro</th>\n",
              "      <th>noun_verb</th>\n",
              "      <th>retracing</th>\n",
              "      <th>repetition</th>\n",
              "      <th>mor_Utts</th>\n",
              "      <th>mor_syllables</th>\n",
              "      <th>syllables_min</th>\n",
              "      <th>%_Prolongation</th>\n",
              "      <th>Mean_RU</th>\n",
              "      <th>%_Phonological_fragment</th>\n",
              "      <th>%_Phrase_repetitions</th>\n",
              "      <th>%_Word_revisions</th>\n",
              "      <th>%_Phrase_revisions</th>\n",
              "      <th>%_Pauses</th>\n",
              "      <th>%_Filled_pauses</th>\n",
              "      <th>%_TD</th>\n",
              "      <th>SLD_Ratio</th>\n",
              "      <th>Content_words_ratio</th>\n",
              "      <th>Function_words_ratio</th>\n",
              "      <th>N</th>\n",
              "      <th>V</th>\n",
              "      <th>Q</th>\n",
              "      <th>S</th>\n",
              "    </tr>\n",
              "  </thead>\n",
              "  <tbody>\n",
              "    <tr>\n",
              "      <th>0</th>\n",
              "      <td>58.0</td>\n",
              "      <td>0</td>\n",
              "      <td>Control</td>\n",
              "      <td>56</td>\n",
              "      <td>16</td>\n",
              "      <td>9.250</td>\n",
              "      <td>0.523</td>\n",
              "      <td>141.429</td>\n",
              "      <td>1.563</td>\n",
              "      <td>0.000</td>\n",
              "      <td>1</td>\n",
              "      <td>0.371</td>\n",
              "      <td>25.000</td>\n",
              "      <td>21.212</td>\n",
              "      <td>18.939</td>\n",
              "      <td>5.303</td>\n",
              "      <td>0.758</td>\n",
              "      <td>52.000</td>\n",
              "      <td>0.000</td>\n",
              "      <td>0.000</td>\n",
              "      <td>8.000</td>\n",
              "      <td>24.000</td>\n",
              "      <td>9.848</td>\n",
              "      <td>6.061</td>\n",
              "      <td>6.061</td>\n",
              "      <td>0.000</td>\n",
              "      <td>15.909</td>\n",
              "      <td>5.303</td>\n",
              "      <td>1.320</td>\n",
              "      <td>1</td>\n",
              "      <td>2</td>\n",
              "      <td>18.0</td>\n",
              "      <td>176.0</td>\n",
              "      <td>178.983</td>\n",
              "      <td>0.000</td>\n",
              "      <td>1.0</td>\n",
              "      <td>0.0</td>\n",
              "      <td>0.568</td>\n",
              "      <td>0.000</td>\n",
              "      <td>0.568</td>\n",
              "      <td>0.0</td>\n",
              "      <td>0.0</td>\n",
              "      <td>1.136</td>\n",
              "      <td>0.333</td>\n",
              "      <td>0.0</td>\n",
              "      <td>0.014</td>\n",
              "      <td>19.000000</td>\n",
              "      <td>19.000000</td>\n",
              "      <td>8.000000</td>\n",
              "      <td>15.000000</td>\n",
              "    </tr>\n",
              "    <tr>\n",
              "      <th>1</th>\n",
              "      <td>59.0</td>\n",
              "      <td>0</td>\n",
              "      <td>Control</td>\n",
              "      <td>65</td>\n",
              "      <td>14</td>\n",
              "      <td>7.714</td>\n",
              "      <td>0.490</td>\n",
              "      <td>94.154</td>\n",
              "      <td>1.067</td>\n",
              "      <td>0.000</td>\n",
              "      <td>2</td>\n",
              "      <td>0.353</td>\n",
              "      <td>29.412</td>\n",
              "      <td>20.000</td>\n",
              "      <td>15.686</td>\n",
              "      <td>7.843</td>\n",
              "      <td>0.000</td>\n",
              "      <td>68.750</td>\n",
              "      <td>0.000</td>\n",
              "      <td>0.000</td>\n",
              "      <td>0.000</td>\n",
              "      <td>50.000</td>\n",
              "      <td>3.922</td>\n",
              "      <td>6.863</td>\n",
              "      <td>3.922</td>\n",
              "      <td>0.000</td>\n",
              "      <td>14.706</td>\n",
              "      <td>6.863</td>\n",
              "      <td>1.875</td>\n",
              "      <td>1</td>\n",
              "      <td>0</td>\n",
              "      <td>15.0</td>\n",
              "      <td>131.0</td>\n",
              "      <td>120.923</td>\n",
              "      <td>0.000</td>\n",
              "      <td>0.0</td>\n",
              "      <td>0.0</td>\n",
              "      <td>0.000</td>\n",
              "      <td>0.000</td>\n",
              "      <td>0.763</td>\n",
              "      <td>0.0</td>\n",
              "      <td>0.0</td>\n",
              "      <td>0.763</td>\n",
              "      <td>0.000</td>\n",
              "      <td>0.0</td>\n",
              "      <td>0.000</td>\n",
              "      <td>17.000000</td>\n",
              "      <td>16.000000</td>\n",
              "      <td>8.000000</td>\n",
              "      <td>16.000000</td>\n",
              "    </tr>\n",
              "    <tr>\n",
              "      <th>2</th>\n",
              "      <td>60.0</td>\n",
              "      <td>0</td>\n",
              "      <td>Control</td>\n",
              "      <td>62</td>\n",
              "      <td>14</td>\n",
              "      <td>12.071</td>\n",
              "      <td>0.469</td>\n",
              "      <td>140.323</td>\n",
              "      <td>1.571</td>\n",
              "      <td>0.000</td>\n",
              "      <td>1</td>\n",
              "      <td>0.400</td>\n",
              "      <td>21.379</td>\n",
              "      <td>29.032</td>\n",
              "      <td>15.862</td>\n",
              "      <td>6.207</td>\n",
              "      <td>0.690</td>\n",
              "      <td>60.870</td>\n",
              "      <td>0.000</td>\n",
              "      <td>0.000</td>\n",
              "      <td>4.348</td>\n",
              "      <td>30.435</td>\n",
              "      <td>9.655</td>\n",
              "      <td>6.207</td>\n",
              "      <td>8.276</td>\n",
              "      <td>2.759</td>\n",
              "      <td>14.483</td>\n",
              "      <td>6.897</td>\n",
              "      <td>1.348</td>\n",
              "      <td>0</td>\n",
              "      <td>1</td>\n",
              "      <td>16.0</td>\n",
              "      <td>195.0</td>\n",
              "      <td>172.059</td>\n",
              "      <td>0.000</td>\n",
              "      <td>1.0</td>\n",
              "      <td>0.0</td>\n",
              "      <td>0.000</td>\n",
              "      <td>0.000</td>\n",
              "      <td>0.000</td>\n",
              "      <td>0.0</td>\n",
              "      <td>0.0</td>\n",
              "      <td>0.000</td>\n",
              "      <td>1.000</td>\n",
              "      <td>0.0</td>\n",
              "      <td>0.012</td>\n",
              "      <td>16.815287</td>\n",
              "      <td>17.732484</td>\n",
              "      <td>9.866242</td>\n",
              "      <td>14.993631</td>\n",
              "    </tr>\n",
              "    <tr>\n",
              "      <th>3</th>\n",
              "      <td>61.0</td>\n",
              "      <td>0</td>\n",
              "      <td>Control</td>\n",
              "      <td>89</td>\n",
              "      <td>11</td>\n",
              "      <td>17.091</td>\n",
              "      <td>0.503</td>\n",
              "      <td>111.236</td>\n",
              "      <td>2.818</td>\n",
              "      <td>0.000</td>\n",
              "      <td>0</td>\n",
              "      <td>0.491</td>\n",
              "      <td>19.394</td>\n",
              "      <td>12.500</td>\n",
              "      <td>21.818</td>\n",
              "      <td>3.636</td>\n",
              "      <td>1.212</td>\n",
              "      <td>16.667</td>\n",
              "      <td>19.444</td>\n",
              "      <td>47.222</td>\n",
              "      <td>13.889</td>\n",
              "      <td>25.000</td>\n",
              "      <td>4.242</td>\n",
              "      <td>4.242</td>\n",
              "      <td>7.273</td>\n",
              "      <td>1.818</td>\n",
              "      <td>12.727</td>\n",
              "      <td>9.697</td>\n",
              "      <td>0.889</td>\n",
              "      <td>2</td>\n",
              "      <td>1</td>\n",
              "      <td>12.0</td>\n",
              "      <td>217.0</td>\n",
              "      <td>143.077</td>\n",
              "      <td>0.000</td>\n",
              "      <td>0.0</td>\n",
              "      <td>0.0</td>\n",
              "      <td>0.461</td>\n",
              "      <td>0.922</td>\n",
              "      <td>0.000</td>\n",
              "      <td>0.0</td>\n",
              "      <td>0.0</td>\n",
              "      <td>1.382</td>\n",
              "      <td>0.000</td>\n",
              "      <td>0.0</td>\n",
              "      <td>0.000</td>\n",
              "      <td>18.000000</td>\n",
              "      <td>28.000000</td>\n",
              "      <td>14.000000</td>\n",
              "      <td>22.000000</td>\n",
              "    </tr>\n",
              "    <tr>\n",
              "      <th>4</th>\n",
              "      <td>72.0</td>\n",
              "      <td>1</td>\n",
              "      <td>Control</td>\n",
              "      <td>34</td>\n",
              "      <td>13</td>\n",
              "      <td>7.846</td>\n",
              "      <td>0.568</td>\n",
              "      <td>155.294</td>\n",
              "      <td>1.000</td>\n",
              "      <td>1.136</td>\n",
              "      <td>1</td>\n",
              "      <td>0.386</td>\n",
              "      <td>26.136</td>\n",
              "      <td>17.391</td>\n",
              "      <td>15.909</td>\n",
              "      <td>10.227</td>\n",
              "      <td>0.000</td>\n",
              "      <td>100.000</td>\n",
              "      <td>0.000</td>\n",
              "      <td>0.000</td>\n",
              "      <td>7.143</td>\n",
              "      <td>57.143</td>\n",
              "      <td>7.955</td>\n",
              "      <td>3.409</td>\n",
              "      <td>4.545</td>\n",
              "      <td>1.136</td>\n",
              "      <td>15.909</td>\n",
              "      <td>6.818</td>\n",
              "      <td>1.643</td>\n",
              "      <td>1</td>\n",
              "      <td>0</td>\n",
              "      <td>14.0</td>\n",
              "      <td>113.0</td>\n",
              "      <td>183.243</td>\n",
              "      <td>0.885</td>\n",
              "      <td>0.0</td>\n",
              "      <td>0.0</td>\n",
              "      <td>0.000</td>\n",
              "      <td>0.885</td>\n",
              "      <td>0.000</td>\n",
              "      <td>0.0</td>\n",
              "      <td>0.0</td>\n",
              "      <td>0.885</td>\n",
              "      <td>0.500</td>\n",
              "      <td>0.0</td>\n",
              "      <td>0.000</td>\n",
              "      <td>18.000000</td>\n",
              "      <td>18.000000</td>\n",
              "      <td>8.000000</td>\n",
              "      <td>13.000000</td>\n",
              "    </tr>\n",
              "  </tbody>\n",
              "</table>\n",
              "</div>"
            ],
            "text/plain": [
              "    Age  Sex    Group  ...          V          Q          S\n",
              "0  58.0    0  Control  ...  19.000000   8.000000  15.000000\n",
              "1  59.0    0  Control  ...  16.000000   8.000000  16.000000\n",
              "2  60.0    0  Control  ...  17.732484   9.866242  14.993631\n",
              "3  61.0    0  Control  ...  28.000000  14.000000  22.000000\n",
              "4  72.0    1  Control  ...  18.000000   8.000000  13.000000\n",
              "\n",
              "[5 rows x 50 columns]"
            ]
          },
          "metadata": {
            "tags": []
          },
          "execution_count": 4
        }
      ]
    },
    {
      "cell_type": "code",
      "metadata": {
        "trusted": true,
        "colab": {
          "base_uri": "https://localhost:8080/"
        },
        "id": "602KpqwHFcv5",
        "outputId": "6d8858c2-4d13-4604-f296-9afaeb371e2c"
      },
      "source": [
        "df.info()"
      ],
      "execution_count": 7,
      "outputs": [
        {
          "output_type": "stream",
          "text": [
            "<class 'pandas.core.frame.DataFrame'>\n",
            "Int64Index: 1005 entries, 0 to 1264\n",
            "Data columns (total 50 columns):\n",
            " #   Column                   Non-Null Count  Dtype  \n",
            "---  ------                   --------------  -----  \n",
            " 0   Age                      1005 non-null   float64\n",
            " 1   Sex                      1005 non-null   int64  \n",
            " 2   Group                    1005 non-null   object \n",
            " 3   Duration_(sec)           1005 non-null   int64  \n",
            " 4   MLU_Utts                 1005 non-null   int64  \n",
            " 5   MLU_Morphemes            1005 non-null   float64\n",
            " 6   FREQ_TTR                 1005 non-null   float64\n",
            " 7   Words_Min                1005 non-null   float64\n",
            " 8   Verbs_Utt                1005 non-null   float64\n",
            " 9   %_Word_Errors            1005 non-null   float64\n",
            " 10  Utt_Errors               1005 non-null   int64  \n",
            " 11  density                  1005 non-null   float64\n",
            " 12  %_Nouns                  1005 non-null   float64\n",
            " 13  %_Plurals                1005 non-null   float64\n",
            " 14  %_Verbs                  1005 non-null   float64\n",
            " 15  %_Aux                    1005 non-null   float64\n",
            " 16  %_Mod                    1005 non-null   float64\n",
            " 17  %_3S                     1005 non-null   float64\n",
            " 18  %_13S                    1005 non-null   float64\n",
            " 19  %_PAST                   1005 non-null   float64\n",
            " 20  %_PASTP                  1005 non-null   float64\n",
            " 21  %_PRESP                  1005 non-null   float64\n",
            " 22  %_prep                   1005 non-null   float64\n",
            " 23  %_adj                    1005 non-null   float64\n",
            " 24  %_adv                    1005 non-null   float64\n",
            " 25  %_conj                   1005 non-null   float64\n",
            " 26  %_det                    1005 non-null   float64\n",
            " 27  %_pro                    1005 non-null   float64\n",
            " 28  noun_verb                1005 non-null   float64\n",
            " 29  retracing                1005 non-null   int64  \n",
            " 30  repetition               1005 non-null   int64  \n",
            " 31  mor_Utts                 1005 non-null   float64\n",
            " 32  mor_syllables            1005 non-null   float64\n",
            " 33  syllables_min            1005 non-null   float64\n",
            " 34  %_Prolongation           1005 non-null   float64\n",
            " 35  Mean_RU                  1005 non-null   float64\n",
            " 36  %_Phonological_fragment  1005 non-null   float64\n",
            " 37  %_Phrase_repetitions     1005 non-null   float64\n",
            " 38  %_Word_revisions         1005 non-null   float64\n",
            " 39  %_Phrase_revisions       1005 non-null   float64\n",
            " 40  %_Pauses                 1005 non-null   float64\n",
            " 41  %_Filled_pauses          1005 non-null   float64\n",
            " 42  %_TD                     1005 non-null   float64\n",
            " 43  SLD_Ratio                1005 non-null   float64\n",
            " 44  Content_words_ratio      1005 non-null   float64\n",
            " 45  Function_words_ratio     1005 non-null   float64\n",
            " 46  N                        1005 non-null   float64\n",
            " 47  V                        1005 non-null   float64\n",
            " 48  Q                        1005 non-null   float64\n",
            " 49  S                        1005 non-null   float64\n",
            "dtypes: float64(43), int64(6), object(1)\n",
            "memory usage: 400.4+ KB\n"
          ],
          "name": "stdout"
        }
      ]
    },
    {
      "cell_type": "code",
      "metadata": {
        "trusted": true,
        "colab": {
          "base_uri": "https://localhost:8080/",
          "height": 317
        },
        "id": "ivEi7JTHFcv6",
        "outputId": "b771103c-3b08-4295-ba30-6eee7956e6b4"
      },
      "source": [
        "df.describe()"
      ],
      "execution_count": 8,
      "outputs": [
        {
          "output_type": "execute_result",
          "data": {
            "text/html": [
              "<div>\n",
              "<style scoped>\n",
              "    .dataframe tbody tr th:only-of-type {\n",
              "        vertical-align: middle;\n",
              "    }\n",
              "\n",
              "    .dataframe tbody tr th {\n",
              "        vertical-align: top;\n",
              "    }\n",
              "\n",
              "    .dataframe thead th {\n",
              "        text-align: right;\n",
              "    }\n",
              "</style>\n",
              "<table border=\"1\" class=\"dataframe\">\n",
              "  <thead>\n",
              "    <tr style=\"text-align: right;\">\n",
              "      <th></th>\n",
              "      <th>Age</th>\n",
              "      <th>Sex</th>\n",
              "      <th>Duration_(sec)</th>\n",
              "      <th>MLU_Utts</th>\n",
              "      <th>MLU_Morphemes</th>\n",
              "      <th>FREQ_TTR</th>\n",
              "      <th>Words_Min</th>\n",
              "      <th>Verbs_Utt</th>\n",
              "      <th>%_Word_Errors</th>\n",
              "      <th>Utt_Errors</th>\n",
              "      <th>density</th>\n",
              "      <th>%_Nouns</th>\n",
              "      <th>%_Plurals</th>\n",
              "      <th>%_Verbs</th>\n",
              "      <th>%_Aux</th>\n",
              "      <th>%_Mod</th>\n",
              "      <th>%_3S</th>\n",
              "      <th>%_13S</th>\n",
              "      <th>%_PAST</th>\n",
              "      <th>%_PASTP</th>\n",
              "      <th>%_PRESP</th>\n",
              "      <th>%_prep</th>\n",
              "      <th>%_adj</th>\n",
              "      <th>%_adv</th>\n",
              "      <th>%_conj</th>\n",
              "      <th>%_det</th>\n",
              "      <th>%_pro</th>\n",
              "      <th>noun_verb</th>\n",
              "      <th>retracing</th>\n",
              "      <th>repetition</th>\n",
              "      <th>mor_Utts</th>\n",
              "      <th>mor_syllables</th>\n",
              "      <th>syllables_min</th>\n",
              "      <th>%_Prolongation</th>\n",
              "      <th>Mean_RU</th>\n",
              "      <th>%_Phonological_fragment</th>\n",
              "      <th>%_Phrase_repetitions</th>\n",
              "      <th>%_Word_revisions</th>\n",
              "      <th>%_Phrase_revisions</th>\n",
              "      <th>%_Pauses</th>\n",
              "      <th>%_Filled_pauses</th>\n",
              "      <th>%_TD</th>\n",
              "      <th>SLD_Ratio</th>\n",
              "      <th>Content_words_ratio</th>\n",
              "      <th>Function_words_ratio</th>\n",
              "      <th>N</th>\n",
              "      <th>V</th>\n",
              "      <th>Q</th>\n",
              "      <th>S</th>\n",
              "    </tr>\n",
              "  </thead>\n",
              "  <tbody>\n",
              "    <tr>\n",
              "      <th>count</th>\n",
              "      <td>1005.000000</td>\n",
              "      <td>1005.000000</td>\n",
              "      <td>1005.000000</td>\n",
              "      <td>1005.000000</td>\n",
              "      <td>1005.000000</td>\n",
              "      <td>1005.000000</td>\n",
              "      <td>1005.000000</td>\n",
              "      <td>1005.000000</td>\n",
              "      <td>1005.000000</td>\n",
              "      <td>1005.000000</td>\n",
              "      <td>1005.000000</td>\n",
              "      <td>1005.000000</td>\n",
              "      <td>1005.000000</td>\n",
              "      <td>1005.000000</td>\n",
              "      <td>1005.000000</td>\n",
              "      <td>1005.000000</td>\n",
              "      <td>1005.000000</td>\n",
              "      <td>1005.000000</td>\n",
              "      <td>1005.000000</td>\n",
              "      <td>1005.000000</td>\n",
              "      <td>1005.000000</td>\n",
              "      <td>1005.000000</td>\n",
              "      <td>1005.000000</td>\n",
              "      <td>1005.000000</td>\n",
              "      <td>1005.000000</td>\n",
              "      <td>1005.000000</td>\n",
              "      <td>1005.000000</td>\n",
              "      <td>1005.000000</td>\n",
              "      <td>1005.000000</td>\n",
              "      <td>1005.00000</td>\n",
              "      <td>1005.000000</td>\n",
              "      <td>1005.000000</td>\n",
              "      <td>1005.000000</td>\n",
              "      <td>1005.000000</td>\n",
              "      <td>1005.000000</td>\n",
              "      <td>1005.000000</td>\n",
              "      <td>1005.000000</td>\n",
              "      <td>1005.000000</td>\n",
              "      <td>1005.000000</td>\n",
              "      <td>1005.000000</td>\n",
              "      <td>1005.000000</td>\n",
              "      <td>1005.000000</td>\n",
              "      <td>1005.000000</td>\n",
              "      <td>1005.000000</td>\n",
              "      <td>1005.000000</td>\n",
              "      <td>1005.000000</td>\n",
              "      <td>1005.000000</td>\n",
              "      <td>1005.000000</td>\n",
              "      <td>1005.000000</td>\n",
              "    </tr>\n",
              "    <tr>\n",
              "      <th>mean</th>\n",
              "      <td>69.665672</td>\n",
              "      <td>0.356219</td>\n",
              "      <td>46.089552</td>\n",
              "      <td>10.165174</td>\n",
              "      <td>7.818339</td>\n",
              "      <td>0.671284</td>\n",
              "      <td>90.475150</td>\n",
              "      <td>1.094855</td>\n",
              "      <td>0.366178</td>\n",
              "      <td>0.708458</td>\n",
              "      <td>0.367913</td>\n",
              "      <td>30.592509</td>\n",
              "      <td>14.093582</td>\n",
              "      <td>15.860088</td>\n",
              "      <td>4.522096</td>\n",
              "      <td>1.338641</td>\n",
              "      <td>37.811398</td>\n",
              "      <td>6.047866</td>\n",
              "      <td>18.481442</td>\n",
              "      <td>4.705080</td>\n",
              "      <td>31.307769</td>\n",
              "      <td>6.834891</td>\n",
              "      <td>3.793385</td>\n",
              "      <td>4.064933</td>\n",
              "      <td>0.816820</td>\n",
              "      <td>12.635274</td>\n",
              "      <td>8.695702</td>\n",
              "      <td>2.411858</td>\n",
              "      <td>1.035821</td>\n",
              "      <td>0.80000</td>\n",
              "      <td>16.560199</td>\n",
              "      <td>106.490547</td>\n",
              "      <td>106.384192</td>\n",
              "      <td>0.111748</td>\n",
              "      <td>0.488770</td>\n",
              "      <td>0.093040</td>\n",
              "      <td>0.238437</td>\n",
              "      <td>0.554893</td>\n",
              "      <td>0.634462</td>\n",
              "      <td>1.483167</td>\n",
              "      <td>0.017020</td>\n",
              "      <td>3.021027</td>\n",
              "      <td>0.213525</td>\n",
              "      <td>0.006319</td>\n",
              "      <td>0.015358</td>\n",
              "      <td>14.757262</td>\n",
              "      <td>16.066068</td>\n",
              "      <td>9.538471</td>\n",
              "      <td>13.031159</td>\n",
              "    </tr>\n",
              "    <tr>\n",
              "      <th>std</th>\n",
              "      <td>8.515375</td>\n",
              "      <td>0.479119</td>\n",
              "      <td>28.852902</td>\n",
              "      <td>6.964951</td>\n",
              "      <td>4.338683</td>\n",
              "      <td>0.151250</td>\n",
              "      <td>47.408163</td>\n",
              "      <td>0.657519</td>\n",
              "      <td>1.171443</td>\n",
              "      <td>1.666275</td>\n",
              "      <td>0.117187</td>\n",
              "      <td>20.186995</td>\n",
              "      <td>15.058978</td>\n",
              "      <td>6.262945</td>\n",
              "      <td>4.276708</td>\n",
              "      <td>2.226866</td>\n",
              "      <td>32.524372</td>\n",
              "      <td>14.795832</td>\n",
              "      <td>26.964905</td>\n",
              "      <td>9.868849</td>\n",
              "      <td>30.510260</td>\n",
              "      <td>4.293372</td>\n",
              "      <td>3.900251</td>\n",
              "      <td>3.587350</td>\n",
              "      <td>1.537384</td>\n",
              "      <td>7.158303</td>\n",
              "      <td>6.339613</td>\n",
              "      <td>3.550278</td>\n",
              "      <td>1.630972</td>\n",
              "      <td>1.53926</td>\n",
              "      <td>10.340884</td>\n",
              "      <td>62.345340</td>\n",
              "      <td>49.798371</td>\n",
              "      <td>0.471946</td>\n",
              "      <td>0.588023</td>\n",
              "      <td>0.517248</td>\n",
              "      <td>0.650465</td>\n",
              "      <td>0.904149</td>\n",
              "      <td>1.086588</td>\n",
              "      <td>2.450002</td>\n",
              "      <td>0.194406</td>\n",
              "      <td>3.206898</td>\n",
              "      <td>0.256880</td>\n",
              "      <td>0.018805</td>\n",
              "      <td>0.067696</td>\n",
              "      <td>3.369722</td>\n",
              "      <td>5.004213</td>\n",
              "      <td>3.868608</td>\n",
              "      <td>5.510880</td>\n",
              "    </tr>\n",
              "    <tr>\n",
              "      <th>min</th>\n",
              "      <td>46.000000</td>\n",
              "      <td>0.000000</td>\n",
              "      <td>0.000000</td>\n",
              "      <td>1.000000</td>\n",
              "      <td>1.000000</td>\n",
              "      <td>0.342000</td>\n",
              "      <td>6.316000</td>\n",
              "      <td>0.000000</td>\n",
              "      <td>0.000000</td>\n",
              "      <td>0.000000</td>\n",
              "      <td>0.000000</td>\n",
              "      <td>0.000000</td>\n",
              "      <td>0.000000</td>\n",
              "      <td>0.000000</td>\n",
              "      <td>0.000000</td>\n",
              "      <td>0.000000</td>\n",
              "      <td>0.000000</td>\n",
              "      <td>0.000000</td>\n",
              "      <td>0.000000</td>\n",
              "      <td>0.000000</td>\n",
              "      <td>0.000000</td>\n",
              "      <td>0.000000</td>\n",
              "      <td>0.000000</td>\n",
              "      <td>0.000000</td>\n",
              "      <td>0.000000</td>\n",
              "      <td>0.000000</td>\n",
              "      <td>0.000000</td>\n",
              "      <td>0.000000</td>\n",
              "      <td>0.000000</td>\n",
              "      <td>0.00000</td>\n",
              "      <td>2.000000</td>\n",
              "      <td>7.000000</td>\n",
              "      <td>6.360000</td>\n",
              "      <td>0.000000</td>\n",
              "      <td>0.000000</td>\n",
              "      <td>0.000000</td>\n",
              "      <td>0.000000</td>\n",
              "      <td>0.000000</td>\n",
              "      <td>0.000000</td>\n",
              "      <td>0.000000</td>\n",
              "      <td>0.000000</td>\n",
              "      <td>0.000000</td>\n",
              "      <td>0.000000</td>\n",
              "      <td>0.000000</td>\n",
              "      <td>0.000000</td>\n",
              "      <td>2.000000</td>\n",
              "      <td>0.000000</td>\n",
              "      <td>0.000000</td>\n",
              "      <td>0.000000</td>\n",
              "    </tr>\n",
              "    <tr>\n",
              "      <th>25%</th>\n",
              "      <td>64.000000</td>\n",
              "      <td>0.000000</td>\n",
              "      <td>25.000000</td>\n",
              "      <td>6.000000</td>\n",
              "      <td>5.143000</td>\n",
              "      <td>0.560000</td>\n",
              "      <td>56.604000</td>\n",
              "      <td>0.643000</td>\n",
              "      <td>0.000000</td>\n",
              "      <td>0.000000</td>\n",
              "      <td>0.333000</td>\n",
              "      <td>19.565000</td>\n",
              "      <td>0.000000</td>\n",
              "      <td>14.130000</td>\n",
              "      <td>0.000000</td>\n",
              "      <td>0.000000</td>\n",
              "      <td>0.000000</td>\n",
              "      <td>0.000000</td>\n",
              "      <td>0.000000</td>\n",
              "      <td>0.000000</td>\n",
              "      <td>0.000000</td>\n",
              "      <td>4.110000</td>\n",
              "      <td>0.000000</td>\n",
              "      <td>0.000000</td>\n",
              "      <td>0.000000</td>\n",
              "      <td>8.163000</td>\n",
              "      <td>4.167000</td>\n",
              "      <td>1.077000</td>\n",
              "      <td>0.000000</td>\n",
              "      <td>0.00000</td>\n",
              "      <td>9.000000</td>\n",
              "      <td>64.000000</td>\n",
              "      <td>69.172000</td>\n",
              "      <td>0.000000</td>\n",
              "      <td>0.000000</td>\n",
              "      <td>0.000000</td>\n",
              "      <td>0.000000</td>\n",
              "      <td>0.000000</td>\n",
              "      <td>0.000000</td>\n",
              "      <td>0.000000</td>\n",
              "      <td>0.000000</td>\n",
              "      <td>0.971000</td>\n",
              "      <td>0.000000</td>\n",
              "      <td>0.000000</td>\n",
              "      <td>0.000000</td>\n",
              "      <td>14.000000</td>\n",
              "      <td>14.000000</td>\n",
              "      <td>8.000000</td>\n",
              "      <td>10.000000</td>\n",
              "    </tr>\n",
              "    <tr>\n",
              "      <th>50%</th>\n",
              "      <td>69.000000</td>\n",
              "      <td>0.000000</td>\n",
              "      <td>39.000000</td>\n",
              "      <td>8.000000</td>\n",
              "      <td>7.667000</td>\n",
              "      <td>0.658000</td>\n",
              "      <td>92.308000</td>\n",
              "      <td>1.167000</td>\n",
              "      <td>0.000000</td>\n",
              "      <td>0.000000</td>\n",
              "      <td>0.393000</td>\n",
              "      <td>24.000000</td>\n",
              "      <td>11.765000</td>\n",
              "      <td>16.667000</td>\n",
              "      <td>4.000000</td>\n",
              "      <td>0.000000</td>\n",
              "      <td>41.176000</td>\n",
              "      <td>0.000000</td>\n",
              "      <td>0.000000</td>\n",
              "      <td>0.000000</td>\n",
              "      <td>25.000000</td>\n",
              "      <td>7.353000</td>\n",
              "      <td>3.077000</td>\n",
              "      <td>3.817000</td>\n",
              "      <td>0.000000</td>\n",
              "      <td>13.559000</td>\n",
              "      <td>8.333000</td>\n",
              "      <td>1.429000</td>\n",
              "      <td>0.000000</td>\n",
              "      <td>0.00000</td>\n",
              "      <td>14.000000</td>\n",
              "      <td>93.000000</td>\n",
              "      <td>105.517000</td>\n",
              "      <td>0.000000</td>\n",
              "      <td>0.000000</td>\n",
              "      <td>0.000000</td>\n",
              "      <td>0.000000</td>\n",
              "      <td>0.000000</td>\n",
              "      <td>0.000000</td>\n",
              "      <td>0.709000</td>\n",
              "      <td>0.000000</td>\n",
              "      <td>2.222000</td>\n",
              "      <td>0.180495</td>\n",
              "      <td>0.000000</td>\n",
              "      <td>0.000000</td>\n",
              "      <td>15.000000</td>\n",
              "      <td>16.000000</td>\n",
              "      <td>9.434916</td>\n",
              "      <td>13.000000</td>\n",
              "    </tr>\n",
              "    <tr>\n",
              "      <th>75%</th>\n",
              "      <td>75.000000</td>\n",
              "      <td>1.000000</td>\n",
              "      <td>62.000000</td>\n",
              "      <td>13.000000</td>\n",
              "      <td>10.500000</td>\n",
              "      <td>0.765000</td>\n",
              "      <td>121.304000</td>\n",
              "      <td>1.500000</td>\n",
              "      <td>0.000000</td>\n",
              "      <td>1.000000</td>\n",
              "      <td>0.440000</td>\n",
              "      <td>30.000000</td>\n",
              "      <td>20.000000</td>\n",
              "      <td>19.048000</td>\n",
              "      <td>7.692000</td>\n",
              "      <td>2.062000</td>\n",
              "      <td>64.706000</td>\n",
              "      <td>0.000000</td>\n",
              "      <td>33.333000</td>\n",
              "      <td>7.143000</td>\n",
              "      <td>55.556000</td>\n",
              "      <td>9.677000</td>\n",
              "      <td>5.464000</td>\n",
              "      <td>6.250000</td>\n",
              "      <td>1.399000</td>\n",
              "      <td>17.284000</td>\n",
              "      <td>12.329000</td>\n",
              "      <td>2.000000</td>\n",
              "      <td>1.000000</td>\n",
              "      <td>1.00000</td>\n",
              "      <td>20.000000</td>\n",
              "      <td>132.000000</td>\n",
              "      <td>140.000000</td>\n",
              "      <td>0.000000</td>\n",
              "      <td>1.000000</td>\n",
              "      <td>0.000000</td>\n",
              "      <td>0.000000</td>\n",
              "      <td>0.952000</td>\n",
              "      <td>1.064000</td>\n",
              "      <td>2.041000</td>\n",
              "      <td>0.000000</td>\n",
              "      <td>4.225000</td>\n",
              "      <td>0.333000</td>\n",
              "      <td>0.000000</td>\n",
              "      <td>0.019000</td>\n",
              "      <td>17.000000</td>\n",
              "      <td>19.000000</td>\n",
              "      <td>13.000000</td>\n",
              "      <td>16.000000</td>\n",
              "    </tr>\n",
              "    <tr>\n",
              "      <th>max</th>\n",
              "      <td>90.000000</td>\n",
              "      <td>1.000000</td>\n",
              "      <td>259.000000</td>\n",
              "      <td>56.000000</td>\n",
              "      <td>28.000000</td>\n",
              "      <td>1.000000</td>\n",
              "      <td>430.000000</td>\n",
              "      <td>4.000000</td>\n",
              "      <td>15.385000</td>\n",
              "      <td>15.000000</td>\n",
              "      <td>1.000000</td>\n",
              "      <td>100.000000</td>\n",
              "      <td>100.000000</td>\n",
              "      <td>100.000000</td>\n",
              "      <td>20.000000</td>\n",
              "      <td>25.000000</td>\n",
              "      <td>125.000000</td>\n",
              "      <td>100.000000</td>\n",
              "      <td>100.000000</td>\n",
              "      <td>100.000000</td>\n",
              "      <td>140.000000</td>\n",
              "      <td>22.222000</td>\n",
              "      <td>33.333000</td>\n",
              "      <td>29.412000</td>\n",
              "      <td>20.000000</td>\n",
              "      <td>50.000000</td>\n",
              "      <td>40.000000</td>\n",
              "      <td>44.000000</td>\n",
              "      <td>17.000000</td>\n",
              "      <td>13.00000</td>\n",
              "      <td>81.000000</td>\n",
              "      <td>623.000000</td>\n",
              "      <td>523.043000</td>\n",
              "      <td>5.738000</td>\n",
              "      <td>5.000000</td>\n",
              "      <td>7.273000</td>\n",
              "      <td>7.500000</td>\n",
              "      <td>7.143000</td>\n",
              "      <td>10.000000</td>\n",
              "      <td>28.395000</td>\n",
              "      <td>3.704000</td>\n",
              "      <td>39.506000</td>\n",
              "      <td>1.000000</td>\n",
              "      <td>0.250000</td>\n",
              "      <td>2.000000</td>\n",
              "      <td>22.000000</td>\n",
              "      <td>30.000000</td>\n",
              "      <td>19.000000</td>\n",
              "      <td>29.000000</td>\n",
              "    </tr>\n",
              "  </tbody>\n",
              "</table>\n",
              "</div>"
            ],
            "text/plain": [
              "               Age          Sex  ...            Q            S\n",
              "count  1005.000000  1005.000000  ...  1005.000000  1005.000000\n",
              "mean     69.665672     0.356219  ...     9.538471    13.031159\n",
              "std       8.515375     0.479119  ...     3.868608     5.510880\n",
              "min      46.000000     0.000000  ...     0.000000     0.000000\n",
              "25%      64.000000     0.000000  ...     8.000000    10.000000\n",
              "50%      69.000000     0.000000  ...     9.434916    13.000000\n",
              "75%      75.000000     1.000000  ...    13.000000    16.000000\n",
              "max      90.000000     1.000000  ...    19.000000    29.000000\n",
              "\n",
              "[8 rows x 49 columns]"
            ]
          },
          "metadata": {
            "tags": []
          },
          "execution_count": 8
        }
      ]
    },
    {
      "cell_type": "code",
      "metadata": {
        "trusted": true,
        "colab": {
          "base_uri": "https://localhost:8080/",
          "height": 836
        },
        "id": "FFFG-M6UFcv7",
        "outputId": "95e7b583-4814-41da-ddfa-79f40db0febc"
      },
      "source": [
        "mask = np.zeros_like(df.corr(), dtype=np.bool)\n",
        "mask[np.triu_indices_from(mask)] = True\n",
        "sns.set_style('whitegrid')\n",
        "plt.subplots(figsize = (15,12))\n",
        "sns.heatmap(df.corr(), \n",
        "            annot=False,\n",
        "            mask = mask,\n",
        "            cmap = 'RdBu',\n",
        "            linewidths=.9, \n",
        "            linecolor='white',\n",
        "            fmt='.2g',\n",
        "            center = 0,\n",
        "            square=True)"
      ],
      "execution_count": 9,
      "outputs": [
        {
          "output_type": "execute_result",
          "data": {
            "text/plain": [
              "<matplotlib.axes._subplots.AxesSubplot at 0x7f082e59a400>"
            ]
          },
          "metadata": {
            "tags": []
          },
          "execution_count": 9
        },
        {
          "output_type": "display_data",
          "data": {
            "image/png": "[encoded data removed]",
            "text/plain": [
              "<Figure size 1080x864 with 2 Axes>"
            ]
          },
          "metadata": {
            "tags": []
          }
        }
      ]
    },
    {
      "cell_type": "markdown",
      "metadata": {
        "id": "D6H-BP-yFcwy"
      },
      "source": [
        "## Classify Probable AD and Control (other categories removed)\n",
        "\n"
      ]
    },
    {
      "cell_type": "code",
      "metadata": {
        "trusted": true,
        "colab": {
          "base_uri": "https://localhost:8080/"
        },
        "id": "TTb6urXcFcwy",
        "outputId": "aaeab151-625f-4387-bb4f-ca7197f9b25e"
      },
      "source": [
        "df = df[df[\"Group\"] != \"MCI\"]\n",
        "df = df[df[\"Group\"] != \"Vascular\"]\n",
        "df = df[df[\"Group\"] != \"Memory\"]\n",
        "df = df[df[\"Group\"] != \"PossibleAD\"]\n",
        "df.Group.value_counts()"
      ],
      "execution_count": 5,
      "outputs": [
        {
          "output_type": "execute_result",
          "data": {
            "text/plain": [
              "ProbableAD    762\n",
              "Control       243\n",
              "Name: Group, dtype: int64"
            ]
          },
          "metadata": {
            "tags": []
          },
          "execution_count": 5
        }
      ]
    },
    {
      "cell_type": "code",
      "metadata": {
        "trusted": true,
        "id": "CTHvDItKFcwy"
      },
      "source": [
        "X = df.drop(columns = ['Group'])\n",
        "y = df.Group"
      ],
      "execution_count": 6,
      "outputs": []
    },
    {
      "cell_type": "code",
      "metadata": {
        "trusted": true,
        "id": "7qUEwmD8Fcwz"
      },
      "source": [
        "from sklearn.model_selection import train_test_split\n",
        "X_train, X_test, y_train, y_test = train_test_split(X, y, test_size=0.2, random_state=12)"
      ],
      "execution_count": 10,
      "outputs": []
    },
    {
      "cell_type": "code",
      "metadata": {
        "trusted": true,
        "id": "mntR2E-KFcwz"
      },
      "source": [
        "from sklearn.preprocessing import StandardScaler\n",
        "scaler = StandardScaler()\n",
        "scaled_X_train = scaler.fit_transform(X_train)\n",
        "scaled_X_test = scaler.transform(X_test)"
      ],
      "execution_count": 11,
      "outputs": []
    },
    {
      "cell_type": "code",
      "metadata": {
        "trusted": true,
        "id": "EypGm87qFcw0"
      },
      "source": [
        "from sklearn.model_selection import GridSearchCV\n",
        "\n",
        "from sklearn.tree import DecisionTreeClassifier\n",
        "from sklearn.ensemble import RandomForestClassifier\n",
        "from xgboost.sklearn import XGBClassifier\n",
        "from sklearn.svm import SVC\n",
        "\n",
        "from sklearn.metrics import roc_auc_score, accuracy_score, log_loss, plot_confusion_matrix"
      ],
      "execution_count": 12,
      "outputs": []
    },
    {
      "cell_type": "markdown",
      "metadata": {
        "id": "VsCoDY3SFcw0"
      },
      "source": [
        "### Decision Tree"
      ]
    },
    {
      "cell_type": "code",
      "metadata": {
        "trusted": true,
        "colab": {
          "base_uri": "https://localhost:8080/"
        },
        "id": "geBlJfDCFcw0",
        "outputId": "616ce6e4-0010-466b-fd56-19f27abc65f8"
      },
      "source": [
        "parameters = {'min_samples_split': np.linspace(0, 0.1, 100), 'max_depth': [i for i in range(7, 10)]}\n",
        "dtc = DecisionTreeClassifier(random_state = 12)\n",
        "\n",
        "clf1 = GridSearchCV(dtc, parameters, cv=5, scoring='accuracy', verbose=5, n_jobs=-1)\n",
        "result = clf1.fit(scaled_X_train, y_train.ravel())\n",
        "print(\"Best: %f using %s\" % (result.best_score_, result.best_params_))"
      ],
      "execution_count": 13,
      "outputs": [
        {
          "output_type": "stream",
          "text": [
            "Fitting 5 folds for each of 300 candidates, totalling 1500 fits\n"
          ],
          "name": "stdout"
        },
        {
          "output_type": "stream",
          "text": [
            "[Parallel(n_jobs=-1)]: Using backend LokyBackend with 2 concurrent workers.\n",
            "[Parallel(n_jobs=-1)]: Done  14 tasks      | elapsed:    1.3s\n",
            "[Parallel(n_jobs=-1)]: Done 712 tasks      | elapsed:    6.9s\n"
          ],
          "name": "stderr"
        },
        {
          "output_type": "stream",
          "text": [
            "Best: 0.890543 using {'max_depth': 9, 'min_samples_split': 0.00505050505050505}\n"
          ],
          "name": "stdout"
        },
        {
          "output_type": "stream",
          "text": [
            "[Parallel(n_jobs=-1)]: Done 1500 out of 1500 | elapsed:   13.2s finished\n"
          ],
          "name": "stderr"
        }
      ]
    },
    {
      "cell_type": "code",
      "metadata": {
        "trusted": true,
        "id": "WSlf1d4wFcw0"
      },
      "source": [
        "y_pred = clf1.predict(scaled_X_test)"
      ],
      "execution_count": 14,
      "outputs": []
    },
    {
      "cell_type": "code",
      "metadata": {
        "trusted": true,
        "colab": {
          "base_uri": "https://localhost:8080/"
        },
        "id": "6TFSGCsaFcw1",
        "outputId": "65b418a3-6865-46b4-ddfd-2c9ee7279d1f"
      },
      "source": [
        "x = (y_pred == y_test.values).sum()\n",
        "print(x, 'Correct out of', len(y_pred))\n",
        "print('Accuracy: ', x/len(y_pred))"
      ],
      "execution_count": 15,
      "outputs": [
        {
          "output_type": "stream",
          "text": [
            "172 Correct out of 201\n",
            "Accuracy:  0.8557213930348259\n"
          ],
          "name": "stdout"
        }
      ]
    },
    {
      "cell_type": "code",
      "metadata": {
        "trusted": true,
        "colab": {
          "base_uri": "https://localhost:8080/",
          "height": 262
        },
        "id": "pTiLgovSFcw1",
        "outputId": "a4e64caf-5041-487e-bfe4-26984ddf72fc"
      },
      "source": [
        "fig, ax = plt.subplots(figsize=(4, 4))\n",
        "plot_confusion_matrix(clf1, scaled_X_test, y_test,  normalize = 'true', cmap=plt.cm.Blues, ax = ax)\n",
        "plt.show()"
      ],
      "execution_count": 16,
      "outputs": [
        {
          "output_type": "display_data",
          "data": {
            "image/png": "[encoded data removed]",
            "text/plain": [
              "<Figure size 288x288 with 2 Axes>"
            ]
          },
          "metadata": {
            "tags": []
          }
        }
      ]
    },
    {
      "cell_type": "markdown",
      "metadata": {
        "id": "ulZr8-wVFcw1"
      },
      "source": [
        "### Random Forest"
      ]
    },
    {
      "cell_type": "code",
      "metadata": {
        "trusted": true,
        "colab": {
          "base_uri": "https://localhost:8080/"
        },
        "id": "GpkgXi_4Fcw2",
        "outputId": "498d9e2a-99a7-4e91-f02f-783e36b5569e"
      },
      "source": [
        "parameters = {'n_estimators': [i*10 for i in range(20, 26)], 'min_samples_split': np.linspace(0, 0.1, 10), 'max_depth': [i for i in range(5, 10)]}\n",
        "\n",
        "rfc = RandomForestClassifier(random_state = 12)\n",
        "clf2 = GridSearchCV(rfc, parameters, cv=5, scoring='accuracy', verbose=5, n_jobs=-1)\n",
        "result = clf2.fit(scaled_X_train, y_train.ravel())\n",
        "print(\"Best: %f using %s\" % (result.best_score_, result.best_params_))"
      ],
      "execution_count": 18,
      "outputs": [
        {
          "output_type": "stream",
          "text": [
            "Fitting 5 folds for each of 300 candidates, totalling 1500 fits\n"
          ],
          "name": "stdout"
        },
        {
          "output_type": "stream",
          "text": [
            "[Parallel(n_jobs=-1)]: Using backend LokyBackend with 2 concurrent workers.\n",
            "[Parallel(n_jobs=-1)]: Done  14 tasks      | elapsed:    2.0s\n",
            "[Parallel(n_jobs=-1)]: Done  68 tasks      | elapsed:   17.7s\n",
            "[Parallel(n_jobs=-1)]: Done 158 tasks      | elapsed:   52.0s\n",
            "[Parallel(n_jobs=-1)]: Done 284 tasks      | elapsed:  1.6min\n",
            "[Parallel(n_jobs=-1)]: Done 446 tasks      | elapsed:  2.5min\n",
            "[Parallel(n_jobs=-1)]: Done 644 tasks      | elapsed:  3.6min\n",
            "[Parallel(n_jobs=-1)]: Done 878 tasks      | elapsed:  5.2min\n",
            "[Parallel(n_jobs=-1)]: Done 1148 tasks      | elapsed:  6.8min\n",
            "[Parallel(n_jobs=-1)]: Done 1454 tasks      | elapsed:  8.6min\n",
            "[Parallel(n_jobs=-1)]: Done 1500 out of 1500 | elapsed:  8.9min finished\n"
          ],
          "name": "stderr"
        },
        {
          "output_type": "stream",
          "text": [
            "Best: 0.936592 using {'max_depth': 8, 'min_samples_split': 0.022222222222222223, 'n_estimators': 240}\n"
          ],
          "name": "stdout"
        }
      ]
    },
    {
      "cell_type": "code",
      "metadata": {
        "trusted": true,
        "id": "SGpR_lx4Fcw2"
      },
      "source": [
        "y_pred = clf2.predict(scaled_X_test)"
      ],
      "execution_count": 19,
      "outputs": []
    },
    {
      "cell_type": "code",
      "metadata": {
        "trusted": true,
        "colab": {
          "base_uri": "https://localhost:8080/"
        },
        "id": "3X-sqOcWFcw2",
        "outputId": "cea1defb-ee3c-483b-bd01-97a5af252b0d"
      },
      "source": [
        "x = (y_pred == y_test.values).sum()\n",
        "print(x, 'Correct out of', len(y_pred))\n",
        "print('Accuracy: ', x/len(y_pred))"
      ],
      "execution_count": 20,
      "outputs": [
        {
          "output_type": "stream",
          "text": [
            "173 Correct out of 201\n",
            "Accuracy:  0.8606965174129353\n"
          ],
          "name": "stdout"
        }
      ]
    },
    {
      "cell_type": "code",
      "metadata": {
        "trusted": true,
        "colab": {
          "base_uri": "https://localhost:8080/",
          "height": 260
        },
        "id": "WLIU_SpSFcw3",
        "outputId": "c970ef9d-d507-4bb6-89b2-993fa7c9b439"
      },
      "source": [
        "fig, ax = plt.subplots(figsize=(4, 4))\n",
        "plot_confusion_matrix(clf2, scaled_X_test, y_test, normalize = 'true', cmap=plt.cm.Blues, ax = ax)\n",
        "plt.show()"
      ],
      "execution_count": 21,
      "outputs": [
        {
          "output_type": "display_data",
          "data": {
            "image/png": "[encoded data removed]",
            "text/plain": [
              "<Figure size 288x288 with 2 Axes>"
            ]
          },
          "metadata": {
            "tags": []
          }
        }
      ]
    },
    {
      "cell_type": "markdown",
      "metadata": {
        "id": "HillHKjiFcw3"
      },
      "source": [
        "### XGB Classifier"
      ]
    },
    {
      "cell_type": "code",
      "metadata": {
        "trusted": true,
        "colab": {
          "base_uri": "https://localhost:8080/"
        },
        "id": "x6pYp1pPFcw3",
        "outputId": "374b17f6-bb00-40ca-8978-560b80fb3edd"
      },
      "source": [
        "parameters = {'n_estimators': [i*10 for i in range(5, 11)], 'max_depth': [2*i for i in range(1, 5)], 'colsample_bytree': [0.01*i for i in range(60, 70)]}\n",
        "xgb = XGBClassifier(seed = 12)\n",
        "clf3 = GridSearchCV(xgb, parameters, cv=5, scoring='accuracy', verbose=5, n_jobs=-1)\n",
        "result = clf3.fit(scaled_X_train, y_train.ravel())\n",
        "print(\"Best: %f using %s\" % (result.best_score_, result.best_params_))"
      ],
      "execution_count": 22,
      "outputs": [
        {
          "output_type": "stream",
          "text": [
            "Fitting 5 folds for each of 240 candidates, totalling 1200 fits\n"
          ],
          "name": "stdout"
        },
        {
          "output_type": "stream",
          "text": [
            "[Parallel(n_jobs=-1)]: Using backend LokyBackend with 2 concurrent workers.\n",
            "[Parallel(n_jobs=-1)]: Done  14 tasks      | elapsed:    1.2s\n",
            "[Parallel(n_jobs=-1)]: Done  68 tasks      | elapsed:    5.4s\n",
            "[Parallel(n_jobs=-1)]: Done 158 tasks      | elapsed:   13.7s\n",
            "[Parallel(n_jobs=-1)]: Done 284 tasks      | elapsed:   25.1s\n",
            "[Parallel(n_jobs=-1)]: Done 446 tasks      | elapsed:   40.6s\n",
            "[Parallel(n_jobs=-1)]: Done 644 tasks      | elapsed:   58.7s\n",
            "[Parallel(n_jobs=-1)]: Done 878 tasks      | elapsed:  1.4min\n",
            "[Parallel(n_jobs=-1)]: Done 1148 tasks      | elapsed:  1.8min\n",
            "[Parallel(n_jobs=-1)]: Done 1200 out of 1200 | elapsed:  1.9min finished\n"
          ],
          "name": "stderr"
        },
        {
          "output_type": "stream",
          "text": [
            "Best: 0.941553 using {'colsample_bytree': 0.62, 'max_depth': 6, 'n_estimators': 90}\n"
          ],
          "name": "stdout"
        }
      ]
    },
    {
      "cell_type": "code",
      "metadata": {
        "trusted": true,
        "id": "r_FxVetTFcw3"
      },
      "source": [
        "clf3 = XGBClassifier(colsample_bytree= 0.65, max_depth= 2, n_estimators= 90)\n",
        "clf3.fit(scaled_X_train, y_train.ravel())"
      ],
      "execution_count": null,
      "outputs": []
    },
    {
      "cell_type": "code",
      "metadata": {
        "trusted": true,
        "id": "RkN2_SyBFcw4"
      },
      "source": [
        "y_pred = clf3.predict(scaled_X_test)"
      ],
      "execution_count": 23,
      "outputs": []
    },
    {
      "cell_type": "code",
      "metadata": {
        "trusted": true,
        "colab": {
          "base_uri": "https://localhost:8080/"
        },
        "id": "b83L4YdQFcw4",
        "outputId": "b8832c16-458e-4923-9cf0-cda59b61a3a7"
      },
      "source": [
        "x = (y_pred == y_test.values).sum()\n",
        "print(x, 'Correct out of', len(y_pred))\n",
        "print('Accuracy: ', x/len(y_pred))"
      ],
      "execution_count": 24,
      "outputs": [
        {
          "output_type": "stream",
          "text": [
            "179 Correct out of 201\n",
            "Accuracy:  0.8905472636815921\n"
          ],
          "name": "stdout"
        }
      ]
    },
    {
      "cell_type": "code",
      "metadata": {
        "trusted": true,
        "colab": {
          "base_uri": "https://localhost:8080/",
          "height": 260
        },
        "id": "aPQh4qzpFcw4",
        "outputId": "0c6568eb-900f-4b43-a938-294f4a2c591e"
      },
      "source": [
        "fig, ax = plt.subplots(figsize=(4, 4))\n",
        "plot_confusion_matrix(clf3, scaled_X_test, y_test,  normalize = 'true', cmap=plt.cm.Blues, ax = ax)\n",
        "plt.show()"
      ],
      "execution_count": 25,
      "outputs": [
        {
          "output_type": "display_data",
          "data": {
            "image/png": "[encoded data removed]",
            "text/plain": [
              "<Figure size 288x288 with 2 Axes>"
            ]
          },
          "metadata": {
            "tags": []
          }
        }
      ]
    },
    {
      "cell_type": "markdown",
      "metadata": {
        "id": "GBuvO9K2Fcw5"
      },
      "source": [
        "### Support Vector Classifier"
      ]
    },
    {
      "cell_type": "code",
      "metadata": {
        "trusted": true,
        "colab": {
          "base_uri": "https://localhost:8080/"
        },
        "id": "EDx5TP94Fcw5",
        "outputId": "039787a7-8de6-497e-a09d-f6c2288ce31b"
      },
      "source": [
        "parameters = {'C': np.linspace(7, 15, 100), 'kernel': ('poly', 'rbf', 'sigmoid')}\n",
        "svc = SVC(random_state = 12)\n",
        "clf4 = GridSearchCV(svc, parameters, cv=5, scoring='accuracy', verbose=5, n_jobs=-1)\n",
        "result = clf4.fit(scaled_X_train, y_train.ravel())\n",
        "print(\"Best: %f using %s\" % (result.best_score_, result.best_params_))"
      ],
      "execution_count": 26,
      "outputs": [
        {
          "output_type": "stream",
          "text": [
            "Fitting 5 folds for each of 300 candidates, totalling 1500 fits\n"
          ],
          "name": "stdout"
        },
        {
          "output_type": "stream",
          "text": [
            "[Parallel(n_jobs=-1)]: Using backend LokyBackend with 2 concurrent workers.\n",
            "[Parallel(n_jobs=-1)]: Done  14 tasks      | elapsed:    1.1s\n",
            "[Parallel(n_jobs=-1)]: Done 392 tasks      | elapsed:    6.5s\n",
            "[Parallel(n_jobs=-1)]: Done 1112 tasks      | elapsed:   16.8s\n"
          ],
          "name": "stderr"
        },
        {
          "output_type": "stream",
          "text": [
            "Best: 0.927888 using {'C': 11.202020202020202, 'kernel': 'rbf'}\n"
          ],
          "name": "stdout"
        },
        {
          "output_type": "stream",
          "text": [
            "[Parallel(n_jobs=-1)]: Done 1500 out of 1500 | elapsed:   22.3s finished\n"
          ],
          "name": "stderr"
        }
      ]
    },
    {
      "cell_type": "code",
      "metadata": {
        "trusted": true,
        "id": "JUiqVZcdFcw6"
      },
      "source": [
        "y_pred = clf4.predict(scaled_X_test)"
      ],
      "execution_count": 27,
      "outputs": []
    },
    {
      "cell_type": "code",
      "metadata": {
        "trusted": true,
        "colab": {
          "base_uri": "https://localhost:8080/"
        },
        "id": "cT7IeTRMFcw8",
        "outputId": "e8ee65cc-43e3-49d7-dec7-f960f2121fa8"
      },
      "source": [
        "x = (y_pred == y_test.values).sum()\n",
        "print(x, 'Correct out of', len(y_pred))\n",
        "print('Accuracy: ', x/len(y_pred))"
      ],
      "execution_count": 28,
      "outputs": [
        {
          "output_type": "stream",
          "text": [
            "181 Correct out of 201\n",
            "Accuracy:  0.900497512437811\n"
          ],
          "name": "stdout"
        }
      ]
    },
    {
      "cell_type": "code",
      "metadata": {
        "trusted": true,
        "colab": {
          "base_uri": "https://localhost:8080/",
          "height": 260
        },
        "id": "N2AreFNLFcw9",
        "outputId": "591cf584-04b2-4bf1-ac60-3c4d91058db2"
      },
      "source": [
        "fig, ax = plt.subplots(figsize=(4, 4))\n",
        "plot_confusion_matrix(clf4, scaled_X_test, y_test,  normalize = 'true', cmap=plt.cm.Blues, ax = ax)\n",
        "plt.show()"
      ],
      "execution_count": 29,
      "outputs": [
        {
          "output_type": "display_data",
          "data": {
            "image/png": "[encoded data removed]",
            "text/plain": [
              "<Figure size 288x288 with 2 Axes>"
            ]
          },
          "metadata": {
            "tags": []
          }
        }
      ]
    }
  ]
}